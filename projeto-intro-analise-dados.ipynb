{
 "cells": [
  {
   "cell_type": "markdown",
   "id": "09e3c82d",
   "metadata": {},
   "source": [
    "### Projeto de avaliação da disciplina Introdução à Análise de Dados - Prof. Luciano Barbosa\n",
    "#### Alunos: David Soares (dsm3@cin.ufpe.br) & Wanderson R. Marques (wrm@cin.ufpe.br)"
   ]
  },
  {
   "cell_type": "markdown",
   "id": "c80a1cc7",
   "metadata": {},
   "source": [
    "#### Importação das Bibliotecas e do Dataset"
   ]
  },
  {
   "cell_type": "code",
   "execution_count": 98,
   "id": "74dfc811",
   "metadata": {},
   "outputs": [],
   "source": [
    "import pandas as pd\n",
    "import numpy as np\n",
    "import matplotlib.pyplot as plt"
   ]
  },
  {
   "cell_type": "code",
   "execution_count": 99,
   "id": "ef7f2ac3",
   "metadata": {},
   "outputs": [],
   "source": [
    "# Importação dataset\n",
    "df = pd.read_csv('Focos_2021-01-01_2021-08-31.csv')"
   ]
  },
  {
   "cell_type": "code",
   "execution_count": 100,
   "id": "0c535dd4",
   "metadata": {},
   "outputs": [
    {
     "data": {
      "text/plain": [
       "(10448, 12)"
      ]
     },
     "execution_count": 100,
     "metadata": {},
     "output_type": "execute_result"
    }
   ],
   "source": [
    "# Número de linhas e colunas do DataSet\n",
    "df.shape"
   ]
  },
  {
   "cell_type": "code",
   "execution_count": 101,
   "id": "9fb6cddf",
   "metadata": {},
   "outputs": [
    {
     "data": {
      "text/html": [
       "<div>\n",
       "<style scoped>\n",
       "    .dataframe tbody tr th:only-of-type {\n",
       "        vertical-align: middle;\n",
       "    }\n",
       "\n",
       "    .dataframe tbody tr th {\n",
       "        vertical-align: top;\n",
       "    }\n",
       "\n",
       "    .dataframe thead th {\n",
       "        text-align: right;\n",
       "    }\n",
       "</style>\n",
       "<table border=\"1\" class=\"dataframe\">\n",
       "  <thead>\n",
       "    <tr style=\"text-align: right;\">\n",
       "      <th></th>\n",
       "      <th>datahora</th>\n",
       "      <th>satelite</th>\n",
       "      <th>pais</th>\n",
       "      <th>estado</th>\n",
       "      <th>municipio</th>\n",
       "      <th>bioma</th>\n",
       "      <th>diasemchuva</th>\n",
       "      <th>precipitacao</th>\n",
       "      <th>riscofogo</th>\n",
       "      <th>latitude</th>\n",
       "      <th>longitude</th>\n",
       "      <th>frp</th>\n",
       "    </tr>\n",
       "  </thead>\n",
       "  <tbody>\n",
       "    <tr>\n",
       "      <th>0</th>\n",
       "      <td>2021/01/01 17:00:00</td>\n",
       "      <td>AQUA_M-T</td>\n",
       "      <td>Brasil</td>\n",
       "      <td>PARA</td>\n",
       "      <td>SANTA MARIA DAS BARREIRAS</td>\n",
       "      <td>Amazonia</td>\n",
       "      <td>NaN</td>\n",
       "      <td>NaN</td>\n",
       "      <td>NaN</td>\n",
       "      <td>-8.577</td>\n",
       "      <td>-49.952</td>\n",
       "      <td>8.8</td>\n",
       "    </tr>\n",
       "    <tr>\n",
       "      <th>1</th>\n",
       "      <td>2021/01/01 17:05:00</td>\n",
       "      <td>AQUA_M-T</td>\n",
       "      <td>Brasil</td>\n",
       "      <td>PARA</td>\n",
       "      <td>AVEIRO</td>\n",
       "      <td>Amazonia</td>\n",
       "      <td>NaN</td>\n",
       "      <td>NaN</td>\n",
       "      <td>NaN</td>\n",
       "      <td>-3.909</td>\n",
       "      <td>-56.037</td>\n",
       "      <td>18.9</td>\n",
       "    </tr>\n",
       "    <tr>\n",
       "      <th>2</th>\n",
       "      <td>2021/01/01 17:05:00</td>\n",
       "      <td>AQUA_M-T</td>\n",
       "      <td>Brasil</td>\n",
       "      <td>PARA</td>\n",
       "      <td>AVEIRO</td>\n",
       "      <td>Amazonia</td>\n",
       "      <td>NaN</td>\n",
       "      <td>NaN</td>\n",
       "      <td>NaN</td>\n",
       "      <td>-3.904</td>\n",
       "      <td>-56.045</td>\n",
       "      <td>9.5</td>\n",
       "    </tr>\n",
       "    <tr>\n",
       "      <th>3</th>\n",
       "      <td>2021/01/01 17:05:00</td>\n",
       "      <td>AQUA_M-T</td>\n",
       "      <td>Brasil</td>\n",
       "      <td>PARA</td>\n",
       "      <td>JACAREACANGA</td>\n",
       "      <td>Amazonia</td>\n",
       "      <td>NaN</td>\n",
       "      <td>NaN</td>\n",
       "      <td>NaN</td>\n",
       "      <td>-5.845</td>\n",
       "      <td>-57.716</td>\n",
       "      <td>149.8</td>\n",
       "    </tr>\n",
       "    <tr>\n",
       "      <th>4</th>\n",
       "      <td>2021/01/01 17:05:00</td>\n",
       "      <td>AQUA_M-T</td>\n",
       "      <td>Brasil</td>\n",
       "      <td>PARA</td>\n",
       "      <td>ORIXIMINA</td>\n",
       "      <td>Amazonia</td>\n",
       "      <td>NaN</td>\n",
       "      <td>NaN</td>\n",
       "      <td>NaN</td>\n",
       "      <td>-1.587</td>\n",
       "      <td>-55.922</td>\n",
       "      <td>11.3</td>\n",
       "    </tr>\n",
       "  </tbody>\n",
       "</table>\n",
       "</div>"
      ],
      "text/plain": [
       "              datahora  satelite    pais estado                  municipio  \\\n",
       "0  2021/01/01 17:00:00  AQUA_M-T  Brasil   PARA  SANTA MARIA DAS BARREIRAS   \n",
       "1  2021/01/01 17:05:00  AQUA_M-T  Brasil   PARA                     AVEIRO   \n",
       "2  2021/01/01 17:05:00  AQUA_M-T  Brasil   PARA                     AVEIRO   \n",
       "3  2021/01/01 17:05:00  AQUA_M-T  Brasil   PARA               JACAREACANGA   \n",
       "4  2021/01/01 17:05:00  AQUA_M-T  Brasil   PARA                  ORIXIMINA   \n",
       "\n",
       "      bioma  diasemchuva  precipitacao  riscofogo  latitude  longitude    frp  \n",
       "0  Amazonia          NaN           NaN        NaN    -8.577    -49.952    8.8  \n",
       "1  Amazonia          NaN           NaN        NaN    -3.909    -56.037   18.9  \n",
       "2  Amazonia          NaN           NaN        NaN    -3.904    -56.045    9.5  \n",
       "3  Amazonia          NaN           NaN        NaN    -5.845    -57.716  149.8  \n",
       "4  Amazonia          NaN           NaN        NaN    -1.587    -55.922   11.3  "
      ]
     },
     "execution_count": 101,
     "metadata": {},
     "output_type": "execute_result"
    }
   ],
   "source": [
    "# Amostra do dataset\n",
    "df.head()"
   ]
  },
  {
   "cell_type": "code",
   "execution_count": 117,
   "id": "68075698",
   "metadata": {},
   "outputs": [
    {
     "data": {
      "text/html": [
       "<div>\n",
       "<style scoped>\n",
       "    .dataframe tbody tr th:only-of-type {\n",
       "        vertical-align: middle;\n",
       "    }\n",
       "\n",
       "    .dataframe tbody tr th {\n",
       "        vertical-align: top;\n",
       "    }\n",
       "\n",
       "    .dataframe thead th {\n",
       "        text-align: right;\n",
       "    }\n",
       "</style>\n",
       "<table border=\"1\" class=\"dataframe\">\n",
       "  <thead>\n",
       "    <tr style=\"text-align: right;\">\n",
       "      <th></th>\n",
       "      <th>diasemchuva</th>\n",
       "      <th>precipitacao</th>\n",
       "      <th>riscofogo</th>\n",
       "      <th>latitude</th>\n",
       "      <th>longitude</th>\n",
       "      <th>frp</th>\n",
       "    </tr>\n",
       "  </thead>\n",
       "  <tbody>\n",
       "    <tr>\n",
       "      <th>count</th>\n",
       "      <td>10134.000000</td>\n",
       "      <td>10134.000000</td>\n",
       "      <td>10134.000000</td>\n",
       "      <td>10134.000000</td>\n",
       "      <td>10134.000000</td>\n",
       "      <td>10134.000000</td>\n",
       "    </tr>\n",
       "    <tr>\n",
       "      <th>mean</th>\n",
       "      <td>13.182850</td>\n",
       "      <td>0.647454</td>\n",
       "      <td>0.673278</td>\n",
       "      <td>-6.002143</td>\n",
       "      <td>-53.505437</td>\n",
       "      <td>84.375064</td>\n",
       "    </tr>\n",
       "    <tr>\n",
       "      <th>std</th>\n",
       "      <td>15.701166</td>\n",
       "      <td>2.910498</td>\n",
       "      <td>0.345792</td>\n",
       "      <td>2.090318</td>\n",
       "      <td>2.761158</td>\n",
       "      <td>187.332087</td>\n",
       "    </tr>\n",
       "    <tr>\n",
       "      <th>min</th>\n",
       "      <td>0.000000</td>\n",
       "      <td>0.000000</td>\n",
       "      <td>0.000000</td>\n",
       "      <td>-9.791000</td>\n",
       "      <td>-58.437100</td>\n",
       "      <td>3.200000</td>\n",
       "    </tr>\n",
       "    <tr>\n",
       "      <th>25%</th>\n",
       "      <td>4.000000</td>\n",
       "      <td>0.000000</td>\n",
       "      <td>0.400000</td>\n",
       "      <td>-7.385388</td>\n",
       "      <td>-55.454228</td>\n",
       "      <td>16.400000</td>\n",
       "    </tr>\n",
       "    <tr>\n",
       "      <th>50%</th>\n",
       "      <td>7.000000</td>\n",
       "      <td>0.000000</td>\n",
       "      <td>0.800000</td>\n",
       "      <td>-6.467755</td>\n",
       "      <td>-54.777885</td>\n",
       "      <td>32.500000</td>\n",
       "    </tr>\n",
       "    <tr>\n",
       "      <th>75%</th>\n",
       "      <td>15.000000</td>\n",
       "      <td>0.000000</td>\n",
       "      <td>1.000000</td>\n",
       "      <td>-5.030550</td>\n",
       "      <td>-51.683982</td>\n",
       "      <td>75.800000</td>\n",
       "    </tr>\n",
       "    <tr>\n",
       "      <th>max</th>\n",
       "      <td>110.000000</td>\n",
       "      <td>48.200000</td>\n",
       "      <td>1.000000</td>\n",
       "      <td>2.315000</td>\n",
       "      <td>-46.218000</td>\n",
       "      <td>3543.400000</td>\n",
       "    </tr>\n",
       "  </tbody>\n",
       "</table>\n",
       "</div>"
      ],
      "text/plain": [
       "        diasemchuva  precipitacao     riscofogo      latitude     longitude  \\\n",
       "count  10134.000000  10134.000000  10134.000000  10134.000000  10134.000000   \n",
       "mean      13.182850      0.647454      0.673278     -6.002143    -53.505437   \n",
       "std       15.701166      2.910498      0.345792      2.090318      2.761158   \n",
       "min        0.000000      0.000000      0.000000     -9.791000    -58.437100   \n",
       "25%        4.000000      0.000000      0.400000     -7.385388    -55.454228   \n",
       "50%        7.000000      0.000000      0.800000     -6.467755    -54.777885   \n",
       "75%       15.000000      0.000000      1.000000     -5.030550    -51.683982   \n",
       "max      110.000000     48.200000      1.000000      2.315000    -46.218000   \n",
       "\n",
       "                frp  \n",
       "count  10134.000000  \n",
       "mean      84.375064  \n",
       "std      187.332087  \n",
       "min        3.200000  \n",
       "25%       16.400000  \n",
       "50%       32.500000  \n",
       "75%       75.800000  \n",
       "max     3543.400000  "
      ]
     },
     "execution_count": 117,
     "metadata": {},
     "output_type": "execute_result"
    }
   ],
   "source": [
    "# Principais estatíscas descritivas dos dados\n",
    "df.describe()"
   ]
  },
  {
   "cell_type": "markdown",
   "id": "f43b02de",
   "metadata": {},
   "source": [
    "### Pré-processamento dos Dados"
   ]
  },
  {
   "cell_type": "markdown",
   "id": "0259b338",
   "metadata": {},
   "source": [
    "#### Definição de Tipos"
   ]
  },
  {
   "cell_type": "code",
   "execution_count": 102,
   "id": "5853feb3",
   "metadata": {},
   "outputs": [
    {
     "data": {
      "text/plain": [
       "datahora         object\n",
       "satelite         object\n",
       "pais             object\n",
       "estado           object\n",
       "municipio        object\n",
       "bioma            object\n",
       "diasemchuva     float64\n",
       "precipitacao    float64\n",
       "riscofogo       float64\n",
       "latitude        float64\n",
       "longitude       float64\n",
       "frp             float64\n",
       "dtype: object"
      ]
     },
     "execution_count": 102,
     "metadata": {},
     "output_type": "execute_result"
    }
   ],
   "source": [
    "# Visualização dos tipos\n",
    "df.dtypes"
   ]
  },
  {
   "cell_type": "code",
   "execution_count": 103,
   "id": "8ee12a1b",
   "metadata": {},
   "outputs": [],
   "source": [
    "# Ajuste dos Tipos\n",
    "df['datahora'] = pd.to_datetime(df['datahora'], format=\"%Y/%m/%d %H:%M:%S\")\n",
    "df['satelite'] = df['satelite'].astype('category')\n",
    "df['pais'] = df['pais'].astype('category')\n",
    "df['estado'] = df['estado'].astype('category')\n",
    "df['municipio'] = df['municipio'].astype('category')\n",
    "df['bioma'] = df['bioma'].astype('category')"
   ]
  },
  {
   "cell_type": "code",
   "execution_count": 104,
   "id": "f9e82c87",
   "metadata": {},
   "outputs": [
    {
     "data": {
      "text/plain": [
       "datahora        datetime64[ns]\n",
       "satelite              category\n",
       "pais                  category\n",
       "estado                category\n",
       "municipio             category\n",
       "bioma                 category\n",
       "diasemchuva            float64\n",
       "precipitacao           float64\n",
       "riscofogo              float64\n",
       "latitude               float64\n",
       "longitude              float64\n",
       "frp                    float64\n",
       "dtype: object"
      ]
     },
     "execution_count": 104,
     "metadata": {},
     "output_type": "execute_result"
    }
   ],
   "source": [
    "# Verificação dos tipos após modificação\n",
    "df.dtypes"
   ]
  },
  {
   "cell_type": "markdown",
   "id": "fc74e8ae",
   "metadata": {},
   "source": [
    "#### Removendo colunas irrelevantes "
   ]
  },
  {
   "cell_type": "markdown",
   "id": "27cc2fd4",
   "metadata": {},
   "source": [
    "As colunas foram removidas porque todas as linhas continham as mesmas informações, a saber: **país(Brasil), estado(Pará), satélite(AQUA_M-T), bioma(Amazonia)**."
   ]
  },
  {
   "cell_type": "code",
   "execution_count": 105,
   "id": "fc44f8bc",
   "metadata": {},
   "outputs": [],
   "source": [
    "df = df.drop(columns=['pais','estado','satelite','bioma'])"
   ]
  },
  {
   "cell_type": "markdown",
   "id": "075769aa",
   "metadata": {},
   "source": [
    "**Remoção de linhas** com dados ausentes, usando o risco de fogo como filtro, pois o cálculo do risco de fogo depende diretamente do conhecimento dos dias sem chuva e do volume de precipitação para aquele dia. Portanto, se a informação do risco de fogo é ausente, implica que a informação dos dias sem chuva e precipitação também é ausente."
   ]
  },
  {
   "cell_type": "code",
   "execution_count": 106,
   "id": "aff45e24",
   "metadata": {},
   "outputs": [],
   "source": [
    "# Remoção de linhas especificando a coluna \"riscofogo\"\n",
    "df.dropna(subset=[\"riscofogo\"], inplace=True)"
   ]
  },
  {
   "cell_type": "code",
   "execution_count": 107,
   "id": "f3031619",
   "metadata": {},
   "outputs": [
    {
     "data": {
      "text/html": [
       "<div>\n",
       "<style scoped>\n",
       "    .dataframe tbody tr th:only-of-type {\n",
       "        vertical-align: middle;\n",
       "    }\n",
       "\n",
       "    .dataframe tbody tr th {\n",
       "        vertical-align: top;\n",
       "    }\n",
       "\n",
       "    .dataframe thead th {\n",
       "        text-align: right;\n",
       "    }\n",
       "</style>\n",
       "<table border=\"1\" class=\"dataframe\">\n",
       "  <thead>\n",
       "    <tr style=\"text-align: right;\">\n",
       "      <th></th>\n",
       "      <th>datahora</th>\n",
       "      <th>municipio</th>\n",
       "      <th>diasemchuva</th>\n",
       "      <th>precipitacao</th>\n",
       "      <th>riscofogo</th>\n",
       "      <th>latitude</th>\n",
       "      <th>longitude</th>\n",
       "      <th>frp</th>\n",
       "    </tr>\n",
       "  </thead>\n",
       "  <tbody>\n",
       "    <tr>\n",
       "      <th>0</th>\n",
       "      <td>2021-01-04 17:35:00</td>\n",
       "      <td>ORIXIMINA</td>\n",
       "      <td>1.0</td>\n",
       "      <td>2.5</td>\n",
       "      <td>0.5</td>\n",
       "      <td>2.066</td>\n",
       "      <td>-55.929</td>\n",
       "      <td>12.6</td>\n",
       "    </tr>\n",
       "    <tr>\n",
       "      <th>1</th>\n",
       "      <td>2021-01-05 16:40:00</td>\n",
       "      <td>MOJU</td>\n",
       "      <td>0.0</td>\n",
       "      <td>15.6</td>\n",
       "      <td>0.0</td>\n",
       "      <td>-3.039</td>\n",
       "      <td>-49.437</td>\n",
       "      <td>13.9</td>\n",
       "    </tr>\n",
       "    <tr>\n",
       "      <th>2</th>\n",
       "      <td>2021-01-05 16:40:00</td>\n",
       "      <td>CAPITAO POCO</td>\n",
       "      <td>2.0</td>\n",
       "      <td>0.7</td>\n",
       "      <td>0.0</td>\n",
       "      <td>-1.931</td>\n",
       "      <td>-47.215</td>\n",
       "      <td>9.2</td>\n",
       "    </tr>\n",
       "    <tr>\n",
       "      <th>3</th>\n",
       "      <td>2021-01-05 16:40:00</td>\n",
       "      <td>BRAGANCA</td>\n",
       "      <td>7.0</td>\n",
       "      <td>0.0</td>\n",
       "      <td>0.7</td>\n",
       "      <td>-1.014</td>\n",
       "      <td>-46.658</td>\n",
       "      <td>18.9</td>\n",
       "    </tr>\n",
       "    <tr>\n",
       "      <th>4</th>\n",
       "      <td>2021-01-05 16:40:00</td>\n",
       "      <td>BRAGANCA</td>\n",
       "      <td>7.0</td>\n",
       "      <td>0.0</td>\n",
       "      <td>0.7</td>\n",
       "      <td>-1.015</td>\n",
       "      <td>-46.667</td>\n",
       "      <td>9.3</td>\n",
       "    </tr>\n",
       "  </tbody>\n",
       "</table>\n",
       "</div>"
      ],
      "text/plain": [
       "             datahora     municipio  diasemchuva  precipitacao  riscofogo  \\\n",
       "0 2021-01-04 17:35:00     ORIXIMINA          1.0           2.5        0.5   \n",
       "1 2021-01-05 16:40:00          MOJU          0.0          15.6        0.0   \n",
       "2 2021-01-05 16:40:00  CAPITAO POCO          2.0           0.7        0.0   \n",
       "3 2021-01-05 16:40:00      BRAGANCA          7.0           0.0        0.7   \n",
       "4 2021-01-05 16:40:00      BRAGANCA          7.0           0.0        0.7   \n",
       "\n",
       "   latitude  longitude   frp  \n",
       "0     2.066    -55.929  12.6  \n",
       "1    -3.039    -49.437  13.9  \n",
       "2    -1.931    -47.215   9.2  \n",
       "3    -1.014    -46.658  18.9  \n",
       "4    -1.015    -46.667   9.3  "
      ]
     },
     "execution_count": 107,
     "metadata": {},
     "output_type": "execute_result"
    }
   ],
   "source": [
    "# Reiniciando os índices \n",
    "df.reset_index(inplace=True,drop=True)\n",
    "df.head()"
   ]
  },
  {
   "cell_type": "markdown",
   "id": "a0aa0d10",
   "metadata": {},
   "source": [
    "**Removendo as linhas** nas quais o \"riscofogo\" é igual a -999, pois isso representa um código de erro desse parâmetro."
   ]
  },
  {
   "cell_type": "code",
   "execution_count": 108,
   "id": "12a2f037",
   "metadata": {},
   "outputs": [],
   "source": [
    "indexNames = df[(df['riscofogo'] == -999)].index\n",
    "df.drop(indexNames, inplace=True)"
   ]
  },
  {
   "cell_type": "code",
   "execution_count": 109,
   "id": "8a2628d4",
   "metadata": {},
   "outputs": [
    {
     "data": {
      "text/plain": [
       "0"
      ]
     },
     "execution_count": 109,
     "metadata": {},
     "output_type": "execute_result"
    }
   ],
   "source": [
    "# Verificando se ainda existe algum valor do \"riscofogo\" igual a -999\n",
    "df[df['riscofogo'] == -999]['riscofogo'].count()"
   ]
  },
  {
   "cell_type": "code",
   "execution_count": 110,
   "id": "efafc828",
   "metadata": {},
   "outputs": [],
   "source": [
    "# Substituição dos valores inválidos (-999) por zero\n",
    "df['diasemchuva'] = df['diasemchuva'].replace(-999,0)"
   ]
  },
  {
   "cell_type": "code",
   "execution_count": 111,
   "id": "91bd7558",
   "metadata": {},
   "outputs": [
    {
     "data": {
      "text/plain": [
       "0"
      ]
     },
     "execution_count": 111,
     "metadata": {},
     "output_type": "execute_result"
    }
   ],
   "source": [
    "# Verificação do resultado da operação anterior\n",
    "df[df['diasemchuva'] == -999]['diasemchuva'].count()"
   ]
  },
  {
   "cell_type": "code",
   "execution_count": 112,
   "id": "96201db2",
   "metadata": {},
   "outputs": [
    {
     "data": {
      "text/html": [
       "<div>\n",
       "<style scoped>\n",
       "    .dataframe tbody tr th:only-of-type {\n",
       "        vertical-align: middle;\n",
       "    }\n",
       "\n",
       "    .dataframe tbody tr th {\n",
       "        vertical-align: top;\n",
       "    }\n",
       "\n",
       "    .dataframe thead th {\n",
       "        text-align: right;\n",
       "    }\n",
       "</style>\n",
       "<table border=\"1\" class=\"dataframe\">\n",
       "  <thead>\n",
       "    <tr style=\"text-align: right;\">\n",
       "      <th></th>\n",
       "      <th>datahora</th>\n",
       "      <th>municipio</th>\n",
       "      <th>diasemchuva</th>\n",
       "      <th>precipitacao</th>\n",
       "      <th>riscofogo</th>\n",
       "      <th>latitude</th>\n",
       "      <th>longitude</th>\n",
       "      <th>frp</th>\n",
       "    </tr>\n",
       "  </thead>\n",
       "  <tbody>\n",
       "    <tr>\n",
       "      <th>0</th>\n",
       "      <td>2021-01-04 17:35:00</td>\n",
       "      <td>ORIXIMINA</td>\n",
       "      <td>1.0</td>\n",
       "      <td>2.5</td>\n",
       "      <td>0.5</td>\n",
       "      <td>2.066</td>\n",
       "      <td>-55.929</td>\n",
       "      <td>12.6</td>\n",
       "    </tr>\n",
       "    <tr>\n",
       "      <th>1</th>\n",
       "      <td>2021-01-05 16:40:00</td>\n",
       "      <td>MOJU</td>\n",
       "      <td>0.0</td>\n",
       "      <td>15.6</td>\n",
       "      <td>0.0</td>\n",
       "      <td>-3.039</td>\n",
       "      <td>-49.437</td>\n",
       "      <td>13.9</td>\n",
       "    </tr>\n",
       "    <tr>\n",
       "      <th>2</th>\n",
       "      <td>2021-01-05 16:40:00</td>\n",
       "      <td>CAPITAO POCO</td>\n",
       "      <td>2.0</td>\n",
       "      <td>0.7</td>\n",
       "      <td>0.0</td>\n",
       "      <td>-1.931</td>\n",
       "      <td>-47.215</td>\n",
       "      <td>9.2</td>\n",
       "    </tr>\n",
       "    <tr>\n",
       "      <th>3</th>\n",
       "      <td>2021-01-05 16:40:00</td>\n",
       "      <td>BRAGANCA</td>\n",
       "      <td>7.0</td>\n",
       "      <td>0.0</td>\n",
       "      <td>0.7</td>\n",
       "      <td>-1.014</td>\n",
       "      <td>-46.658</td>\n",
       "      <td>18.9</td>\n",
       "    </tr>\n",
       "    <tr>\n",
       "      <th>4</th>\n",
       "      <td>2021-01-05 16:40:00</td>\n",
       "      <td>BRAGANCA</td>\n",
       "      <td>7.0</td>\n",
       "      <td>0.0</td>\n",
       "      <td>0.7</td>\n",
       "      <td>-1.015</td>\n",
       "      <td>-46.667</td>\n",
       "      <td>9.3</td>\n",
       "    </tr>\n",
       "  </tbody>\n",
       "</table>\n",
       "</div>"
      ],
      "text/plain": [
       "             datahora     municipio  diasemchuva  precipitacao  riscofogo  \\\n",
       "0 2021-01-04 17:35:00     ORIXIMINA          1.0           2.5        0.5   \n",
       "1 2021-01-05 16:40:00          MOJU          0.0          15.6        0.0   \n",
       "2 2021-01-05 16:40:00  CAPITAO POCO          2.0           0.7        0.0   \n",
       "3 2021-01-05 16:40:00      BRAGANCA          7.0           0.0        0.7   \n",
       "4 2021-01-05 16:40:00      BRAGANCA          7.0           0.0        0.7   \n",
       "\n",
       "   latitude  longitude   frp  \n",
       "0     2.066    -55.929  12.6  \n",
       "1    -3.039    -49.437  13.9  \n",
       "2    -1.931    -47.215   9.2  \n",
       "3    -1.014    -46.658  18.9  \n",
       "4    -1.015    -46.667   9.3  "
      ]
     },
     "execution_count": 112,
     "metadata": {},
     "output_type": "execute_result"
    }
   ],
   "source": [
    "df.head()"
   ]
  },
  {
   "cell_type": "markdown",
   "id": "0e04bf3f",
   "metadata": {},
   "source": [
    "### Normalização e Discretização"
   ]
  },
  {
   "cell_type": "markdown",
   "id": "4ef987b6",
   "metadata": {},
   "source": [
    "#### Discretização"
   ]
  },
  {
   "cell_type": "markdown",
   "id": "b1d0033a",
   "metadata": {},
   "source": [
    "**Critério usado para a escolha dos intervalos de discretização:** Baseado na classificação do risco de fogo determinada pelo Programa Queimadas do INPE."
   ]
  },
  {
   "cell_type": "code",
   "execution_count": 113,
   "id": "b4cb0fdf",
   "metadata": {},
   "outputs": [],
   "source": [
    "# Definição dos intervalos para discretização da coluna 'riscofogo'\n",
    "nomes_intervalo = ['RF Mínimo','RF Baixo','RF Médio','RF Alto','RF Crítico']\n",
    "intervalos = [-0.10, 0.14, 0.40, 0.70, 0.95, 1.00]\n",
    "\n",
    "df['categorias_riscofogo'] = pd.cut(df['riscofogo'], intervalos, labels=nomes_intervalo)"
   ]
  },
  {
   "cell_type": "code",
   "execution_count": 114,
   "id": "60b353da",
   "metadata": {},
   "outputs": [
    {
     "data": {
      "text/html": [
       "<div>\n",
       "<style scoped>\n",
       "    .dataframe tbody tr th:only-of-type {\n",
       "        vertical-align: middle;\n",
       "    }\n",
       "\n",
       "    .dataframe tbody tr th {\n",
       "        vertical-align: top;\n",
       "    }\n",
       "\n",
       "    .dataframe thead th {\n",
       "        text-align: right;\n",
       "    }\n",
       "</style>\n",
       "<table border=\"1\" class=\"dataframe\">\n",
       "  <thead>\n",
       "    <tr style=\"text-align: right;\">\n",
       "      <th></th>\n",
       "      <th>datahora</th>\n",
       "      <th>municipio</th>\n",
       "      <th>diasemchuva</th>\n",
       "      <th>precipitacao</th>\n",
       "      <th>riscofogo</th>\n",
       "      <th>latitude</th>\n",
       "      <th>longitude</th>\n",
       "      <th>frp</th>\n",
       "      <th>categorias_riscofogo</th>\n",
       "    </tr>\n",
       "  </thead>\n",
       "  <tbody>\n",
       "    <tr>\n",
       "      <th>0</th>\n",
       "      <td>2021-01-04 17:35:00</td>\n",
       "      <td>ORIXIMINA</td>\n",
       "      <td>1.0</td>\n",
       "      <td>2.5</td>\n",
       "      <td>0.5</td>\n",
       "      <td>2.066</td>\n",
       "      <td>-55.929</td>\n",
       "      <td>12.6</td>\n",
       "      <td>RF Médio</td>\n",
       "    </tr>\n",
       "    <tr>\n",
       "      <th>1</th>\n",
       "      <td>2021-01-05 16:40:00</td>\n",
       "      <td>MOJU</td>\n",
       "      <td>0.0</td>\n",
       "      <td>15.6</td>\n",
       "      <td>0.0</td>\n",
       "      <td>-3.039</td>\n",
       "      <td>-49.437</td>\n",
       "      <td>13.9</td>\n",
       "      <td>RF Mínimo</td>\n",
       "    </tr>\n",
       "    <tr>\n",
       "      <th>2</th>\n",
       "      <td>2021-01-05 16:40:00</td>\n",
       "      <td>CAPITAO POCO</td>\n",
       "      <td>2.0</td>\n",
       "      <td>0.7</td>\n",
       "      <td>0.0</td>\n",
       "      <td>-1.931</td>\n",
       "      <td>-47.215</td>\n",
       "      <td>9.2</td>\n",
       "      <td>RF Mínimo</td>\n",
       "    </tr>\n",
       "    <tr>\n",
       "      <th>3</th>\n",
       "      <td>2021-01-05 16:40:00</td>\n",
       "      <td>BRAGANCA</td>\n",
       "      <td>7.0</td>\n",
       "      <td>0.0</td>\n",
       "      <td>0.7</td>\n",
       "      <td>-1.014</td>\n",
       "      <td>-46.658</td>\n",
       "      <td>18.9</td>\n",
       "      <td>RF Médio</td>\n",
       "    </tr>\n",
       "    <tr>\n",
       "      <th>4</th>\n",
       "      <td>2021-01-05 16:40:00</td>\n",
       "      <td>BRAGANCA</td>\n",
       "      <td>7.0</td>\n",
       "      <td>0.0</td>\n",
       "      <td>0.7</td>\n",
       "      <td>-1.015</td>\n",
       "      <td>-46.667</td>\n",
       "      <td>9.3</td>\n",
       "      <td>RF Médio</td>\n",
       "    </tr>\n",
       "  </tbody>\n",
       "</table>\n",
       "</div>"
      ],
      "text/plain": [
       "             datahora     municipio  diasemchuva  precipitacao  riscofogo  \\\n",
       "0 2021-01-04 17:35:00     ORIXIMINA          1.0           2.5        0.5   \n",
       "1 2021-01-05 16:40:00          MOJU          0.0          15.6        0.0   \n",
       "2 2021-01-05 16:40:00  CAPITAO POCO          2.0           0.7        0.0   \n",
       "3 2021-01-05 16:40:00      BRAGANCA          7.0           0.0        0.7   \n",
       "4 2021-01-05 16:40:00      BRAGANCA          7.0           0.0        0.7   \n",
       "\n",
       "   latitude  longitude   frp categorias_riscofogo  \n",
       "0     2.066    -55.929  12.6             RF Médio  \n",
       "1    -3.039    -49.437  13.9            RF Mínimo  \n",
       "2    -1.931    -47.215   9.2            RF Mínimo  \n",
       "3    -1.014    -46.658  18.9             RF Médio  \n",
       "4    -1.015    -46.667   9.3             RF Médio  "
      ]
     },
     "execution_count": 114,
     "metadata": {},
     "output_type": "execute_result"
    }
   ],
   "source": [
    "# Visualização da coluna criada com a discretização\n",
    "df.head()"
   ]
  },
  {
   "cell_type": "code",
   "execution_count": 115,
   "id": "5594b69b",
   "metadata": {},
   "outputs": [
    {
     "data": {
      "text/plain": [
       "RF Alto       3320\n",
       "RF Crítico    2582\n",
       "RF Médio      1693\n",
       "RF Mínimo     1593\n",
       "RF Baixo       946\n",
       "Name: categorias_riscofogo, dtype: int64"
      ]
     },
     "execution_count": 115,
     "metadata": {},
     "output_type": "execute_result"
    }
   ],
   "source": [
    "# Número de ocorrências por categoria em ordem decrescente\n",
    "df['categorias_riscofogo'].value_counts()"
   ]
  },
  {
   "cell_type": "code",
   "execution_count": 116,
   "id": "8891ee25",
   "metadata": {},
   "outputs": [
    {
     "data": {
      "image/png": "[encoded data removed]",
      "text/plain": [
       "<Figure size 432x288 with 1 Axes>"
      ]
     },
     "metadata": {
      "needs_background": "light"
     },
     "output_type": "display_data"
    }
   ],
   "source": [
    "# Exibição das categorias em forma de gráfico\n",
    "contagens = df['categorias_riscofogo'].value_counts()\n",
    "\n",
    "cores = '#FF1616 #9F2D21 #FFD700 #277E57 #5EC700'\n",
    "contagens.plot.bar(rot=45, color=cores.split())\n",
    "plt.title('Categorias de Risco de Fogo (RF)')\n",
    "plt.xlabel('Risco de Fogo')\n",
    "plt.ylabel('N° de Ocorrências')\n",
    "plt.show()"
   ]
  },
  {
   "cell_type": "markdown",
   "id": "20acfd80",
   "metadata": {},
   "source": [
    "**Conclusões obtidas com a discretização:** No intervalo de tempo analisado no dataset, verificou-se a maior incidência de ocorrências de risco de fogo alto e risco de fogo crítico. Deste fato pode-se concluir que a probabilidade de ocorrência de focos de incêndio para a região em questão foi muito elevada."
   ]
  },
  {
   "cell_type": "code",
   "execution_count": null,
   "id": "93e5e440",
   "metadata": {},
   "outputs": [],
   "source": []
  }
 ],
 "metadata": {
  "kernelspec": {
   "display_name": "Python 3",
   "language": "python",
   "name": "python3"
  },
  "language_info": {
   "codemirror_mode": {
    "name": "ipython",
    "version": 3
   },
   "file_extension": ".py",
   "mimetype": "text/x-python",
   "name": "python",
   "nbconvert_exporter": "python",
   "pygments_lexer": "ipython3",
   "version": "3.8.8"
  },
  "varInspector": {
   "cols": {
    "lenName": 16,
    "lenType": 16,
    "lenVar": 40
   },
   "kernels_config": {
    "python": {
     "delete_cmd_postfix": "",
     "delete_cmd_prefix": "del ",
     "library": "var_list.py",
     "varRefreshCmd": "print(var_dic_list())"
    },
    "r": {
     "delete_cmd_postfix": ") ",
     "delete_cmd_prefix": "rm(",
     "library": "var_list.r",
     "varRefreshCmd": "cat(var_dic_list()) "
    }
   },
   "types_to_exclude": [
    "module",
    "function",
    "builtin_function_or_method",
    "instance",
    "_Feature"
   ],
   "window_display": false
  }
 },
 "nbformat": 4,
 "nbformat_minor": 5
}
