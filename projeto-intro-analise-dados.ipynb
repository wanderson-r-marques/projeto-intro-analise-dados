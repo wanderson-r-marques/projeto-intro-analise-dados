{
 "cells": [
  {
   "cell_type": "markdown",
   "id": "09e3c82d",
   "metadata": {},
   "source": [
    "### Projeto de avaliação da disciplina Introdução à Análise de Dados - Prof. Luciano Barbosa\n",
    "#### Alunos: David Soares (dsm3@cin.ufpe.br) & Wanderson R. Marques (wrm@cin.ufpe.br)"
   ]
  },
  {
   "cell_type": "markdown",
   "id": "c80a1cc7",
   "metadata": {},
   "source": [
    "#### Importação das Bibliotecas e do Dataset"
   ]
  },
  {
   "cell_type": "code",
   "execution_count": 117,
   "id": "74dfc811",
   "metadata": {},
   "outputs": [],
   "source": [
    "import pandas as pd\n",
    "import numpy as np\n",
    "import matplotlib.pyplot as plt\n",
    "from sklearn import preprocessing as pp"
   ]
  },
  {
   "cell_type": "code",
   "execution_count": 118,
   "id": "ef7f2ac3",
   "metadata": {},
   "outputs": [],
   "source": [
    "# Importação dataset\n",
    "df = pd.read_csv('Focos_2021-01-01_2021-08-31.csv')"
   ]
  },
  {
   "cell_type": "code",
   "execution_count": 119,
   "id": "0c535dd4",
   "metadata": {},
   "outputs": [
    {
     "data": {
      "text/plain": [
       "(10448, 12)"
      ]
     },
     "execution_count": 119,
     "metadata": {},
     "output_type": "execute_result"
    }
   ],
   "source": [
    "# Número de linhas e colunas do DataSet\n",
    "df.shape"
   ]
  },
  {
   "cell_type": "code",
   "execution_count": 120,
   "id": "9fb6cddf",
   "metadata": {},
   "outputs": [
    {
     "data": {
      "text/html": [
       "<div>\n",
       "<style scoped>\n",
       "    .dataframe tbody tr th:only-of-type {\n",
       "        vertical-align: middle;\n",
       "    }\n",
       "\n",
       "    .dataframe tbody tr th {\n",
       "        vertical-align: top;\n",
       "    }\n",
       "\n",
       "    .dataframe thead th {\n",
       "        text-align: right;\n",
       "    }\n",
       "</style>\n",
       "<table border=\"1\" class=\"dataframe\">\n",
       "  <thead>\n",
       "    <tr style=\"text-align: right;\">\n",
       "      <th></th>\n",
       "      <th>datahora</th>\n",
       "      <th>satelite</th>\n",
       "      <th>pais</th>\n",
       "      <th>estado</th>\n",
       "      <th>municipio</th>\n",
       "      <th>bioma</th>\n",
       "      <th>diasemchuva</th>\n",
       "      <th>precipitacao</th>\n",
       "      <th>riscofogo</th>\n",
       "      <th>latitude</th>\n",
       "      <th>longitude</th>\n",
       "      <th>frp</th>\n",
       "    </tr>\n",
       "  </thead>\n",
       "  <tbody>\n",
       "    <tr>\n",
       "      <th>0</th>\n",
       "      <td>2021/01/01 17:00:00</td>\n",
       "      <td>AQUA_M-T</td>\n",
       "      <td>Brasil</td>\n",
       "      <td>PARA</td>\n",
       "      <td>SANTA MARIA DAS BARREIRAS</td>\n",
       "      <td>Amazonia</td>\n",
       "      <td>NaN</td>\n",
       "      <td>NaN</td>\n",
       "      <td>NaN</td>\n",
       "      <td>-8.577</td>\n",
       "      <td>-49.952</td>\n",
       "      <td>8.8</td>\n",
       "    </tr>\n",
       "    <tr>\n",
       "      <th>1</th>\n",
       "      <td>2021/01/01 17:05:00</td>\n",
       "      <td>AQUA_M-T</td>\n",
       "      <td>Brasil</td>\n",
       "      <td>PARA</td>\n",
       "      <td>AVEIRO</td>\n",
       "      <td>Amazonia</td>\n",
       "      <td>NaN</td>\n",
       "      <td>NaN</td>\n",
       "      <td>NaN</td>\n",
       "      <td>-3.909</td>\n",
       "      <td>-56.037</td>\n",
       "      <td>18.9</td>\n",
       "    </tr>\n",
       "    <tr>\n",
       "      <th>2</th>\n",
       "      <td>2021/01/01 17:05:00</td>\n",
       "      <td>AQUA_M-T</td>\n",
       "      <td>Brasil</td>\n",
       "      <td>PARA</td>\n",
       "      <td>AVEIRO</td>\n",
       "      <td>Amazonia</td>\n",
       "      <td>NaN</td>\n",
       "      <td>NaN</td>\n",
       "      <td>NaN</td>\n",
       "      <td>-3.904</td>\n",
       "      <td>-56.045</td>\n",
       "      <td>9.5</td>\n",
       "    </tr>\n",
       "    <tr>\n",
       "      <th>3</th>\n",
       "      <td>2021/01/01 17:05:00</td>\n",
       "      <td>AQUA_M-T</td>\n",
       "      <td>Brasil</td>\n",
       "      <td>PARA</td>\n",
       "      <td>JACAREACANGA</td>\n",
       "      <td>Amazonia</td>\n",
       "      <td>NaN</td>\n",
       "      <td>NaN</td>\n",
       "      <td>NaN</td>\n",
       "      <td>-5.845</td>\n",
       "      <td>-57.716</td>\n",
       "      <td>149.8</td>\n",
       "    </tr>\n",
       "    <tr>\n",
       "      <th>4</th>\n",
       "      <td>2021/01/01 17:05:00</td>\n",
       "      <td>AQUA_M-T</td>\n",
       "      <td>Brasil</td>\n",
       "      <td>PARA</td>\n",
       "      <td>ORIXIMINA</td>\n",
       "      <td>Amazonia</td>\n",
       "      <td>NaN</td>\n",
       "      <td>NaN</td>\n",
       "      <td>NaN</td>\n",
       "      <td>-1.587</td>\n",
       "      <td>-55.922</td>\n",
       "      <td>11.3</td>\n",
       "    </tr>\n",
       "  </tbody>\n",
       "</table>\n",
       "</div>"
      ],
      "text/plain": [
       "              datahora  satelite    pais estado                  municipio  \\\n",
       "0  2021/01/01 17:00:00  AQUA_M-T  Brasil   PARA  SANTA MARIA DAS BARREIRAS   \n",
       "1  2021/01/01 17:05:00  AQUA_M-T  Brasil   PARA                     AVEIRO   \n",
       "2  2021/01/01 17:05:00  AQUA_M-T  Brasil   PARA                     AVEIRO   \n",
       "3  2021/01/01 17:05:00  AQUA_M-T  Brasil   PARA               JACAREACANGA   \n",
       "4  2021/01/01 17:05:00  AQUA_M-T  Brasil   PARA                  ORIXIMINA   \n",
       "\n",
       "      bioma  diasemchuva  precipitacao  riscofogo  latitude  longitude    frp  \n",
       "0  Amazonia          NaN           NaN        NaN    -8.577    -49.952    8.8  \n",
       "1  Amazonia          NaN           NaN        NaN    -3.909    -56.037   18.9  \n",
       "2  Amazonia          NaN           NaN        NaN    -3.904    -56.045    9.5  \n",
       "3  Amazonia          NaN           NaN        NaN    -5.845    -57.716  149.8  \n",
       "4  Amazonia          NaN           NaN        NaN    -1.587    -55.922   11.3  "
      ]
     },
     "execution_count": 120,
     "metadata": {},
     "output_type": "execute_result"
    }
   ],
   "source": [
    "# Amostra do dataset\n",
    "df.head()"
   ]
  },
  {
   "cell_type": "code",
   "execution_count": 121,
   "id": "68075698",
   "metadata": {},
   "outputs": [
    {
     "data": {
      "text/html": [
       "<div>\n",
       "<style scoped>\n",
       "    .dataframe tbody tr th:only-of-type {\n",
       "        vertical-align: middle;\n",
       "    }\n",
       "\n",
       "    .dataframe tbody tr th {\n",
       "        vertical-align: top;\n",
       "    }\n",
       "\n",
       "    .dataframe thead th {\n",
       "        text-align: right;\n",
       "    }\n",
       "</style>\n",
       "<table border=\"1\" class=\"dataframe\">\n",
       "  <thead>\n",
       "    <tr style=\"text-align: right;\">\n",
       "      <th></th>\n",
       "      <th>diasemchuva</th>\n",
       "      <th>precipitacao</th>\n",
       "      <th>riscofogo</th>\n",
       "      <th>latitude</th>\n",
       "      <th>longitude</th>\n",
       "      <th>frp</th>\n",
       "    </tr>\n",
       "  </thead>\n",
       "  <tbody>\n",
       "    <tr>\n",
       "      <th>count</th>\n",
       "      <td>10157.000000</td>\n",
       "      <td>10157.000000</td>\n",
       "      <td>10157.000000</td>\n",
       "      <td>10448.000000</td>\n",
       "      <td>10448.000000</td>\n",
       "      <td>10448.000000</td>\n",
       "    </tr>\n",
       "    <tr>\n",
       "      <th>mean</th>\n",
       "      <td>10.516393</td>\n",
       "      <td>0.652939</td>\n",
       "      <td>-1.590430</td>\n",
       "      <td>-5.974887</td>\n",
       "      <td>-53.471519</td>\n",
       "      <td>83.031116</td>\n",
       "    </tr>\n",
       "    <tr>\n",
       "      <th>std</th>\n",
       "      <td>54.428077</td>\n",
       "      <td>2.926083</td>\n",
       "      <td>47.520374</td>\n",
       "      <td>2.098492</td>\n",
       "      <td>2.791692</td>\n",
       "      <td>185.566276</td>\n",
       "    </tr>\n",
       "    <tr>\n",
       "      <th>min</th>\n",
       "      <td>-999.000000</td>\n",
       "      <td>0.000000</td>\n",
       "      <td>-999.000000</td>\n",
       "      <td>-9.791000</td>\n",
       "      <td>-58.437100</td>\n",
       "      <td>3.200000</td>\n",
       "    </tr>\n",
       "    <tr>\n",
       "      <th>25%</th>\n",
       "      <td>4.000000</td>\n",
       "      <td>0.000000</td>\n",
       "      <td>0.400000</td>\n",
       "      <td>-7.347650</td>\n",
       "      <td>-55.458268</td>\n",
       "      <td>16.100000</td>\n",
       "    </tr>\n",
       "    <tr>\n",
       "      <th>50%</th>\n",
       "      <td>7.000000</td>\n",
       "      <td>0.000000</td>\n",
       "      <td>0.800000</td>\n",
       "      <td>-6.461555</td>\n",
       "      <td>-54.752210</td>\n",
       "      <td>32.000000</td>\n",
       "    </tr>\n",
       "    <tr>\n",
       "      <th>75%</th>\n",
       "      <td>15.000000</td>\n",
       "      <td>0.000000</td>\n",
       "      <td>1.000000</td>\n",
       "      <td>-4.921665</td>\n",
       "      <td>-51.481270</td>\n",
       "      <td>74.500000</td>\n",
       "    </tr>\n",
       "    <tr>\n",
       "      <th>max</th>\n",
       "      <td>110.000000</td>\n",
       "      <td>48.200000</td>\n",
       "      <td>1.000000</td>\n",
       "      <td>2.315000</td>\n",
       "      <td>-46.218000</td>\n",
       "      <td>3543.400000</td>\n",
       "    </tr>\n",
       "  </tbody>\n",
       "</table>\n",
       "</div>"
      ],
      "text/plain": [
       "        diasemchuva  precipitacao     riscofogo      latitude     longitude  \\\n",
       "count  10157.000000  10157.000000  10157.000000  10448.000000  10448.000000   \n",
       "mean      10.516393      0.652939     -1.590430     -5.974887    -53.471519   \n",
       "std       54.428077      2.926083     47.520374      2.098492      2.791692   \n",
       "min     -999.000000      0.000000   -999.000000     -9.791000    -58.437100   \n",
       "25%        4.000000      0.000000      0.400000     -7.347650    -55.458268   \n",
       "50%        7.000000      0.000000      0.800000     -6.461555    -54.752210   \n",
       "75%       15.000000      0.000000      1.000000     -4.921665    -51.481270   \n",
       "max      110.000000     48.200000      1.000000      2.315000    -46.218000   \n",
       "\n",
       "                frp  \n",
       "count  10448.000000  \n",
       "mean      83.031116  \n",
       "std      185.566276  \n",
       "min        3.200000  \n",
       "25%       16.100000  \n",
       "50%       32.000000  \n",
       "75%       74.500000  \n",
       "max     3543.400000  "
      ]
     },
     "execution_count": 121,
     "metadata": {},
     "output_type": "execute_result"
    }
   ],
   "source": [
    "# Principais estatíscas descritivas dos dados\n",
    "df.describe()"
   ]
  },
  {
   "cell_type": "markdown",
   "id": "f43b02de",
   "metadata": {},
   "source": [
    "### Pré-processamento dos Dados"
   ]
  },
  {
   "cell_type": "markdown",
   "id": "0259b338",
   "metadata": {},
   "source": [
    "#### Definição de Tipos"
   ]
  },
  {
   "cell_type": "code",
   "execution_count": 122,
   "id": "5853feb3",
   "metadata": {},
   "outputs": [
    {
     "data": {
      "text/plain": [
       "datahora         object\n",
       "satelite         object\n",
       "pais             object\n",
       "estado           object\n",
       "municipio        object\n",
       "bioma            object\n",
       "diasemchuva     float64\n",
       "precipitacao    float64\n",
       "riscofogo       float64\n",
       "latitude        float64\n",
       "longitude       float64\n",
       "frp             float64\n",
       "dtype: object"
      ]
     },
     "execution_count": 122,
     "metadata": {},
     "output_type": "execute_result"
    }
   ],
   "source": [
    "# Visualização dos tipos\n",
    "df.dtypes"
   ]
  },
  {
   "cell_type": "code",
   "execution_count": 123,
   "id": "8ee12a1b",
   "metadata": {},
   "outputs": [],
   "source": [
    "# Ajuste dos Tipos\n",
    "df['datahora'] = pd.to_datetime(df['datahora'], format=\"%Y/%m/%d %H:%M:%S\")\n",
    "df['satelite'] = df['satelite'].astype('category')\n",
    "df['pais'] = df['pais'].astype('category')\n",
    "df['estado'] = df['estado'].astype('category')\n",
    "df['municipio'] = df['municipio'].astype('category')\n",
    "df['bioma'] = df['bioma'].astype('category')"
   ]
  },
  {
   "cell_type": "code",
   "execution_count": 124,
   "id": "f9e82c87",
   "metadata": {},
   "outputs": [
    {
     "data": {
      "text/plain": [
       "datahora        datetime64[ns]\n",
       "satelite              category\n",
       "pais                  category\n",
       "estado                category\n",
       "municipio             category\n",
       "bioma                 category\n",
       "diasemchuva            float64\n",
       "precipitacao           float64\n",
       "riscofogo              float64\n",
       "latitude               float64\n",
       "longitude              float64\n",
       "frp                    float64\n",
       "dtype: object"
      ]
     },
     "execution_count": 124,
     "metadata": {},
     "output_type": "execute_result"
    }
   ],
   "source": [
    "# Verificação dos tipos após modificação\n",
    "df.dtypes"
   ]
  },
  {
   "cell_type": "markdown",
   "id": "fc74e8ae",
   "metadata": {},
   "source": [
    "#### Removendo colunas irrelevantes "
   ]
  },
  {
   "cell_type": "markdown",
   "id": "27cc2fd4",
   "metadata": {},
   "source": [
    "As colunas foram removidas porque todas as linhas continham as mesmas informações, a saber: **país(Brasil), estado(Pará), satélite(AQUA_M-T), bioma(Amazonia)**."
   ]
  },
  {
   "cell_type": "code",
   "execution_count": 125,
   "id": "fc44f8bc",
   "metadata": {},
   "outputs": [],
   "source": [
    "df = df.drop(columns=['pais','estado','satelite','bioma'])"
   ]
  },
  {
   "cell_type": "markdown",
   "id": "075769aa",
   "metadata": {},
   "source": [
    "**Remoção de linhas** com dados ausentes, usando o risco de fogo como filtro, pois o cálculo do risco de fogo depende diretamente do conhecimento dos dias sem chuva e do volume de precipitação para aquele dia. Portanto, se a informação do risco de fogo é ausente, implica que a informação dos dias sem chuva e precipitação também é ausente."
   ]
  },
  {
   "cell_type": "code",
   "execution_count": 126,
   "id": "aff45e24",
   "metadata": {},
   "outputs": [],
   "source": [
    "# Remoção de linhas especificando a coluna \"riscofogo\"\n",
    "df.dropna(subset=[\"riscofogo\"], inplace=True)"
   ]
  },
  {
   "cell_type": "code",
   "execution_count": 127,
   "id": "f3031619",
   "metadata": {},
   "outputs": [
    {
     "data": {
      "text/html": [
       "<div>\n",
       "<style scoped>\n",
       "    .dataframe tbody tr th:only-of-type {\n",
       "        vertical-align: middle;\n",
       "    }\n",
       "\n",
       "    .dataframe tbody tr th {\n",
       "        vertical-align: top;\n",
       "    }\n",
       "\n",
       "    .dataframe thead th {\n",
       "        text-align: right;\n",
       "    }\n",
       "</style>\n",
       "<table border=\"1\" class=\"dataframe\">\n",
       "  <thead>\n",
       "    <tr style=\"text-align: right;\">\n",
       "      <th></th>\n",
       "      <th>datahora</th>\n",
       "      <th>municipio</th>\n",
       "      <th>diasemchuva</th>\n",
       "      <th>precipitacao</th>\n",
       "      <th>riscofogo</th>\n",
       "      <th>latitude</th>\n",
       "      <th>longitude</th>\n",
       "      <th>frp</th>\n",
       "    </tr>\n",
       "  </thead>\n",
       "  <tbody>\n",
       "    <tr>\n",
       "      <th>0</th>\n",
       "      <td>2021-01-04 17:35:00</td>\n",
       "      <td>ORIXIMINA</td>\n",
       "      <td>1.0</td>\n",
       "      <td>2.5</td>\n",
       "      <td>0.5</td>\n",
       "      <td>2.066</td>\n",
       "      <td>-55.929</td>\n",
       "      <td>12.6</td>\n",
       "    </tr>\n",
       "    <tr>\n",
       "      <th>1</th>\n",
       "      <td>2021-01-05 16:40:00</td>\n",
       "      <td>MOJU</td>\n",
       "      <td>0.0</td>\n",
       "      <td>15.6</td>\n",
       "      <td>0.0</td>\n",
       "      <td>-3.039</td>\n",
       "      <td>-49.437</td>\n",
       "      <td>13.9</td>\n",
       "    </tr>\n",
       "    <tr>\n",
       "      <th>2</th>\n",
       "      <td>2021-01-05 16:40:00</td>\n",
       "      <td>CAPITAO POCO</td>\n",
       "      <td>2.0</td>\n",
       "      <td>0.7</td>\n",
       "      <td>0.0</td>\n",
       "      <td>-1.931</td>\n",
       "      <td>-47.215</td>\n",
       "      <td>9.2</td>\n",
       "    </tr>\n",
       "    <tr>\n",
       "      <th>3</th>\n",
       "      <td>2021-01-05 16:40:00</td>\n",
       "      <td>BRAGANCA</td>\n",
       "      <td>7.0</td>\n",
       "      <td>0.0</td>\n",
       "      <td>0.7</td>\n",
       "      <td>-1.014</td>\n",
       "      <td>-46.658</td>\n",
       "      <td>18.9</td>\n",
       "    </tr>\n",
       "    <tr>\n",
       "      <th>4</th>\n",
       "      <td>2021-01-05 16:40:00</td>\n",
       "      <td>BRAGANCA</td>\n",
       "      <td>7.0</td>\n",
       "      <td>0.0</td>\n",
       "      <td>0.7</td>\n",
       "      <td>-1.015</td>\n",
       "      <td>-46.667</td>\n",
       "      <td>9.3</td>\n",
       "    </tr>\n",
       "  </tbody>\n",
       "</table>\n",
       "</div>"
      ],
      "text/plain": [
       "             datahora     municipio  diasemchuva  precipitacao  riscofogo  \\\n",
       "0 2021-01-04 17:35:00     ORIXIMINA          1.0           2.5        0.5   \n",
       "1 2021-01-05 16:40:00          MOJU          0.0          15.6        0.0   \n",
       "2 2021-01-05 16:40:00  CAPITAO POCO          2.0           0.7        0.0   \n",
       "3 2021-01-05 16:40:00      BRAGANCA          7.0           0.0        0.7   \n",
       "4 2021-01-05 16:40:00      BRAGANCA          7.0           0.0        0.7   \n",
       "\n",
       "   latitude  longitude   frp  \n",
       "0     2.066    -55.929  12.6  \n",
       "1    -3.039    -49.437  13.9  \n",
       "2    -1.931    -47.215   9.2  \n",
       "3    -1.014    -46.658  18.9  \n",
       "4    -1.015    -46.667   9.3  "
      ]
     },
     "execution_count": 127,
     "metadata": {},
     "output_type": "execute_result"
    }
   ],
   "source": [
    "# Reiniciando os índices \n",
    "df.reset_index(inplace=True,drop=True)\n",
    "df.head()"
   ]
  },
  {
   "cell_type": "markdown",
   "id": "a0aa0d10",
   "metadata": {},
   "source": [
    "**Removendo as linhas** nas quais o \"riscofogo\" é igual a -999, pois isso representa um código de erro desse parâmetro."
   ]
  },
  {
   "cell_type": "code",
   "execution_count": 128,
   "id": "12a2f037",
   "metadata": {},
   "outputs": [],
   "source": [
    "indexNames = df[(df['riscofogo'] == -999)].index\n",
    "df.drop(indexNames, inplace=True)"
   ]
  },
  {
   "cell_type": "code",
   "execution_count": 129,
   "id": "8a2628d4",
   "metadata": {},
   "outputs": [
    {
     "data": {
      "text/plain": [
       "0"
      ]
     },
     "execution_count": 129,
     "metadata": {},
     "output_type": "execute_result"
    }
   ],
   "source": [
    "# Verificando se ainda existe algum valor do \"riscofogo\" igual a -999\n",
    "df[df['riscofogo'] == -999]['riscofogo'].count()"
   ]
  },
  {
   "cell_type": "code",
   "execution_count": 130,
   "id": "efafc828",
   "metadata": {},
   "outputs": [],
   "source": [
    "# Substituição dos valores inválidos (-999) por zero\n",
    "df['diasemchuva'] = df['diasemchuva'].replace(-999,0)"
   ]
  },
  {
   "cell_type": "code",
   "execution_count": 131,
   "id": "91bd7558",
   "metadata": {},
   "outputs": [
    {
     "data": {
      "text/plain": [
       "0"
      ]
     },
     "execution_count": 131,
     "metadata": {},
     "output_type": "execute_result"
    }
   ],
   "source": [
    "# Verificação do resultado da operação anterior\n",
    "df[df['diasemchuva'] == -999]['diasemchuva'].count()"
   ]
  },
  {
   "cell_type": "code",
   "execution_count": 132,
   "id": "96201db2",
   "metadata": {},
   "outputs": [
    {
     "data": {
      "text/html": [
       "<div>\n",
       "<style scoped>\n",
       "    .dataframe tbody tr th:only-of-type {\n",
       "        vertical-align: middle;\n",
       "    }\n",
       "\n",
       "    .dataframe tbody tr th {\n",
       "        vertical-align: top;\n",
       "    }\n",
       "\n",
       "    .dataframe thead th {\n",
       "        text-align: right;\n",
       "    }\n",
       "</style>\n",
       "<table border=\"1\" class=\"dataframe\">\n",
       "  <thead>\n",
       "    <tr style=\"text-align: right;\">\n",
       "      <th></th>\n",
       "      <th>datahora</th>\n",
       "      <th>municipio</th>\n",
       "      <th>diasemchuva</th>\n",
       "      <th>precipitacao</th>\n",
       "      <th>riscofogo</th>\n",
       "      <th>latitude</th>\n",
       "      <th>longitude</th>\n",
       "      <th>frp</th>\n",
       "    </tr>\n",
       "  </thead>\n",
       "  <tbody>\n",
       "    <tr>\n",
       "      <th>0</th>\n",
       "      <td>2021-01-04 17:35:00</td>\n",
       "      <td>ORIXIMINA</td>\n",
       "      <td>1.0</td>\n",
       "      <td>2.5</td>\n",
       "      <td>0.5</td>\n",
       "      <td>2.066</td>\n",
       "      <td>-55.929</td>\n",
       "      <td>12.6</td>\n",
       "    </tr>\n",
       "    <tr>\n",
       "      <th>1</th>\n",
       "      <td>2021-01-05 16:40:00</td>\n",
       "      <td>MOJU</td>\n",
       "      <td>0.0</td>\n",
       "      <td>15.6</td>\n",
       "      <td>0.0</td>\n",
       "      <td>-3.039</td>\n",
       "      <td>-49.437</td>\n",
       "      <td>13.9</td>\n",
       "    </tr>\n",
       "    <tr>\n",
       "      <th>2</th>\n",
       "      <td>2021-01-05 16:40:00</td>\n",
       "      <td>CAPITAO POCO</td>\n",
       "      <td>2.0</td>\n",
       "      <td>0.7</td>\n",
       "      <td>0.0</td>\n",
       "      <td>-1.931</td>\n",
       "      <td>-47.215</td>\n",
       "      <td>9.2</td>\n",
       "    </tr>\n",
       "    <tr>\n",
       "      <th>3</th>\n",
       "      <td>2021-01-05 16:40:00</td>\n",
       "      <td>BRAGANCA</td>\n",
       "      <td>7.0</td>\n",
       "      <td>0.0</td>\n",
       "      <td>0.7</td>\n",
       "      <td>-1.014</td>\n",
       "      <td>-46.658</td>\n",
       "      <td>18.9</td>\n",
       "    </tr>\n",
       "    <tr>\n",
       "      <th>4</th>\n",
       "      <td>2021-01-05 16:40:00</td>\n",
       "      <td>BRAGANCA</td>\n",
       "      <td>7.0</td>\n",
       "      <td>0.0</td>\n",
       "      <td>0.7</td>\n",
       "      <td>-1.015</td>\n",
       "      <td>-46.667</td>\n",
       "      <td>9.3</td>\n",
       "    </tr>\n",
       "  </tbody>\n",
       "</table>\n",
       "</div>"
      ],
      "text/plain": [
       "             datahora     municipio  diasemchuva  precipitacao  riscofogo  \\\n",
       "0 2021-01-04 17:35:00     ORIXIMINA          1.0           2.5        0.5   \n",
       "1 2021-01-05 16:40:00          MOJU          0.0          15.6        0.0   \n",
       "2 2021-01-05 16:40:00  CAPITAO POCO          2.0           0.7        0.0   \n",
       "3 2021-01-05 16:40:00      BRAGANCA          7.0           0.0        0.7   \n",
       "4 2021-01-05 16:40:00      BRAGANCA          7.0           0.0        0.7   \n",
       "\n",
       "   latitude  longitude   frp  \n",
       "0     2.066    -55.929  12.6  \n",
       "1    -3.039    -49.437  13.9  \n",
       "2    -1.931    -47.215   9.2  \n",
       "3    -1.014    -46.658  18.9  \n",
       "4    -1.015    -46.667   9.3  "
      ]
     },
     "execution_count": 132,
     "metadata": {},
     "output_type": "execute_result"
    }
   ],
   "source": [
    "df.head()"
   ]
  },
  {
   "cell_type": "markdown",
   "id": "0e04bf3f",
   "metadata": {},
   "source": [
    "### Normalização e Discretização"
   ]
  },
  {
   "cell_type": "markdown",
   "id": "980d7f63",
   "metadata": {},
   "source": [
    "#### Normalização"
   ]
  },
  {
   "cell_type": "code",
   "execution_count": 133,
   "id": "40aa8e07",
   "metadata": {},
   "outputs": [
    {
     "data": {
      "text/plain": [
       "count    10134.000000\n",
       "mean        84.375064\n",
       "std        187.332087\n",
       "min          3.200000\n",
       "25%         16.400000\n",
       "50%         32.500000\n",
       "75%         75.800000\n",
       "max       3543.400000\n",
       "Name: frp, dtype: float64"
      ]
     },
     "execution_count": 133,
     "metadata": {},
     "output_type": "execute_result"
    }
   ],
   "source": [
    "# Principais estatísticas descritivas para a coluna 'frp'\n",
    "df['frp'].describe()"
   ]
  },
  {
   "cell_type": "code",
   "execution_count": 134,
   "id": "36a665a7",
   "metadata": {},
   "outputs": [
    {
     "data": {
      "text/plain": [
       "<AxesSubplot:>"
      ]
     },
     "execution_count": 134,
     "metadata": {},
     "output_type": "execute_result"
    },
    {
     "data": {
      "image/png": "[encoded data removed]",
      "text/plain": [
       "<Figure size 432x288 with 1 Axes>"
      ]
     },
     "metadata": {
      "needs_background": "light"
     },
     "output_type": "display_data"
    }
   ],
   "source": [
    "# Histograma da columa 'frp'\n",
    "df['frp'].hist()"
   ]
  },
  {
   "cell_type": "code",
   "execution_count": 135,
   "id": "cfb1a517",
   "metadata": {},
   "outputs": [
    {
     "data": {
      "text/plain": [
       "count    10134.000000\n",
       "mean         0.022930\n",
       "std          0.052916\n",
       "min          0.000000\n",
       "25%          0.003729\n",
       "50%          0.008276\n",
       "75%          0.020507\n",
       "max          1.000000\n",
       "Name: frp_norm, dtype: float64"
      ]
     },
     "execution_count": 135,
     "metadata": {},
     "output_type": "execute_result"
    }
   ],
   "source": [
    "# Normalização da coluna 'frp' no intervalo [0,1]\n",
    "escala_min_max = pp.MinMaxScaler()\n",
    "df['frp_norm'] = escala_min_max.fit_transform(df[['frp']])\n",
    "\n",
    "# Estatísticas descritivas da coluna 'frp' normalizada ('frp_norm')\n",
    "df['frp_norm'].describe()"
   ]
  },
  {
   "cell_type": "code",
   "execution_count": 136,
   "id": "982b80b0",
   "metadata": {},
   "outputs": [
    {
     "data": {
      "text/plain": [
       "<AxesSubplot:>"
      ]
     },
     "execution_count": 136,
     "metadata": {},
     "output_type": "execute_result"
    },
    {
     "data": {
      "image/png": "[encoded data removed]",
      "text/plain": [
       "<Figure size 432x288 with 1 Axes>"
      ]
     },
     "metadata": {
      "needs_background": "light"
     },
     "output_type": "display_data"
    }
   ],
   "source": [
    "# Exibição do histograma da coluna \"frp_norm\"\n",
    "df['frp_norm'].hist()"
   ]
  },
  {
   "cell_type": "markdown",
   "id": "4ef987b6",
   "metadata": {
    "heading_collapsed": true
   },
   "source": [
    "#### Discretização"
   ]
  },
  {
   "cell_type": "markdown",
   "id": "b1d0033a",
   "metadata": {
    "hidden": true
   },
   "source": [
    "**Critério usado para a escolha dos intervalos de discretização:** Baseado na classificação do risco de fogo determinada pelo Programa Queimadas do INPE."
   ]
  },
  {
   "cell_type": "code",
   "execution_count": 137,
   "id": "b4cb0fdf",
   "metadata": {
    "hidden": true
   },
   "outputs": [],
   "source": [
    "# Definição dos intervalos para discretização da coluna 'riscofogo'\n",
    "nomes_intervalo = ['RF Mínimo','RF Baixo','RF Médio','RF Alto','RF Crítico']\n",
    "intervalos = [-0.10, 0.14, 0.40, 0.70, 0.95, 1.00]\n",
    "\n",
    "df['categorias_riscofogo'] = pd.cut(df['riscofogo'], intervalos, labels=nomes_intervalo)"
   ]
  },
  {
   "cell_type": "code",
   "execution_count": 138,
   "id": "60b353da",
   "metadata": {
    "hidden": true
   },
   "outputs": [
    {
     "data": {
      "text/html": [
       "<div>\n",
       "<style scoped>\n",
       "    .dataframe tbody tr th:only-of-type {\n",
       "        vertical-align: middle;\n",
       "    }\n",
       "\n",
       "    .dataframe tbody tr th {\n",
       "        vertical-align: top;\n",
       "    }\n",
       "\n",
       "    .dataframe thead th {\n",
       "        text-align: right;\n",
       "    }\n",
       "</style>\n",
       "<table border=\"1\" class=\"dataframe\">\n",
       "  <thead>\n",
       "    <tr style=\"text-align: right;\">\n",
       "      <th></th>\n",
       "      <th>datahora</th>\n",
       "      <th>municipio</th>\n",
       "      <th>diasemchuva</th>\n",
       "      <th>precipitacao</th>\n",
       "      <th>riscofogo</th>\n",
       "      <th>latitude</th>\n",
       "      <th>longitude</th>\n",
       "      <th>frp</th>\n",
       "      <th>frp_norm</th>\n",
       "      <th>categorias_riscofogo</th>\n",
       "    </tr>\n",
       "  </thead>\n",
       "  <tbody>\n",
       "    <tr>\n",
       "      <th>0</th>\n",
       "      <td>2021-01-04 17:35:00</td>\n",
       "      <td>ORIXIMINA</td>\n",
       "      <td>1.0</td>\n",
       "      <td>2.5</td>\n",
       "      <td>0.5</td>\n",
       "      <td>2.066</td>\n",
       "      <td>-55.929</td>\n",
       "      <td>12.6</td>\n",
       "      <td>0.002655</td>\n",
       "      <td>RF Médio</td>\n",
       "    </tr>\n",
       "    <tr>\n",
       "      <th>1</th>\n",
       "      <td>2021-01-05 16:40:00</td>\n",
       "      <td>MOJU</td>\n",
       "      <td>0.0</td>\n",
       "      <td>15.6</td>\n",
       "      <td>0.0</td>\n",
       "      <td>-3.039</td>\n",
       "      <td>-49.437</td>\n",
       "      <td>13.9</td>\n",
       "      <td>0.003022</td>\n",
       "      <td>RF Mínimo</td>\n",
       "    </tr>\n",
       "    <tr>\n",
       "      <th>2</th>\n",
       "      <td>2021-01-05 16:40:00</td>\n",
       "      <td>CAPITAO POCO</td>\n",
       "      <td>2.0</td>\n",
       "      <td>0.7</td>\n",
       "      <td>0.0</td>\n",
       "      <td>-1.931</td>\n",
       "      <td>-47.215</td>\n",
       "      <td>9.2</td>\n",
       "      <td>0.001695</td>\n",
       "      <td>RF Mínimo</td>\n",
       "    </tr>\n",
       "    <tr>\n",
       "      <th>3</th>\n",
       "      <td>2021-01-05 16:40:00</td>\n",
       "      <td>BRAGANCA</td>\n",
       "      <td>7.0</td>\n",
       "      <td>0.0</td>\n",
       "      <td>0.7</td>\n",
       "      <td>-1.014</td>\n",
       "      <td>-46.658</td>\n",
       "      <td>18.9</td>\n",
       "      <td>0.004435</td>\n",
       "      <td>RF Médio</td>\n",
       "    </tr>\n",
       "    <tr>\n",
       "      <th>4</th>\n",
       "      <td>2021-01-05 16:40:00</td>\n",
       "      <td>BRAGANCA</td>\n",
       "      <td>7.0</td>\n",
       "      <td>0.0</td>\n",
       "      <td>0.7</td>\n",
       "      <td>-1.015</td>\n",
       "      <td>-46.667</td>\n",
       "      <td>9.3</td>\n",
       "      <td>0.001723</td>\n",
       "      <td>RF Médio</td>\n",
       "    </tr>\n",
       "  </tbody>\n",
       "</table>\n",
       "</div>"
      ],
      "text/plain": [
       "             datahora     municipio  diasemchuva  precipitacao  riscofogo  \\\n",
       "0 2021-01-04 17:35:00     ORIXIMINA          1.0           2.5        0.5   \n",
       "1 2021-01-05 16:40:00          MOJU          0.0          15.6        0.0   \n",
       "2 2021-01-05 16:40:00  CAPITAO POCO          2.0           0.7        0.0   \n",
       "3 2021-01-05 16:40:00      BRAGANCA          7.0           0.0        0.7   \n",
       "4 2021-01-05 16:40:00      BRAGANCA          7.0           0.0        0.7   \n",
       "\n",
       "   latitude  longitude   frp  frp_norm categorias_riscofogo  \n",
       "0     2.066    -55.929  12.6  0.002655             RF Médio  \n",
       "1    -3.039    -49.437  13.9  0.003022            RF Mínimo  \n",
       "2    -1.931    -47.215   9.2  0.001695            RF Mínimo  \n",
       "3    -1.014    -46.658  18.9  0.004435             RF Médio  \n",
       "4    -1.015    -46.667   9.3  0.001723             RF Médio  "
      ]
     },
     "execution_count": 138,
     "metadata": {},
     "output_type": "execute_result"
    }
   ],
   "source": [
    "# Visualização da coluna criada com a discretização\n",
    "df.head()"
   ]
  },
  {
   "cell_type": "code",
   "execution_count": 139,
   "id": "5594b69b",
   "metadata": {
    "hidden": true
   },
   "outputs": [
    {
     "data": {
      "text/plain": [
       "RF Alto       3320\n",
       "RF Crítico    2582\n",
       "RF Médio      1693\n",
       "RF Mínimo     1593\n",
       "RF Baixo       946\n",
       "Name: categorias_riscofogo, dtype: int64"
      ]
     },
     "execution_count": 139,
     "metadata": {},
     "output_type": "execute_result"
    }
   ],
   "source": [
    "# Número de ocorrências por categoria em ordem decrescente\n",
    "df['categorias_riscofogo'].value_counts()"
   ]
  },
  {
   "cell_type": "code",
   "execution_count": 140,
   "id": "8891ee25",
   "metadata": {
    "hidden": true
   },
   "outputs": [
    {
     "data": {
      "image/png": "[encoded data removed]",
      "text/plain": [
       "<Figure size 432x288 with 1 Axes>"
      ]
     },
     "metadata": {
      "needs_background": "light"
     },
     "output_type": "display_data"
    }
   ],
   "source": [
    "# Exibição das categorias em forma de gráfico\n",
    "contagens = df['categorias_riscofogo'].value_counts()\n",
    "\n",
    "cores = '#FF1616 #9F2D21 #FFD700 #277E57 #5EC700'\n",
    "contagens.plot.bar(rot=45, color=cores.split())\n",
    "plt.title('Categorias de Risco de Fogo (RF)')\n",
    "plt.xlabel('Risco de Fogo')\n",
    "plt.ylabel('N° de Ocorrências')\n",
    "plt.show()"
   ]
  },
  {
   "cell_type": "markdown",
   "id": "20acfd80",
   "metadata": {
    "hidden": true
   },
   "source": [
    "**Conclusões obtidas com a discretização:** No intervalo de tempo analisado no dataset, verificou-se a maior incidência de ocorrências de risco de fogo alto e risco de fogo crítico. Deste fato pode-se concluir que a probabilidade de ocorrência de focos de incêndio para a região em questão foi muito elevada."
   ]
  },
  {
   "cell_type": "markdown",
   "id": "93a12ba1",
   "metadata": {},
   "source": [
    "#### Limpeza de dados"
   ]
  },
  {
   "cell_type": "code",
   "execution_count": 141,
   "id": "7be4eecd",
   "metadata": {},
   "outputs": [
    {
     "data": {
      "text/plain": [
       "datahora                0\n",
       "municipio               0\n",
       "diasemchuva             0\n",
       "precipitacao            0\n",
       "riscofogo               0\n",
       "latitude                0\n",
       "longitude               0\n",
       "frp                     0\n",
       "frp_norm                0\n",
       "categorias_riscofogo    0\n",
       "dtype: int64"
      ]
     },
     "execution_count": 141,
     "metadata": {},
     "output_type": "execute_result"
    }
   ],
   "source": [
    "# Verificação de dados duplicados\n",
    "df[df.duplicated()].count()"
   ]
  },
  {
   "cell_type": "markdown",
   "id": "186fdc4c",
   "metadata": {},
   "source": [
    "Não há registros duplicados no DataSet"
   ]
  },
  {
   "cell_type": "code",
   "execution_count": 142,
   "id": "28ba4b5e",
   "metadata": {},
   "outputs": [
    {
     "data": {
      "text/plain": [
       "count    10134.000000\n",
       "mean        84.375064\n",
       "std        187.332087\n",
       "min          3.200000\n",
       "25%         16.400000\n",
       "50%         32.500000\n",
       "75%         75.800000\n",
       "max       3543.400000\n",
       "Name: frp, dtype: float64"
      ]
     },
     "execution_count": 142,
     "metadata": {},
     "output_type": "execute_result"
    }
   ],
   "source": [
    "# Estatísticas descritivas da coluna \"frp\"\n",
    "df['frp'].describe()"
   ]
  },
  {
   "cell_type": "markdown",
   "id": "6499c802",
   "metadata": {},
   "source": [
    "Pelos resultados apresentados anteriormente verifica-se um valor máximo muito discrepante, o que sugere um tratamento de dados para remoção de Outliers. Será feito uma avaliação de qual o melhor método para a remoção dos Outliers."
   ]
  },
  {
   "cell_type": "code",
   "execution_count": 143,
   "id": "e0f1fa3d",
   "metadata": {},
   "outputs": [
    {
     "data": {
      "text/plain": [
       "<AxesSubplot:>"
      ]
     },
     "execution_count": 143,
     "metadata": {},
     "output_type": "execute_result"
    },
    {
     "data": {
      "image/png": "[encoded data removed]",
      "text/plain": [
       "<Figure size 432x288 with 1 Axes>"
      ]
     },
     "metadata": {
      "needs_background": "light"
     },
     "output_type": "display_data"
    }
   ],
   "source": [
    "# Exibição do diagrama de caixa\n",
    "df['frp'].plot.box()"
   ]
  },
  {
   "cell_type": "code",
   "execution_count": 144,
   "id": "2b389935",
   "metadata": {},
   "outputs": [
    {
     "data": {
      "text/plain": [
       "<AxesSubplot:>"
      ]
     },
     "execution_count": 144,
     "metadata": {},
     "output_type": "execute_result"
    },
    {
     "data": {
      "image/png": "[encoded data removed]",
      "text/plain": [
       "<Figure size 432x288 with 1 Axes>"
      ]
     },
     "metadata": {
      "needs_background": "light"
     },
     "output_type": "display_data"
    }
   ],
   "source": [
    "# Exibição do histograma da coluna \"frp\"\n",
    "df['frp'].hist()"
   ]
  },
  {
   "cell_type": "code",
   "execution_count": 145,
   "id": "65faa824",
   "metadata": {},
   "outputs": [
    {
     "data": {
      "text/plain": [
       "0"
      ]
     },
     "execution_count": 145,
     "metadata": {},
     "output_type": "execute_result"
    }
   ],
   "source": [
    "# Verificação de valores nulos na coluna 'frp' antes de aplicar o logarítimo\n",
    "df[df['frp'] == 0]['frp'].count()"
   ]
  },
  {
   "cell_type": "code",
   "execution_count": 146,
   "id": "f90b3c8a",
   "metadata": {},
   "outputs": [
    {
     "data": {
      "text/plain": [
       "<AxesSubplot:>"
      ]
     },
     "execution_count": 146,
     "metadata": {},
     "output_type": "execute_result"
    },
    {
     "data": {
      "image/png": "[encoded data removed]",
      "text/plain": [
       "<Figure size 432x288 with 1 Axes>"
      ]
     },
     "metadata": {
      "needs_background": "light"
     },
     "output_type": "display_data"
    }
   ],
   "source": [
    "# Conversão para ajustar o conjunto de dados para uma distribuição aproximadamente simétrica\n",
    "df['frp_log'] = np.log10(df['frp'])\n",
    "df['frp_log'].hist()"
   ]
  },
  {
   "cell_type": "code",
   "execution_count": 147,
   "id": "62393f10",
   "metadata": {},
   "outputs": [
    {
     "name": "stdout",
     "output_type": "stream",
     "text": [
      "0.6648253575843557\n"
     ]
    }
   ],
   "source": [
    "# Cálculo dos quartis e do IQR para a utilização do método de Tukey\n",
    "q1 = df['frp_log'].quantile(q=0.25)\n",
    "q3 = df['frp_log'].quantile(q=0.75)\n",
    "iqr = q3 - q1\n",
    "print(iqr)"
   ]
  },
  {
   "cell_type": "code",
   "execution_count": 148,
   "id": "9b396ce5",
   "metadata": {},
   "outputs": [
    {
     "data": {
      "text/plain": [
       "0"
      ]
     },
     "execution_count": 148,
     "metadata": {},
     "output_type": "execute_result"
    }
   ],
   "source": [
    "# Outliers inferiores ou mínimos\n",
    "df[df['frp_log'] < (q1-1.5*iqr)]['frp_log'].count()"
   ]
  },
  {
   "cell_type": "code",
   "execution_count": 149,
   "id": "e4c98424",
   "metadata": {},
   "outputs": [
    {
     "data": {
      "text/plain": [
       "135"
      ]
     },
     "execution_count": 149,
     "metadata": {},
     "output_type": "execute_result"
    }
   ],
   "source": [
    "# Verificação da quantidade de outliers superiores de acordo com o método de Tukey\n",
    "df[df['frp_log'] > (q3+1.5*iqr)]['frp_log'].count()"
   ]
  },
  {
   "cell_type": "code",
   "execution_count": 150,
   "id": "4f2d33e2",
   "metadata": {},
   "outputs": [
    {
     "data": {
      "text/html": [
       "<div>\n",
       "<style scoped>\n",
       "    .dataframe tbody tr th:only-of-type {\n",
       "        vertical-align: middle;\n",
       "    }\n",
       "\n",
       "    .dataframe tbody tr th {\n",
       "        vertical-align: top;\n",
       "    }\n",
       "\n",
       "    .dataframe thead th {\n",
       "        text-align: right;\n",
       "    }\n",
       "</style>\n",
       "<table border=\"1\" class=\"dataframe\">\n",
       "  <thead>\n",
       "    <tr style=\"text-align: right;\">\n",
       "      <th></th>\n",
       "      <th>datahora</th>\n",
       "      <th>municipio</th>\n",
       "      <th>diasemchuva</th>\n",
       "      <th>precipitacao</th>\n",
       "      <th>riscofogo</th>\n",
       "      <th>latitude</th>\n",
       "      <th>longitude</th>\n",
       "      <th>frp</th>\n",
       "      <th>frp_norm</th>\n",
       "      <th>categorias_riscofogo</th>\n",
       "      <th>frp_log</th>\n",
       "    </tr>\n",
       "  </thead>\n",
       "  <tbody>\n",
       "    <tr>\n",
       "      <th>1513</th>\n",
       "      <td>2021-07-21 16:55:00</td>\n",
       "      <td>NOVO PROGRESSO</td>\n",
       "      <td>11.0</td>\n",
       "      <td>0.0</td>\n",
       "      <td>0.8</td>\n",
       "      <td>-6.79200</td>\n",
       "      <td>-55.23500</td>\n",
       "      <td>816.6</td>\n",
       "      <td>0.229761</td>\n",
       "      <td>RF Alto</td>\n",
       "      <td>2.912009</td>\n",
       "    </tr>\n",
       "    <tr>\n",
       "      <th>2203</th>\n",
       "      <td>2021-07-29 17:49:00</td>\n",
       "      <td>ITAITUBA</td>\n",
       "      <td>12.0</td>\n",
       "      <td>0.0</td>\n",
       "      <td>0.8</td>\n",
       "      <td>-6.19287</td>\n",
       "      <td>-55.32591</td>\n",
       "      <td>1869.1</td>\n",
       "      <td>0.527061</td>\n",
       "      <td>RF Alto</td>\n",
       "      <td>3.271633</td>\n",
       "    </tr>\n",
       "    <tr>\n",
       "      <th>2235</th>\n",
       "      <td>2021-07-29 17:49:00</td>\n",
       "      <td>ITAITUBA</td>\n",
       "      <td>20.0</td>\n",
       "      <td>0.0</td>\n",
       "      <td>1.0</td>\n",
       "      <td>-6.51242</td>\n",
       "      <td>-55.29427</td>\n",
       "      <td>783.4</td>\n",
       "      <td>0.220383</td>\n",
       "      <td>RF Crítico</td>\n",
       "      <td>2.893984</td>\n",
       "    </tr>\n",
       "    <tr>\n",
       "      <th>2325</th>\n",
       "      <td>2021-07-30 16:54:00</td>\n",
       "      <td>NOVO PROGRESSO</td>\n",
       "      <td>22.0</td>\n",
       "      <td>0.0</td>\n",
       "      <td>0.9</td>\n",
       "      <td>-7.27305</td>\n",
       "      <td>-55.48598</td>\n",
       "      <td>940.9</td>\n",
       "      <td>0.264872</td>\n",
       "      <td>RF Alto</td>\n",
       "      <td>2.973543</td>\n",
       "    </tr>\n",
       "    <tr>\n",
       "      <th>2388</th>\n",
       "      <td>2021-07-31 17:37:00</td>\n",
       "      <td>ALTAMIRA</td>\n",
       "      <td>21.0</td>\n",
       "      <td>0.1</td>\n",
       "      <td>0.9</td>\n",
       "      <td>-6.36802</td>\n",
       "      <td>-55.22302</td>\n",
       "      <td>851.9</td>\n",
       "      <td>0.239732</td>\n",
       "      <td>RF Alto</td>\n",
       "      <td>2.930389</td>\n",
       "    </tr>\n",
       "    <tr>\n",
       "      <th>...</th>\n",
       "      <td>...</td>\n",
       "      <td>...</td>\n",
       "      <td>...</td>\n",
       "      <td>...</td>\n",
       "      <td>...</td>\n",
       "      <td>...</td>\n",
       "      <td>...</td>\n",
       "      <td>...</td>\n",
       "      <td>...</td>\n",
       "      <td>...</td>\n",
       "      <td>...</td>\n",
       "    </tr>\n",
       "    <tr>\n",
       "      <th>9282</th>\n",
       "      <td>2021-08-24 16:48:00</td>\n",
       "      <td>SAO FELIX DO XINGU</td>\n",
       "      <td>10.0</td>\n",
       "      <td>0.0</td>\n",
       "      <td>1.0</td>\n",
       "      <td>-5.35201</td>\n",
       "      <td>-51.21677</td>\n",
       "      <td>1229.4</td>\n",
       "      <td>0.346365</td>\n",
       "      <td>RF Crítico</td>\n",
       "      <td>3.089693</td>\n",
       "    </tr>\n",
       "    <tr>\n",
       "      <th>9308</th>\n",
       "      <td>2021-08-24 16:48:00</td>\n",
       "      <td>SAO FELIX DO XINGU</td>\n",
       "      <td>17.0</td>\n",
       "      <td>0.0</td>\n",
       "      <td>1.0</td>\n",
       "      <td>-5.58183</td>\n",
       "      <td>-51.64378</td>\n",
       "      <td>1199.6</td>\n",
       "      <td>0.337947</td>\n",
       "      <td>RF Crítico</td>\n",
       "      <td>3.079036</td>\n",
       "    </tr>\n",
       "    <tr>\n",
       "      <th>10050</th>\n",
       "      <td>2021-08-29 17:07:00</td>\n",
       "      <td>PACAJA</td>\n",
       "      <td>2.0</td>\n",
       "      <td>0.0</td>\n",
       "      <td>0.5</td>\n",
       "      <td>-4.06327</td>\n",
       "      <td>-50.88024</td>\n",
       "      <td>840.3</td>\n",
       "      <td>0.236456</td>\n",
       "      <td>RF Médio</td>\n",
       "      <td>2.924434</td>\n",
       "    </tr>\n",
       "    <tr>\n",
       "      <th>10051</th>\n",
       "      <td>2021-08-29 17:07:00</td>\n",
       "      <td>PACAJA</td>\n",
       "      <td>2.0</td>\n",
       "      <td>0.0</td>\n",
       "      <td>0.5</td>\n",
       "      <td>-4.06461</td>\n",
       "      <td>-50.88953</td>\n",
       "      <td>1363.1</td>\n",
       "      <td>0.384131</td>\n",
       "      <td>RF Médio</td>\n",
       "      <td>3.134528</td>\n",
       "    </tr>\n",
       "    <tr>\n",
       "      <th>10105</th>\n",
       "      <td>2021-08-31 16:52:00</td>\n",
       "      <td>ALTAMIRA</td>\n",
       "      <td>0.0</td>\n",
       "      <td>0.1</td>\n",
       "      <td>0.4</td>\n",
       "      <td>-8.00042</td>\n",
       "      <td>-55.00460</td>\n",
       "      <td>1152.0</td>\n",
       "      <td>0.324501</td>\n",
       "      <td>RF Baixo</td>\n",
       "      <td>3.061452</td>\n",
       "    </tr>\n",
       "  </tbody>\n",
       "</table>\n",
       "<p>135 rows × 11 columns</p>\n",
       "</div>"
      ],
      "text/plain": [
       "                 datahora           municipio  diasemchuva  precipitacao  \\\n",
       "1513  2021-07-21 16:55:00      NOVO PROGRESSO         11.0           0.0   \n",
       "2203  2021-07-29 17:49:00            ITAITUBA         12.0           0.0   \n",
       "2235  2021-07-29 17:49:00            ITAITUBA         20.0           0.0   \n",
       "2325  2021-07-30 16:54:00      NOVO PROGRESSO         22.0           0.0   \n",
       "2388  2021-07-31 17:37:00            ALTAMIRA         21.0           0.1   \n",
       "...                   ...                 ...          ...           ...   \n",
       "9282  2021-08-24 16:48:00  SAO FELIX DO XINGU         10.0           0.0   \n",
       "9308  2021-08-24 16:48:00  SAO FELIX DO XINGU         17.0           0.0   \n",
       "10050 2021-08-29 17:07:00              PACAJA          2.0           0.0   \n",
       "10051 2021-08-29 17:07:00              PACAJA          2.0           0.0   \n",
       "10105 2021-08-31 16:52:00            ALTAMIRA          0.0           0.1   \n",
       "\n",
       "       riscofogo  latitude  longitude     frp  frp_norm categorias_riscofogo  \\\n",
       "1513         0.8  -6.79200  -55.23500   816.6  0.229761              RF Alto   \n",
       "2203         0.8  -6.19287  -55.32591  1869.1  0.527061              RF Alto   \n",
       "2235         1.0  -6.51242  -55.29427   783.4  0.220383           RF Crítico   \n",
       "2325         0.9  -7.27305  -55.48598   940.9  0.264872              RF Alto   \n",
       "2388         0.9  -6.36802  -55.22302   851.9  0.239732              RF Alto   \n",
       "...          ...       ...        ...     ...       ...                  ...   \n",
       "9282         1.0  -5.35201  -51.21677  1229.4  0.346365           RF Crítico   \n",
       "9308         1.0  -5.58183  -51.64378  1199.6  0.337947           RF Crítico   \n",
       "10050        0.5  -4.06327  -50.88024   840.3  0.236456             RF Médio   \n",
       "10051        0.5  -4.06461  -50.88953  1363.1  0.384131             RF Médio   \n",
       "10105        0.4  -8.00042  -55.00460  1152.0  0.324501             RF Baixo   \n",
       "\n",
       "        frp_log  \n",
       "1513   2.912009  \n",
       "2203   3.271633  \n",
       "2235   2.893984  \n",
       "2325   2.973543  \n",
       "2388   2.930389  \n",
       "...         ...  \n",
       "9282   3.089693  \n",
       "9308   3.079036  \n",
       "10050  2.924434  \n",
       "10051  3.134528  \n",
       "10105  3.061452  \n",
       "\n",
       "[135 rows x 11 columns]"
      ]
     },
     "execution_count": 150,
     "metadata": {},
     "output_type": "execute_result"
    }
   ],
   "source": [
    "# Outliers superiores ou máximos\n",
    "df[df['frp_log'] > (q3+1.5*iqr)]"
   ]
  },
  {
   "cell_type": "code",
   "execution_count": 151,
   "id": "bd199307",
   "metadata": {},
   "outputs": [
    {
     "name": "stdout",
     "output_type": "stream",
     "text": [
      "0.39309217516256945\n"
     ]
    }
   ],
   "source": [
    "# Cálculo do MAD para a utilização do método Z-Score Robusto\n",
    "mad = df['frp_log'].mad()\n",
    "print(mad)"
   ]
  },
  {
   "cell_type": "code",
   "execution_count": 152,
   "id": "42f9ee6a",
   "metadata": {},
   "outputs": [
    {
     "data": {
      "text/plain": [
       "<AxesSubplot:>"
      ]
     },
     "execution_count": 152,
     "metadata": {},
     "output_type": "execute_result"
    },
    {
     "data": {
      "image/png": "[encoded data removed]",
      "text/plain": [
       "<Figure size 432x288 with 1 Axes>"
      ]
     },
     "metadata": {
      "needs_background": "light"
     },
     "output_type": "display_data"
    }
   ],
   "source": [
    "# Valores de Mi\n",
    "(abs(df['frp_log']-df['frp_log'].median())/mad).hist()"
   ]
  },
  {
   "cell_type": "code",
   "execution_count": 153,
   "id": "5ff87343",
   "metadata": {},
   "outputs": [
    {
     "data": {
      "text/html": [
       "<div>\n",
       "<style scoped>\n",
       "    .dataframe tbody tr th:only-of-type {\n",
       "        vertical-align: middle;\n",
       "    }\n",
       "\n",
       "    .dataframe tbody tr th {\n",
       "        vertical-align: top;\n",
       "    }\n",
       "\n",
       "    .dataframe thead th {\n",
       "        text-align: right;\n",
       "    }\n",
       "</style>\n",
       "<table border=\"1\" class=\"dataframe\">\n",
       "  <thead>\n",
       "    <tr style=\"text-align: right;\">\n",
       "      <th></th>\n",
       "      <th>datahora</th>\n",
       "      <th>municipio</th>\n",
       "      <th>diasemchuva</th>\n",
       "      <th>precipitacao</th>\n",
       "      <th>riscofogo</th>\n",
       "      <th>latitude</th>\n",
       "      <th>longitude</th>\n",
       "      <th>frp</th>\n",
       "      <th>frp_norm</th>\n",
       "      <th>categorias_riscofogo</th>\n",
       "      <th>frp_log</th>\n",
       "    </tr>\n",
       "  </thead>\n",
       "  <tbody>\n",
       "    <tr>\n",
       "      <th>2536</th>\n",
       "      <td>2021-08-04 17:11:00</td>\n",
       "      <td>NOVO PROGRESSO</td>\n",
       "      <td>40.0</td>\n",
       "      <td>0.0</td>\n",
       "      <td>1.0</td>\n",
       "      <td>-8.06854</td>\n",
       "      <td>-55.28938</td>\n",
       "      <td>2069.2</td>\n",
       "      <td>0.583583</td>\n",
       "      <td>RF Crítico</td>\n",
       "      <td>3.315802</td>\n",
       "    </tr>\n",
       "    <tr>\n",
       "      <th>2630</th>\n",
       "      <td>2021-08-04 17:11:00</td>\n",
       "      <td>NOVO PROGRESSO</td>\n",
       "      <td>48.0</td>\n",
       "      <td>0.0</td>\n",
       "      <td>1.0</td>\n",
       "      <td>-8.17124</td>\n",
       "      <td>-55.44312</td>\n",
       "      <td>2202.9</td>\n",
       "      <td>0.621349</td>\n",
       "      <td>RF Crítico</td>\n",
       "      <td>3.342995</td>\n",
       "    </tr>\n",
       "    <tr>\n",
       "      <th>2635</th>\n",
       "      <td>2021-08-04 17:11:00</td>\n",
       "      <td>NOVO PROGRESSO</td>\n",
       "      <td>48.0</td>\n",
       "      <td>0.0</td>\n",
       "      <td>1.0</td>\n",
       "      <td>-8.17952</td>\n",
       "      <td>-55.43101</td>\n",
       "      <td>2155.9</td>\n",
       "      <td>0.608073</td>\n",
       "      <td>RF Crítico</td>\n",
       "      <td>3.333629</td>\n",
       "    </tr>\n",
       "    <tr>\n",
       "      <th>3093</th>\n",
       "      <td>2021-08-06 16:58:00</td>\n",
       "      <td>SAO FELIX DO XINGU</td>\n",
       "      <td>18.0</td>\n",
       "      <td>0.0</td>\n",
       "      <td>0.9</td>\n",
       "      <td>-6.56849</td>\n",
       "      <td>-53.21798</td>\n",
       "      <td>2490.7</td>\n",
       "      <td>0.702644</td>\n",
       "      <td>RF Alto</td>\n",
       "      <td>3.396321</td>\n",
       "    </tr>\n",
       "    <tr>\n",
       "      <th>3104</th>\n",
       "      <td>2021-08-06 16:58:00</td>\n",
       "      <td>SAO FELIX DO XINGU</td>\n",
       "      <td>20.0</td>\n",
       "      <td>0.0</td>\n",
       "      <td>0.9</td>\n",
       "      <td>-6.57857</td>\n",
       "      <td>-53.21653</td>\n",
       "      <td>2114.3</td>\n",
       "      <td>0.596322</td>\n",
       "      <td>RF Alto</td>\n",
       "      <td>3.325167</td>\n",
       "    </tr>\n",
       "    <tr>\n",
       "      <th>3205</th>\n",
       "      <td>2021-08-06 16:58:00</td>\n",
       "      <td>ALTAMIRA</td>\n",
       "      <td>21.0</td>\n",
       "      <td>0.0</td>\n",
       "      <td>0.9</td>\n",
       "      <td>-6.41433</td>\n",
       "      <td>-53.35823</td>\n",
       "      <td>2011.3</td>\n",
       "      <td>0.567228</td>\n",
       "      <td>RF Alto</td>\n",
       "      <td>3.303477</td>\n",
       "    </tr>\n",
       "    <tr>\n",
       "      <th>3206</th>\n",
       "      <td>2021-08-06 16:58:00</td>\n",
       "      <td>ALTAMIRA</td>\n",
       "      <td>23.0</td>\n",
       "      <td>0.0</td>\n",
       "      <td>0.9</td>\n",
       "      <td>-6.41592</td>\n",
       "      <td>-53.36999</td>\n",
       "      <td>2490.4</td>\n",
       "      <td>0.702559</td>\n",
       "      <td>RF Alto</td>\n",
       "      <td>3.396269</td>\n",
       "    </tr>\n",
       "    <tr>\n",
       "      <th>3220</th>\n",
       "      <td>2021-08-06 16:58:00</td>\n",
       "      <td>ALTAMIRA</td>\n",
       "      <td>18.0</td>\n",
       "      <td>0.0</td>\n",
       "      <td>0.9</td>\n",
       "      <td>-6.43467</td>\n",
       "      <td>-53.35545</td>\n",
       "      <td>1983.5</td>\n",
       "      <td>0.559375</td>\n",
       "      <td>RF Alto</td>\n",
       "      <td>3.297432</td>\n",
       "    </tr>\n",
       "    <tr>\n",
       "      <th>3227</th>\n",
       "      <td>2021-08-06 16:58:00</td>\n",
       "      <td>ALTAMIRA</td>\n",
       "      <td>16.0</td>\n",
       "      <td>0.0</td>\n",
       "      <td>0.9</td>\n",
       "      <td>-6.44483</td>\n",
       "      <td>-53.35399</td>\n",
       "      <td>2503.1</td>\n",
       "      <td>0.706147</td>\n",
       "      <td>RF Alto</td>\n",
       "      <td>3.398478</td>\n",
       "    </tr>\n",
       "    <tr>\n",
       "      <th>3228</th>\n",
       "      <td>2021-08-06 16:58:00</td>\n",
       "      <td>ALTAMIRA</td>\n",
       "      <td>18.0</td>\n",
       "      <td>0.0</td>\n",
       "      <td>0.9</td>\n",
       "      <td>-6.45662</td>\n",
       "      <td>-53.36436</td>\n",
       "      <td>2550.8</td>\n",
       "      <td>0.719620</td>\n",
       "      <td>RF Alto</td>\n",
       "      <td>3.406676</td>\n",
       "    </tr>\n",
       "    <tr>\n",
       "      <th>3995</th>\n",
       "      <td>2021-08-08 16:48:00</td>\n",
       "      <td>ALTAMIRA</td>\n",
       "      <td>17.0</td>\n",
       "      <td>0.0</td>\n",
       "      <td>0.9</td>\n",
       "      <td>-6.41997</td>\n",
       "      <td>-53.26955</td>\n",
       "      <td>2414.8</td>\n",
       "      <td>0.681204</td>\n",
       "      <td>RF Alto</td>\n",
       "      <td>3.382881</td>\n",
       "    </tr>\n",
       "    <tr>\n",
       "      <th>3996</th>\n",
       "      <td>2021-08-08 16:48:00</td>\n",
       "      <td>ALTAMIRA</td>\n",
       "      <td>17.0</td>\n",
       "      <td>0.0</td>\n",
       "      <td>0.9</td>\n",
       "      <td>-6.42121</td>\n",
       "      <td>-53.27444</td>\n",
       "      <td>3301.3</td>\n",
       "      <td>0.931614</td>\n",
       "      <td>RF Alto</td>\n",
       "      <td>3.518685</td>\n",
       "    </tr>\n",
       "    <tr>\n",
       "      <th>3997</th>\n",
       "      <td>2021-08-08 16:48:00</td>\n",
       "      <td>ALTAMIRA</td>\n",
       "      <td>18.0</td>\n",
       "      <td>0.0</td>\n",
       "      <td>0.9</td>\n",
       "      <td>-6.42250</td>\n",
       "      <td>-53.28930</td>\n",
       "      <td>2407.8</td>\n",
       "      <td>0.679227</td>\n",
       "      <td>RF Alto</td>\n",
       "      <td>3.381620</td>\n",
       "    </tr>\n",
       "    <tr>\n",
       "      <th>4003</th>\n",
       "      <td>2021-08-08 16:48:00</td>\n",
       "      <td>ALTAMIRA</td>\n",
       "      <td>17.0</td>\n",
       "      <td>0.0</td>\n",
       "      <td>0.9</td>\n",
       "      <td>-6.43280</td>\n",
       "      <td>-53.26797</td>\n",
       "      <td>3034.8</td>\n",
       "      <td>0.856336</td>\n",
       "      <td>RF Alto</td>\n",
       "      <td>3.482130</td>\n",
       "    </tr>\n",
       "    <tr>\n",
       "      <th>4004</th>\n",
       "      <td>2021-08-08 16:48:00</td>\n",
       "      <td>ALTAMIRA</td>\n",
       "      <td>17.0</td>\n",
       "      <td>0.0</td>\n",
       "      <td>0.9</td>\n",
       "      <td>-6.43402</td>\n",
       "      <td>-53.27271</td>\n",
       "      <td>2890.1</td>\n",
       "      <td>0.815462</td>\n",
       "      <td>RF Alto</td>\n",
       "      <td>3.460913</td>\n",
       "    </tr>\n",
       "    <tr>\n",
       "      <th>4107</th>\n",
       "      <td>2021-08-08 16:48:00</td>\n",
       "      <td>SAO FELIX DO XINGU</td>\n",
       "      <td>42.0</td>\n",
       "      <td>0.0</td>\n",
       "      <td>1.0</td>\n",
       "      <td>-6.64392</td>\n",
       "      <td>-53.38803</td>\n",
       "      <td>2877.3</td>\n",
       "      <td>0.811847</td>\n",
       "      <td>RF Crítico</td>\n",
       "      <td>3.458985</td>\n",
       "    </tr>\n",
       "    <tr>\n",
       "      <th>4108</th>\n",
       "      <td>2021-08-08 16:48:00</td>\n",
       "      <td>SAO FELIX DO XINGU</td>\n",
       "      <td>43.0</td>\n",
       "      <td>0.0</td>\n",
       "      <td>1.0</td>\n",
       "      <td>-6.64630</td>\n",
       "      <td>-53.39269</td>\n",
       "      <td>2720.7</td>\n",
       "      <td>0.767612</td>\n",
       "      <td>RF Crítico</td>\n",
       "      <td>3.434681</td>\n",
       "    </tr>\n",
       "    <tr>\n",
       "      <th>4109</th>\n",
       "      <td>2021-08-08 16:48:00</td>\n",
       "      <td>SAO FELIX DO XINGU</td>\n",
       "      <td>43.0</td>\n",
       "      <td>0.0</td>\n",
       "      <td>1.0</td>\n",
       "      <td>-6.64653</td>\n",
       "      <td>-53.40812</td>\n",
       "      <td>3543.4</td>\n",
       "      <td>1.000000</td>\n",
       "      <td>RF Crítico</td>\n",
       "      <td>3.549420</td>\n",
       "    </tr>\n",
       "    <tr>\n",
       "      <th>4734</th>\n",
       "      <td>2021-08-10 16:35:00</td>\n",
       "      <td>ALTAMIRA</td>\n",
       "      <td>7.0</td>\n",
       "      <td>0.0</td>\n",
       "      <td>0.8</td>\n",
       "      <td>-6.29802</td>\n",
       "      <td>-53.26668</td>\n",
       "      <td>2034.7</td>\n",
       "      <td>0.573838</td>\n",
       "      <td>RF Alto</td>\n",
       "      <td>3.308500</td>\n",
       "    </tr>\n",
       "    <tr>\n",
       "      <th>5717</th>\n",
       "      <td>2021-08-12 18:00:00</td>\n",
       "      <td>ALTAMIRA</td>\n",
       "      <td>9.0</td>\n",
       "      <td>0.0</td>\n",
       "      <td>0.8</td>\n",
       "      <td>-6.41935</td>\n",
       "      <td>-55.11512</td>\n",
       "      <td>2906.1</td>\n",
       "      <td>0.819982</td>\n",
       "      <td>RF Alto</td>\n",
       "      <td>3.463311</td>\n",
       "    </tr>\n",
       "    <tr>\n",
       "      <th>5945</th>\n",
       "      <td>2021-08-13 17:05:00</td>\n",
       "      <td>NOVO PROGRESSO</td>\n",
       "      <td>10.0</td>\n",
       "      <td>0.0</td>\n",
       "      <td>0.9</td>\n",
       "      <td>-8.16139</td>\n",
       "      <td>-55.42824</td>\n",
       "      <td>2352.3</td>\n",
       "      <td>0.663550</td>\n",
       "      <td>RF Alto</td>\n",
       "      <td>3.371493</td>\n",
       "    </tr>\n",
       "  </tbody>\n",
       "</table>\n",
       "</div>"
      ],
      "text/plain": [
       "                datahora           municipio  diasemchuva  precipitacao  \\\n",
       "2536 2021-08-04 17:11:00      NOVO PROGRESSO         40.0           0.0   \n",
       "2630 2021-08-04 17:11:00      NOVO PROGRESSO         48.0           0.0   \n",
       "2635 2021-08-04 17:11:00      NOVO PROGRESSO         48.0           0.0   \n",
       "3093 2021-08-06 16:58:00  SAO FELIX DO XINGU         18.0           0.0   \n",
       "3104 2021-08-06 16:58:00  SAO FELIX DO XINGU         20.0           0.0   \n",
       "3205 2021-08-06 16:58:00            ALTAMIRA         21.0           0.0   \n",
       "3206 2021-08-06 16:58:00            ALTAMIRA         23.0           0.0   \n",
       "3220 2021-08-06 16:58:00            ALTAMIRA         18.0           0.0   \n",
       "3227 2021-08-06 16:58:00            ALTAMIRA         16.0           0.0   \n",
       "3228 2021-08-06 16:58:00            ALTAMIRA         18.0           0.0   \n",
       "3995 2021-08-08 16:48:00            ALTAMIRA         17.0           0.0   \n",
       "3996 2021-08-08 16:48:00            ALTAMIRA         17.0           0.0   \n",
       "3997 2021-08-08 16:48:00            ALTAMIRA         18.0           0.0   \n",
       "4003 2021-08-08 16:48:00            ALTAMIRA         17.0           0.0   \n",
       "4004 2021-08-08 16:48:00            ALTAMIRA         17.0           0.0   \n",
       "4107 2021-08-08 16:48:00  SAO FELIX DO XINGU         42.0           0.0   \n",
       "4108 2021-08-08 16:48:00  SAO FELIX DO XINGU         43.0           0.0   \n",
       "4109 2021-08-08 16:48:00  SAO FELIX DO XINGU         43.0           0.0   \n",
       "4734 2021-08-10 16:35:00            ALTAMIRA          7.0           0.0   \n",
       "5717 2021-08-12 18:00:00            ALTAMIRA          9.0           0.0   \n",
       "5945 2021-08-13 17:05:00      NOVO PROGRESSO         10.0           0.0   \n",
       "\n",
       "      riscofogo  latitude  longitude     frp  frp_norm categorias_riscofogo  \\\n",
       "2536        1.0  -8.06854  -55.28938  2069.2  0.583583           RF Crítico   \n",
       "2630        1.0  -8.17124  -55.44312  2202.9  0.621349           RF Crítico   \n",
       "2635        1.0  -8.17952  -55.43101  2155.9  0.608073           RF Crítico   \n",
       "3093        0.9  -6.56849  -53.21798  2490.7  0.702644              RF Alto   \n",
       "3104        0.9  -6.57857  -53.21653  2114.3  0.596322              RF Alto   \n",
       "3205        0.9  -6.41433  -53.35823  2011.3  0.567228              RF Alto   \n",
       "3206        0.9  -6.41592  -53.36999  2490.4  0.702559              RF Alto   \n",
       "3220        0.9  -6.43467  -53.35545  1983.5  0.559375              RF Alto   \n",
       "3227        0.9  -6.44483  -53.35399  2503.1  0.706147              RF Alto   \n",
       "3228        0.9  -6.45662  -53.36436  2550.8  0.719620              RF Alto   \n",
       "3995        0.9  -6.41997  -53.26955  2414.8  0.681204              RF Alto   \n",
       "3996        0.9  -6.42121  -53.27444  3301.3  0.931614              RF Alto   \n",
       "3997        0.9  -6.42250  -53.28930  2407.8  0.679227              RF Alto   \n",
       "4003        0.9  -6.43280  -53.26797  3034.8  0.856336              RF Alto   \n",
       "4004        0.9  -6.43402  -53.27271  2890.1  0.815462              RF Alto   \n",
       "4107        1.0  -6.64392  -53.38803  2877.3  0.811847           RF Crítico   \n",
       "4108        1.0  -6.64630  -53.39269  2720.7  0.767612           RF Crítico   \n",
       "4109        1.0  -6.64653  -53.40812  3543.4  1.000000           RF Crítico   \n",
       "4734        0.8  -6.29802  -53.26668  2034.7  0.573838              RF Alto   \n",
       "5717        0.8  -6.41935  -55.11512  2906.1  0.819982              RF Alto   \n",
       "5945        0.9  -8.16139  -55.42824  2352.3  0.663550              RF Alto   \n",
       "\n",
       "       frp_log  \n",
       "2536  3.315802  \n",
       "2630  3.342995  \n",
       "2635  3.333629  \n",
       "3093  3.396321  \n",
       "3104  3.325167  \n",
       "3205  3.303477  \n",
       "3206  3.396269  \n",
       "3220  3.297432  \n",
       "3227  3.398478  \n",
       "3228  3.406676  \n",
       "3995  3.382881  \n",
       "3996  3.518685  \n",
       "3997  3.381620  \n",
       "4003  3.482130  \n",
       "4004  3.460913  \n",
       "4107  3.458985  \n",
       "4108  3.434681  \n",
       "4109  3.549420  \n",
       "4734  3.308500  \n",
       "5717  3.463311  \n",
       "5945  3.371493  "
      ]
     },
     "execution_count": 153,
     "metadata": {},
     "output_type": "execute_result"
    }
   ],
   "source": [
    "# Verificação dos outliers pelo método Z-Score Robusto\n",
    "limiar = 4.5\n",
    "df[abs(df['frp_log']-df['frp_log'].median())/mad > limiar]"
   ]
  },
  {
   "cell_type": "markdown",
   "id": "3c06a1af",
   "metadata": {},
   "source": [
    "### Estatísticas Descritivas"
   ]
  },
  {
   "cell_type": "markdown",
   "id": "952207a1",
   "metadata": {},
   "source": [
    "#### Correlação"
   ]
  },
  {
   "cell_type": "code",
   "execution_count": 170,
   "id": "f5abf9de",
   "metadata": {},
   "outputs": [
    {
     "data": {
      "text/html": [
       "<div>\n",
       "<style scoped>\n",
       "    .dataframe tbody tr th:only-of-type {\n",
       "        vertical-align: middle;\n",
       "    }\n",
       "\n",
       "    .dataframe tbody tr th {\n",
       "        vertical-align: top;\n",
       "    }\n",
       "\n",
       "    .dataframe thead th {\n",
       "        text-align: right;\n",
       "    }\n",
       "</style>\n",
       "<table border=\"1\" class=\"dataframe\">\n",
       "  <thead>\n",
       "    <tr style=\"text-align: right;\">\n",
       "      <th></th>\n",
       "      <th>riscofogo</th>\n",
       "      <th>precipitacao</th>\n",
       "      <th>latitude</th>\n",
       "      <th>longitude</th>\n",
       "      <th>frp</th>\n",
       "    </tr>\n",
       "  </thead>\n",
       "  <tbody>\n",
       "    <tr>\n",
       "      <th>riscofogo</th>\n",
       "      <td>1.000000</td>\n",
       "      <td>-0.372886</td>\n",
       "      <td>-0.724639</td>\n",
       "      <td>-0.269648</td>\n",
       "      <td>0.169480</td>\n",
       "    </tr>\n",
       "    <tr>\n",
       "      <th>precipitacao</th>\n",
       "      <td>-0.372886</td>\n",
       "      <td>1.000000</td>\n",
       "      <td>0.112722</td>\n",
       "      <td>0.056597</td>\n",
       "      <td>-0.058546</td>\n",
       "    </tr>\n",
       "    <tr>\n",
       "      <th>latitude</th>\n",
       "      <td>-0.724639</td>\n",
       "      <td>0.112722</td>\n",
       "      <td>1.000000</td>\n",
       "      <td>0.405539</td>\n",
       "      <td>-0.135403</td>\n",
       "    </tr>\n",
       "    <tr>\n",
       "      <th>longitude</th>\n",
       "      <td>-0.269648</td>\n",
       "      <td>0.056597</td>\n",
       "      <td>0.405539</td>\n",
       "      <td>1.000000</td>\n",
       "      <td>-0.102077</td>\n",
       "    </tr>\n",
       "    <tr>\n",
       "      <th>frp</th>\n",
       "      <td>0.169480</td>\n",
       "      <td>-0.058546</td>\n",
       "      <td>-0.135403</td>\n",
       "      <td>-0.102077</td>\n",
       "      <td>1.000000</td>\n",
       "    </tr>\n",
       "  </tbody>\n",
       "</table>\n",
       "</div>"
      ],
      "text/plain": [
       "              riscofogo  precipitacao  latitude  longitude       frp\n",
       "riscofogo      1.000000     -0.372886 -0.724639  -0.269648  0.169480\n",
       "precipitacao  -0.372886      1.000000  0.112722   0.056597 -0.058546\n",
       "latitude      -0.724639      0.112722  1.000000   0.405539 -0.135403\n",
       "longitude     -0.269648      0.056597  0.405539   1.000000 -0.102077\n",
       "frp            0.169480     -0.058546 -0.135403  -0.102077  1.000000"
      ]
     },
     "execution_count": 170,
     "metadata": {},
     "output_type": "execute_result"
    }
   ],
   "source": [
    "# Análise da Correlação entre as colunas 'riscofogo', 'precipitacao', 'latitude' e 'longitude'\n",
    "df_corr_test = pd.DataFrame(df, columns=['riscofogo', 'precipitacao','latitude','longitude','frp']) \n",
    "df_corr_test.corr() # calcula a correlação"
   ]
  },
  {
   "cell_type": "markdown",
   "id": "37fc7544",
   "metadata": {},
   "source": [
    "**A partir das informações da tabela de correlação conclui-se:**\n",
    "* Há uma forte correlação entre o risco de fogo e a latitude;\n",
    "* Quanto menor o valor da latitude maior o risco de fogo, ou seja, quanto mais afastado da linha do Equador em direção ao sul do Brasil, maior o risco de fogo no estado do Pará;\n",
    "* Também verifica-se uma boa correlação entre o risco de fogo e a precipitação de chuva acumulada para o dia avaliado. Quanto menor for o volume de chuva maior será o risco de fogo;\n",
    "* Não foi verificada correlação expressiva entre a potência radiativa de queima e o risco de fogo."
   ]
  },
  {
   "cell_type": "code",
   "execution_count": 175,
   "id": "96025c10",
   "metadata": {},
   "outputs": [
    {
     "data": {
      "text/plain": [
       "1.0    2489\n",
       "0.9    1961\n",
       "0.8    1230\n",
       "0.7     693\n",
       "0.6     377\n",
       "0.5     252\n",
       "0.0     179\n",
       "0.4     159\n",
       "0.3     104\n",
       "0.1      89\n",
       "0.2      81\n",
       "Name: riscofogo, dtype: int64"
      ]
     },
     "execution_count": 175,
     "metadata": {},
     "output_type": "execute_result"
    }
   ],
   "source": [
    "# Cálculo das frequências do risco de fogo para latitudes menores que -5°\n",
    "df[df['latitude'] < -5.0]['riscofogo'].value_counts()"
   ]
  },
  {
   "cell_type": "code",
   "execution_count": 176,
   "id": "825d60ef",
   "metadata": {},
   "outputs": [
    {
     "data": {
      "text/plain": [
       "0.0    877\n",
       "0.1    448\n",
       "0.2    253\n",
       "0.5    211\n",
       "0.3    176\n",
       "0.4    172\n",
       "0.6     99\n",
       "1.0     93\n",
       "0.9     69\n",
       "0.7     61\n",
       "0.8     60\n",
       "Name: riscofogo, dtype: int64"
      ]
     },
     "execution_count": 176,
     "metadata": {},
     "output_type": "execute_result"
    }
   ],
   "source": [
    "# Cálculo das frequências do risco de fogo para latitudes maiores que -5°\n",
    "df[df['latitude'] > -5.0]['riscofogo'].value_counts()"
   ]
  },
  {
   "cell_type": "markdown",
   "id": "d797acd7",
   "metadata": {},
   "source": [
    "**Verificação da informação obtida através da tabela de correlação:**\n",
    "A maior parte do estado do Pará está localizado, aproximadamente, entre as latitudes 2° e -10°, por isso foi realizada a verificação da frequências de valores para risco de fogo para valores da latitude menores e maiores que -5°. Dos resultados obtidos, observou-se que as maiores frequências para risco de fogo, maior ou igual a 0.9, ocorrem para latitudes menores que -5°. Isso ratifica a conclusão encontrada anteriormente por meio da tabela de correlação: quanto menor a latitude maior o risco de fogo. "
   ]
  },
  {
   "cell_type": "code",
   "execution_count": null,
   "id": "35ea011e",
   "metadata": {},
   "outputs": [],
   "source": []
  }
 ],
 "metadata": {
  "kernelspec": {
   "display_name": "Python 3",
   "language": "python",
   "name": "python3"
  },
  "language_info": {
   "codemirror_mode": {
    "name": "ipython",
    "version": 3
   },
   "file_extension": ".py",
   "mimetype": "text/x-python",
   "name": "python",
   "nbconvert_exporter": "python",
   "pygments_lexer": "ipython3",
   "version": "3.8.8"
  },
  "varInspector": {
   "cols": {
    "lenName": 16,
    "lenType": 16,
    "lenVar": 40
   },
   "kernels_config": {
    "python": {
     "delete_cmd_postfix": "",
     "delete_cmd_prefix": "del ",
     "library": "var_list.py",
     "varRefreshCmd": "print(var_dic_list())"
    },
    "r": {
     "delete_cmd_postfix": ") ",
     "delete_cmd_prefix": "rm(",
     "library": "var_list.r",
     "varRefreshCmd": "cat(var_dic_list()) "
    }
   },
   "types_to_exclude": [
    "module",
    "function",
    "builtin_function_or_method",
    "instance",
    "_Feature"
   ],
   "window_display": false
  }
 },
 "nbformat": 4,
 "nbformat_minor": 5
}
