{
 "cells": [
  {
   "cell_type": "markdown",
   "id": "09e3c82d",
   "metadata": {},
   "source": [
    "### Projeto de avaliação da disciplina Introdução à Análise de Dados - Prof. Luciano Barbosa\n",
    "#### Alunos: David Soares (dsm3@cin.ufpe.br) & Wanderson R. Marques (wrm@cin.ufpe.br)"
   ]
  },
  {
   "cell_type": "markdown",
   "id": "c80a1cc7",
   "metadata": {},
   "source": [
    "#### Importação das Bibliotecas e do Dataset"
   ]
  },
  {
   "cell_type": "code",
   "execution_count": 1,
   "id": "74dfc811",
   "metadata": {},
   "outputs": [],
   "source": [
    "import pandas as pd\n",
    "import numpy as np"
   ]
  },
  {
   "cell_type": "code",
   "execution_count": 16,
   "id": "ef7f2ac3",
   "metadata": {},
   "outputs": [],
   "source": [
    "# Importação dataset\n",
    "df = pd.read_csv('Focos_2021-01-01_2021-08-31.csv')"
   ]
  },
  {
   "cell_type": "code",
   "execution_count": 17,
   "id": "9fb6cddf",
   "metadata": {},
   "outputs": [
    {
     "data": {
      "text/html": [
       "<div>\n",
       "<style scoped>\n",
       "    .dataframe tbody tr th:only-of-type {\n",
       "        vertical-align: middle;\n",
       "    }\n",
       "\n",
       "    .dataframe tbody tr th {\n",
       "        vertical-align: top;\n",
       "    }\n",
       "\n",
       "    .dataframe thead th {\n",
       "        text-align: right;\n",
       "    }\n",
       "</style>\n",
       "<table border=\"1\" class=\"dataframe\">\n",
       "  <thead>\n",
       "    <tr style=\"text-align: right;\">\n",
       "      <th></th>\n",
       "      <th>datahora</th>\n",
       "      <th>satelite</th>\n",
       "      <th>pais</th>\n",
       "      <th>estado</th>\n",
       "      <th>municipio</th>\n",
       "      <th>bioma</th>\n",
       "      <th>diasemchuva</th>\n",
       "      <th>precipitacao</th>\n",
       "      <th>riscofogo</th>\n",
       "      <th>latitude</th>\n",
       "      <th>longitude</th>\n",
       "      <th>frp</th>\n",
       "    </tr>\n",
       "  </thead>\n",
       "  <tbody>\n",
       "    <tr>\n",
       "      <th>0</th>\n",
       "      <td>2021/01/01 17:00:00</td>\n",
       "      <td>AQUA_M-T</td>\n",
       "      <td>Brasil</td>\n",
       "      <td>PARA</td>\n",
       "      <td>SANTA MARIA DAS BARREIRAS</td>\n",
       "      <td>Amazonia</td>\n",
       "      <td>NaN</td>\n",
       "      <td>NaN</td>\n",
       "      <td>NaN</td>\n",
       "      <td>-8.577</td>\n",
       "      <td>-49.952</td>\n",
       "      <td>8.8</td>\n",
       "    </tr>\n",
       "    <tr>\n",
       "      <th>1</th>\n",
       "      <td>2021/01/01 17:05:00</td>\n",
       "      <td>AQUA_M-T</td>\n",
       "      <td>Brasil</td>\n",
       "      <td>PARA</td>\n",
       "      <td>AVEIRO</td>\n",
       "      <td>Amazonia</td>\n",
       "      <td>NaN</td>\n",
       "      <td>NaN</td>\n",
       "      <td>NaN</td>\n",
       "      <td>-3.909</td>\n",
       "      <td>-56.037</td>\n",
       "      <td>18.9</td>\n",
       "    </tr>\n",
       "    <tr>\n",
       "      <th>2</th>\n",
       "      <td>2021/01/01 17:05:00</td>\n",
       "      <td>AQUA_M-T</td>\n",
       "      <td>Brasil</td>\n",
       "      <td>PARA</td>\n",
       "      <td>AVEIRO</td>\n",
       "      <td>Amazonia</td>\n",
       "      <td>NaN</td>\n",
       "      <td>NaN</td>\n",
       "      <td>NaN</td>\n",
       "      <td>-3.904</td>\n",
       "      <td>-56.045</td>\n",
       "      <td>9.5</td>\n",
       "    </tr>\n",
       "    <tr>\n",
       "      <th>3</th>\n",
       "      <td>2021/01/01 17:05:00</td>\n",
       "      <td>AQUA_M-T</td>\n",
       "      <td>Brasil</td>\n",
       "      <td>PARA</td>\n",
       "      <td>JACAREACANGA</td>\n",
       "      <td>Amazonia</td>\n",
       "      <td>NaN</td>\n",
       "      <td>NaN</td>\n",
       "      <td>NaN</td>\n",
       "      <td>-5.845</td>\n",
       "      <td>-57.716</td>\n",
       "      <td>149.8</td>\n",
       "    </tr>\n",
       "    <tr>\n",
       "      <th>4</th>\n",
       "      <td>2021/01/01 17:05:00</td>\n",
       "      <td>AQUA_M-T</td>\n",
       "      <td>Brasil</td>\n",
       "      <td>PARA</td>\n",
       "      <td>ORIXIMINA</td>\n",
       "      <td>Amazonia</td>\n",
       "      <td>NaN</td>\n",
       "      <td>NaN</td>\n",
       "      <td>NaN</td>\n",
       "      <td>-1.587</td>\n",
       "      <td>-55.922</td>\n",
       "      <td>11.3</td>\n",
       "    </tr>\n",
       "  </tbody>\n",
       "</table>\n",
       "</div>"
      ],
      "text/plain": [
       "              datahora  satelite    pais estado                  municipio  \\\n",
       "0  2021/01/01 17:00:00  AQUA_M-T  Brasil   PARA  SANTA MARIA DAS BARREIRAS   \n",
       "1  2021/01/01 17:05:00  AQUA_M-T  Brasil   PARA                     AVEIRO   \n",
       "2  2021/01/01 17:05:00  AQUA_M-T  Brasil   PARA                     AVEIRO   \n",
       "3  2021/01/01 17:05:00  AQUA_M-T  Brasil   PARA               JACAREACANGA   \n",
       "4  2021/01/01 17:05:00  AQUA_M-T  Brasil   PARA                  ORIXIMINA   \n",
       "\n",
       "      bioma  diasemchuva  precipitacao  riscofogo  latitude  longitude    frp  \n",
       "0  Amazonia          NaN           NaN        NaN    -8.577    -49.952    8.8  \n",
       "1  Amazonia          NaN           NaN        NaN    -3.909    -56.037   18.9  \n",
       "2  Amazonia          NaN           NaN        NaN    -3.904    -56.045    9.5  \n",
       "3  Amazonia          NaN           NaN        NaN    -5.845    -57.716  149.8  \n",
       "4  Amazonia          NaN           NaN        NaN    -1.587    -55.922   11.3  "
      ]
     },
     "execution_count": 17,
     "metadata": {},
     "output_type": "execute_result"
    }
   ],
   "source": [
    "# Amostra do dataset\n",
    "df.head()"
   ]
  },
  {
   "cell_type": "markdown",
   "id": "f43b02de",
   "metadata": {},
   "source": [
    "### Pré-processamento dos Dados"
   ]
  },
  {
   "cell_type": "markdown",
   "id": "0259b338",
   "metadata": {},
   "source": [
    "#### Definição de Tipos"
   ]
  },
  {
   "cell_type": "code",
   "execution_count": 18,
   "id": "5853feb3",
   "metadata": {},
   "outputs": [
    {
     "data": {
      "text/plain": [
       "datahora         object\n",
       "satelite         object\n",
       "pais             object\n",
       "estado           object\n",
       "municipio        object\n",
       "bioma            object\n",
       "diasemchuva     float64\n",
       "precipitacao    float64\n",
       "riscofogo       float64\n",
       "latitude        float64\n",
       "longitude       float64\n",
       "frp             float64\n",
       "dtype: object"
      ]
     },
     "execution_count": 18,
     "metadata": {},
     "output_type": "execute_result"
    }
   ],
   "source": [
    "# Visualização dos tipos\n",
    "df.dtypes"
   ]
  },
  {
   "cell_type": "code",
   "execution_count": 19,
   "id": "8ee12a1b",
   "metadata": {},
   "outputs": [],
   "source": [
    "# Ajuste dos Tipos\n",
    "df['datahora'] = pd.to_datetime(df['datahora'], format=\"%Y/%m/%d %H:%M:%S\")\n",
    "df['satelite'] = df['satelite'].astype('category')\n",
    "df['pais'] = df['pais'].astype('category')\n",
    "df['estado'] = df['estado'].astype('category')\n",
    "df['municipio'] = df['municipio'].astype('category')\n",
    "df['bioma'] = df['bioma'].astype('category')"
   ]
  },
  {
   "cell_type": "code",
   "execution_count": 20,
   "id": "f9e82c87",
   "metadata": {},
   "outputs": [
    {
     "data": {
      "text/plain": [
       "datahora        datetime64[ns]\n",
       "satelite              category\n",
       "pais                  category\n",
       "estado                category\n",
       "municipio             category\n",
       "bioma                 category\n",
       "diasemchuva            float64\n",
       "precipitacao           float64\n",
       "riscofogo              float64\n",
       "latitude               float64\n",
       "longitude              float64\n",
       "frp                    float64\n",
       "dtype: object"
      ]
     },
     "execution_count": 20,
     "metadata": {},
     "output_type": "execute_result"
    }
   ],
   "source": [
    "# Verificação dos tipos após modificação\n",
    "df.dtypes"
   ]
  },
  {
   "cell_type": "code",
   "execution_count": null,
   "id": "4a1a74e3",
   "metadata": {},
   "outputs": [],
   "source": []
  }
 ],
 "metadata": {
  "kernelspec": {
   "display_name": "Python 3",
   "language": "python",
   "name": "python3"
  },
  "language_info": {
   "codemirror_mode": {
    "name": "ipython",
    "version": 3
   },
   "file_extension": ".py",
   "mimetype": "text/x-python",
   "name": "python",
   "nbconvert_exporter": "python",
   "pygments_lexer": "ipython3",
   "version": "3.8.8"
  },
  "varInspector": {
   "cols": {
    "lenName": 16,
    "lenType": 16,
    "lenVar": 40
   },
   "kernels_config": {
    "python": {
     "delete_cmd_postfix": "",
     "delete_cmd_prefix": "del ",
     "library": "var_list.py",
     "varRefreshCmd": "print(var_dic_list())"
    },
    "r": {
     "delete_cmd_postfix": ") ",
     "delete_cmd_prefix": "rm(",
     "library": "var_list.r",
     "varRefreshCmd": "cat(var_dic_list()) "
    }
   },
   "types_to_exclude": [
    "module",
    "function",
    "builtin_function_or_method",
    "instance",
    "_Feature"
   ],
   "window_display": false
  }
 },
 "nbformat": 4,
 "nbformat_minor": 5
}
