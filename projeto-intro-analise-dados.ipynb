{
 "cells": [
  {
   "cell_type": "markdown",
   "id": "09e3c82d",
   "metadata": {},
   "source": [
    "### Projeto de avaliação da disciplina Introdução à Análise de Dados - Prof. Luciano Barbosa\n",
    "#### Alunos: David Soares (dsm3@cin.ufpe.br) & Wanderson R. Marques (wrm@cin.ufpe.br)"
   ]
  },
  {
   "cell_type": "markdown",
   "id": "c80a1cc7",
   "metadata": {},
   "source": [
    "#### Importação das Bibliotecas e do Dataset"
   ]
  },
  {
   "cell_type": "code",
   "execution_count": 101,
   "id": "74dfc811",
   "metadata": {
    "ExecuteTime": {
     "end_time": "2021-10-14T14:44:33.412009Z",
     "start_time": "2021-10-14T14:44:33.409699Z"
    }
   },
   "outputs": [],
   "source": [
    "import pandas as pd\n",
    "import numpy as np\n",
    "import matplotlib.pyplot as plt\n",
    "import seaborn as sns\n",
    "from sklearn import preprocessing as pp"
   ]
  },
  {
   "cell_type": "code",
   "execution_count": 2,
   "id": "ef7f2ac3",
   "metadata": {
    "ExecuteTime": {
     "end_time": "2021-10-14T13:18:31.747829Z",
     "start_time": "2021-10-14T13:18:31.719961Z"
    }
   },
   "outputs": [],
   "source": [
    "# Importação dataset\n",
    "df = pd.read_csv('Focos_2021-01-01_2021-08-31.csv')"
   ]
  },
  {
   "cell_type": "code",
   "execution_count": 3,
   "id": "0c535dd4",
   "metadata": {
    "ExecuteTime": {
     "end_time": "2021-10-14T13:18:31.757368Z",
     "start_time": "2021-10-14T13:18:31.750569Z"
    }
   },
   "outputs": [
    {
     "data": {
      "text/plain": [
       "(10448, 12)"
      ]
     },
     "execution_count": 3,
     "metadata": {},
     "output_type": "execute_result"
    }
   ],
   "source": [
    "# Número de linhas e colunas do DataSet\n",
    "df.shape"
   ]
  },
  {
   "cell_type": "code",
   "execution_count": 4,
   "id": "9fb6cddf",
   "metadata": {
    "ExecuteTime": {
     "end_time": "2021-10-14T13:18:31.797021Z",
     "start_time": "2021-10-14T13:18:31.759808Z"
    }
   },
   "outputs": [
    {
     "data": {
      "text/html": [
       "<div>\n",
       "<style scoped>\n",
       "    .dataframe tbody tr th:only-of-type {\n",
       "        vertical-align: middle;\n",
       "    }\n",
       "\n",
       "    .dataframe tbody tr th {\n",
       "        vertical-align: top;\n",
       "    }\n",
       "\n",
       "    .dataframe thead th {\n",
       "        text-align: right;\n",
       "    }\n",
       "</style>\n",
       "<table border=\"1\" class=\"dataframe\">\n",
       "  <thead>\n",
       "    <tr style=\"text-align: right;\">\n",
       "      <th></th>\n",
       "      <th>datahora</th>\n",
       "      <th>satelite</th>\n",
       "      <th>pais</th>\n",
       "      <th>estado</th>\n",
       "      <th>municipio</th>\n",
       "      <th>bioma</th>\n",
       "      <th>diasemchuva</th>\n",
       "      <th>precipitacao</th>\n",
       "      <th>riscofogo</th>\n",
       "      <th>latitude</th>\n",
       "      <th>longitude</th>\n",
       "      <th>frp</th>\n",
       "    </tr>\n",
       "  </thead>\n",
       "  <tbody>\n",
       "    <tr>\n",
       "      <th>0</th>\n",
       "      <td>2021/01/01 17:00:00</td>\n",
       "      <td>AQUA_M-T</td>\n",
       "      <td>Brasil</td>\n",
       "      <td>PARA</td>\n",
       "      <td>SANTA MARIA DAS BARREIRAS</td>\n",
       "      <td>Amazonia</td>\n",
       "      <td>NaN</td>\n",
       "      <td>NaN</td>\n",
       "      <td>NaN</td>\n",
       "      <td>-8.577</td>\n",
       "      <td>-49.952</td>\n",
       "      <td>8.8</td>\n",
       "    </tr>\n",
       "    <tr>\n",
       "      <th>1</th>\n",
       "      <td>2021/01/01 17:05:00</td>\n",
       "      <td>AQUA_M-T</td>\n",
       "      <td>Brasil</td>\n",
       "      <td>PARA</td>\n",
       "      <td>AVEIRO</td>\n",
       "      <td>Amazonia</td>\n",
       "      <td>NaN</td>\n",
       "      <td>NaN</td>\n",
       "      <td>NaN</td>\n",
       "      <td>-3.909</td>\n",
       "      <td>-56.037</td>\n",
       "      <td>18.9</td>\n",
       "    </tr>\n",
       "    <tr>\n",
       "      <th>2</th>\n",
       "      <td>2021/01/01 17:05:00</td>\n",
       "      <td>AQUA_M-T</td>\n",
       "      <td>Brasil</td>\n",
       "      <td>PARA</td>\n",
       "      <td>AVEIRO</td>\n",
       "      <td>Amazonia</td>\n",
       "      <td>NaN</td>\n",
       "      <td>NaN</td>\n",
       "      <td>NaN</td>\n",
       "      <td>-3.904</td>\n",
       "      <td>-56.045</td>\n",
       "      <td>9.5</td>\n",
       "    </tr>\n",
       "    <tr>\n",
       "      <th>3</th>\n",
       "      <td>2021/01/01 17:05:00</td>\n",
       "      <td>AQUA_M-T</td>\n",
       "      <td>Brasil</td>\n",
       "      <td>PARA</td>\n",
       "      <td>JACAREACANGA</td>\n",
       "      <td>Amazonia</td>\n",
       "      <td>NaN</td>\n",
       "      <td>NaN</td>\n",
       "      <td>NaN</td>\n",
       "      <td>-5.845</td>\n",
       "      <td>-57.716</td>\n",
       "      <td>149.8</td>\n",
       "    </tr>\n",
       "    <tr>\n",
       "      <th>4</th>\n",
       "      <td>2021/01/01 17:05:00</td>\n",
       "      <td>AQUA_M-T</td>\n",
       "      <td>Brasil</td>\n",
       "      <td>PARA</td>\n",
       "      <td>ORIXIMINA</td>\n",
       "      <td>Amazonia</td>\n",
       "      <td>NaN</td>\n",
       "      <td>NaN</td>\n",
       "      <td>NaN</td>\n",
       "      <td>-1.587</td>\n",
       "      <td>-55.922</td>\n",
       "      <td>11.3</td>\n",
       "    </tr>\n",
       "  </tbody>\n",
       "</table>\n",
       "</div>"
      ],
      "text/plain": [
       "              datahora  satelite    pais estado                  municipio  \\\n",
       "0  2021/01/01 17:00:00  AQUA_M-T  Brasil   PARA  SANTA MARIA DAS BARREIRAS   \n",
       "1  2021/01/01 17:05:00  AQUA_M-T  Brasil   PARA                     AVEIRO   \n",
       "2  2021/01/01 17:05:00  AQUA_M-T  Brasil   PARA                     AVEIRO   \n",
       "3  2021/01/01 17:05:00  AQUA_M-T  Brasil   PARA               JACAREACANGA   \n",
       "4  2021/01/01 17:05:00  AQUA_M-T  Brasil   PARA                  ORIXIMINA   \n",
       "\n",
       "      bioma  diasemchuva  precipitacao  riscofogo  latitude  longitude    frp  \n",
       "0  Amazonia          NaN           NaN        NaN    -8.577    -49.952    8.8  \n",
       "1  Amazonia          NaN           NaN        NaN    -3.909    -56.037   18.9  \n",
       "2  Amazonia          NaN           NaN        NaN    -3.904    -56.045    9.5  \n",
       "3  Amazonia          NaN           NaN        NaN    -5.845    -57.716  149.8  \n",
       "4  Amazonia          NaN           NaN        NaN    -1.587    -55.922   11.3  "
      ]
     },
     "execution_count": 4,
     "metadata": {},
     "output_type": "execute_result"
    }
   ],
   "source": [
    "# Amostra do dataset\n",
    "df.head()"
   ]
  },
  {
   "cell_type": "code",
   "execution_count": 5,
   "id": "68075698",
   "metadata": {
    "ExecuteTime": {
     "end_time": "2021-10-14T13:18:31.849340Z",
     "start_time": "2021-10-14T13:18:31.802495Z"
    }
   },
   "outputs": [
    {
     "data": {
      "text/html": [
       "<div>\n",
       "<style scoped>\n",
       "    .dataframe tbody tr th:only-of-type {\n",
       "        vertical-align: middle;\n",
       "    }\n",
       "\n",
       "    .dataframe tbody tr th {\n",
       "        vertical-align: top;\n",
       "    }\n",
       "\n",
       "    .dataframe thead th {\n",
       "        text-align: right;\n",
       "    }\n",
       "</style>\n",
       "<table border=\"1\" class=\"dataframe\">\n",
       "  <thead>\n",
       "    <tr style=\"text-align: right;\">\n",
       "      <th></th>\n",
       "      <th>diasemchuva</th>\n",
       "      <th>precipitacao</th>\n",
       "      <th>riscofogo</th>\n",
       "      <th>latitude</th>\n",
       "      <th>longitude</th>\n",
       "      <th>frp</th>\n",
       "    </tr>\n",
       "  </thead>\n",
       "  <tbody>\n",
       "    <tr>\n",
       "      <th>count</th>\n",
       "      <td>10157.000000</td>\n",
       "      <td>10157.000000</td>\n",
       "      <td>10157.000000</td>\n",
       "      <td>10448.000000</td>\n",
       "      <td>10448.000000</td>\n",
       "      <td>10448.000000</td>\n",
       "    </tr>\n",
       "    <tr>\n",
       "      <th>mean</th>\n",
       "      <td>10.516393</td>\n",
       "      <td>0.652939</td>\n",
       "      <td>-1.590430</td>\n",
       "      <td>-5.974887</td>\n",
       "      <td>-53.471519</td>\n",
       "      <td>83.031116</td>\n",
       "    </tr>\n",
       "    <tr>\n",
       "      <th>std</th>\n",
       "      <td>54.428077</td>\n",
       "      <td>2.926083</td>\n",
       "      <td>47.520374</td>\n",
       "      <td>2.098492</td>\n",
       "      <td>2.791692</td>\n",
       "      <td>185.566276</td>\n",
       "    </tr>\n",
       "    <tr>\n",
       "      <th>min</th>\n",
       "      <td>-999.000000</td>\n",
       "      <td>0.000000</td>\n",
       "      <td>-999.000000</td>\n",
       "      <td>-9.791000</td>\n",
       "      <td>-58.437100</td>\n",
       "      <td>3.200000</td>\n",
       "    </tr>\n",
       "    <tr>\n",
       "      <th>25%</th>\n",
       "      <td>4.000000</td>\n",
       "      <td>0.000000</td>\n",
       "      <td>0.400000</td>\n",
       "      <td>-7.347650</td>\n",
       "      <td>-55.458268</td>\n",
       "      <td>16.100000</td>\n",
       "    </tr>\n",
       "    <tr>\n",
       "      <th>50%</th>\n",
       "      <td>7.000000</td>\n",
       "      <td>0.000000</td>\n",
       "      <td>0.800000</td>\n",
       "      <td>-6.461555</td>\n",
       "      <td>-54.752210</td>\n",
       "      <td>32.000000</td>\n",
       "    </tr>\n",
       "    <tr>\n",
       "      <th>75%</th>\n",
       "      <td>15.000000</td>\n",
       "      <td>0.000000</td>\n",
       "      <td>1.000000</td>\n",
       "      <td>-4.921665</td>\n",
       "      <td>-51.481270</td>\n",
       "      <td>74.500000</td>\n",
       "    </tr>\n",
       "    <tr>\n",
       "      <th>max</th>\n",
       "      <td>110.000000</td>\n",
       "      <td>48.200000</td>\n",
       "      <td>1.000000</td>\n",
       "      <td>2.315000</td>\n",
       "      <td>-46.218000</td>\n",
       "      <td>3543.400000</td>\n",
       "    </tr>\n",
       "  </tbody>\n",
       "</table>\n",
       "</div>"
      ],
      "text/plain": [
       "        diasemchuva  precipitacao     riscofogo      latitude     longitude  \\\n",
       "count  10157.000000  10157.000000  10157.000000  10448.000000  10448.000000   \n",
       "mean      10.516393      0.652939     -1.590430     -5.974887    -53.471519   \n",
       "std       54.428077      2.926083     47.520374      2.098492      2.791692   \n",
       "min     -999.000000      0.000000   -999.000000     -9.791000    -58.437100   \n",
       "25%        4.000000      0.000000      0.400000     -7.347650    -55.458268   \n",
       "50%        7.000000      0.000000      0.800000     -6.461555    -54.752210   \n",
       "75%       15.000000      0.000000      1.000000     -4.921665    -51.481270   \n",
       "max      110.000000     48.200000      1.000000      2.315000    -46.218000   \n",
       "\n",
       "                frp  \n",
       "count  10448.000000  \n",
       "mean      83.031116  \n",
       "std      185.566276  \n",
       "min        3.200000  \n",
       "25%       16.100000  \n",
       "50%       32.000000  \n",
       "75%       74.500000  \n",
       "max     3543.400000  "
      ]
     },
     "execution_count": 5,
     "metadata": {},
     "output_type": "execute_result"
    }
   ],
   "source": [
    "# Principais estatíscas descritivas dos dados\n",
    "df.describe()"
   ]
  },
  {
   "cell_type": "markdown",
   "id": "f43b02de",
   "metadata": {},
   "source": [
    "### Pré-processamento dos Dados"
   ]
  },
  {
   "cell_type": "markdown",
   "id": "0259b338",
   "metadata": {},
   "source": [
    "#### Definição de Tipos"
   ]
  },
  {
   "cell_type": "code",
   "execution_count": 6,
   "id": "5853feb3",
   "metadata": {
    "ExecuteTime": {
     "end_time": "2021-10-14T13:18:31.857623Z",
     "start_time": "2021-10-14T13:18:31.851572Z"
    }
   },
   "outputs": [
    {
     "data": {
      "text/plain": [
       "datahora         object\n",
       "satelite         object\n",
       "pais             object\n",
       "estado           object\n",
       "municipio        object\n",
       "bioma            object\n",
       "diasemchuva     float64\n",
       "precipitacao    float64\n",
       "riscofogo       float64\n",
       "latitude        float64\n",
       "longitude       float64\n",
       "frp             float64\n",
       "dtype: object"
      ]
     },
     "execution_count": 6,
     "metadata": {},
     "output_type": "execute_result"
    }
   ],
   "source": [
    "# Visualização dos tipos\n",
    "df.dtypes"
   ]
  },
  {
   "cell_type": "code",
   "execution_count": 7,
   "id": "8ee12a1b",
   "metadata": {
    "ExecuteTime": {
     "end_time": "2021-10-14T13:18:31.884150Z",
     "start_time": "2021-10-14T13:18:31.860091Z"
    }
   },
   "outputs": [],
   "source": [
    "# Ajuste dos Tipos\n",
    "df['datahora'] = pd.to_datetime(df['datahora'], format=\"%Y/%m/%d %H:%M:%S\")\n",
    "df['satelite'] = df['satelite'].astype('category')\n",
    "df['pais'] = df['pais'].astype('category')\n",
    "df['estado'] = df['estado'].astype('category')\n",
    "df['municipio'] = df['municipio'].astype('category')\n",
    "df['bioma'] = df['bioma'].astype('category')"
   ]
  },
  {
   "cell_type": "code",
   "execution_count": 8,
   "id": "f9e82c87",
   "metadata": {
    "ExecuteTime": {
     "end_time": "2021-10-14T13:18:31.901374Z",
     "start_time": "2021-10-14T13:18:31.888108Z"
    }
   },
   "outputs": [
    {
     "data": {
      "text/plain": [
       "datahora        datetime64[ns]\n",
       "satelite              category\n",
       "pais                  category\n",
       "estado                category\n",
       "municipio             category\n",
       "bioma                 category\n",
       "diasemchuva            float64\n",
       "precipitacao           float64\n",
       "riscofogo              float64\n",
       "latitude               float64\n",
       "longitude              float64\n",
       "frp                    float64\n",
       "dtype: object"
      ]
     },
     "execution_count": 8,
     "metadata": {},
     "output_type": "execute_result"
    }
   ],
   "source": [
    "# Verificação dos tipos após modificação\n",
    "df.dtypes"
   ]
  },
  {
   "cell_type": "markdown",
   "id": "fc74e8ae",
   "metadata": {},
   "source": [
    "#### Removendo colunas irrelevantes "
   ]
  },
  {
   "cell_type": "markdown",
   "id": "27cc2fd4",
   "metadata": {},
   "source": [
    "As colunas foram removidas porque todas as linhas continham as mesmas informações, a saber: **país(Brasil), estado(Pará), satélite(AQUA_M-T), bioma(Amazonia)**."
   ]
  },
  {
   "cell_type": "code",
   "execution_count": 9,
   "id": "fc44f8bc",
   "metadata": {
    "ExecuteTime": {
     "end_time": "2021-10-14T13:18:31.912869Z",
     "start_time": "2021-10-14T13:18:31.907328Z"
    }
   },
   "outputs": [],
   "source": [
    "df = df.drop(columns=['pais','estado','satelite','bioma'])"
   ]
  },
  {
   "cell_type": "markdown",
   "id": "075769aa",
   "metadata": {},
   "source": [
    "**Remoção de linhas** com dados ausentes, usando o risco de fogo como filtro, pois o cálculo do risco de fogo depende diretamente do conhecimento dos dias sem chuva e do volume de precipitação para aquele dia. Portanto, se a informação do risco de fogo é ausente, implica que a informação dos dias sem chuva e precipitação também é ausente."
   ]
  },
  {
   "cell_type": "code",
   "execution_count": 10,
   "id": "aff45e24",
   "metadata": {
    "ExecuteTime": {
     "end_time": "2021-10-14T13:18:31.928734Z",
     "start_time": "2021-10-14T13:18:31.915289Z"
    }
   },
   "outputs": [],
   "source": [
    "# Remoção de linhas especificando a coluna \"riscofogo\"\n",
    "df.dropna(subset=[\"riscofogo\"], inplace=True)"
   ]
  },
  {
   "cell_type": "code",
   "execution_count": 11,
   "id": "f3031619",
   "metadata": {
    "ExecuteTime": {
     "end_time": "2021-10-14T13:18:31.955303Z",
     "start_time": "2021-10-14T13:18:31.931353Z"
    }
   },
   "outputs": [
    {
     "data": {
      "text/html": [
       "<div>\n",
       "<style scoped>\n",
       "    .dataframe tbody tr th:only-of-type {\n",
       "        vertical-align: middle;\n",
       "    }\n",
       "\n",
       "    .dataframe tbody tr th {\n",
       "        vertical-align: top;\n",
       "    }\n",
       "\n",
       "    .dataframe thead th {\n",
       "        text-align: right;\n",
       "    }\n",
       "</style>\n",
       "<table border=\"1\" class=\"dataframe\">\n",
       "  <thead>\n",
       "    <tr style=\"text-align: right;\">\n",
       "      <th></th>\n",
       "      <th>datahora</th>\n",
       "      <th>municipio</th>\n",
       "      <th>diasemchuva</th>\n",
       "      <th>precipitacao</th>\n",
       "      <th>riscofogo</th>\n",
       "      <th>latitude</th>\n",
       "      <th>longitude</th>\n",
       "      <th>frp</th>\n",
       "    </tr>\n",
       "  </thead>\n",
       "  <tbody>\n",
       "    <tr>\n",
       "      <th>0</th>\n",
       "      <td>2021-01-04 17:35:00</td>\n",
       "      <td>ORIXIMINA</td>\n",
       "      <td>1.0</td>\n",
       "      <td>2.5</td>\n",
       "      <td>0.5</td>\n",
       "      <td>2.066</td>\n",
       "      <td>-55.929</td>\n",
       "      <td>12.6</td>\n",
       "    </tr>\n",
       "    <tr>\n",
       "      <th>1</th>\n",
       "      <td>2021-01-05 16:40:00</td>\n",
       "      <td>MOJU</td>\n",
       "      <td>0.0</td>\n",
       "      <td>15.6</td>\n",
       "      <td>0.0</td>\n",
       "      <td>-3.039</td>\n",
       "      <td>-49.437</td>\n",
       "      <td>13.9</td>\n",
       "    </tr>\n",
       "    <tr>\n",
       "      <th>2</th>\n",
       "      <td>2021-01-05 16:40:00</td>\n",
       "      <td>CAPITAO POCO</td>\n",
       "      <td>2.0</td>\n",
       "      <td>0.7</td>\n",
       "      <td>0.0</td>\n",
       "      <td>-1.931</td>\n",
       "      <td>-47.215</td>\n",
       "      <td>9.2</td>\n",
       "    </tr>\n",
       "    <tr>\n",
       "      <th>3</th>\n",
       "      <td>2021-01-05 16:40:00</td>\n",
       "      <td>BRAGANCA</td>\n",
       "      <td>7.0</td>\n",
       "      <td>0.0</td>\n",
       "      <td>0.7</td>\n",
       "      <td>-1.014</td>\n",
       "      <td>-46.658</td>\n",
       "      <td>18.9</td>\n",
       "    </tr>\n",
       "    <tr>\n",
       "      <th>4</th>\n",
       "      <td>2021-01-05 16:40:00</td>\n",
       "      <td>BRAGANCA</td>\n",
       "      <td>7.0</td>\n",
       "      <td>0.0</td>\n",
       "      <td>0.7</td>\n",
       "      <td>-1.015</td>\n",
       "      <td>-46.667</td>\n",
       "      <td>9.3</td>\n",
       "    </tr>\n",
       "  </tbody>\n",
       "</table>\n",
       "</div>"
      ],
      "text/plain": [
       "             datahora     municipio  diasemchuva  precipitacao  riscofogo  \\\n",
       "0 2021-01-04 17:35:00     ORIXIMINA          1.0           2.5        0.5   \n",
       "1 2021-01-05 16:40:00          MOJU          0.0          15.6        0.0   \n",
       "2 2021-01-05 16:40:00  CAPITAO POCO          2.0           0.7        0.0   \n",
       "3 2021-01-05 16:40:00      BRAGANCA          7.0           0.0        0.7   \n",
       "4 2021-01-05 16:40:00      BRAGANCA          7.0           0.0        0.7   \n",
       "\n",
       "   latitude  longitude   frp  \n",
       "0     2.066    -55.929  12.6  \n",
       "1    -3.039    -49.437  13.9  \n",
       "2    -1.931    -47.215   9.2  \n",
       "3    -1.014    -46.658  18.9  \n",
       "4    -1.015    -46.667   9.3  "
      ]
     },
     "execution_count": 11,
     "metadata": {},
     "output_type": "execute_result"
    }
   ],
   "source": [
    "# Reiniciando os índices \n",
    "df.reset_index(inplace=True,drop=True)\n",
    "df.head()"
   ]
  },
  {
   "cell_type": "markdown",
   "id": "a0aa0d10",
   "metadata": {},
   "source": [
    "**Removendo as linhas** nas quais o \"riscofogo\" é igual a -999, pois isso representa um código de erro desse parâmetro."
   ]
  },
  {
   "cell_type": "code",
   "execution_count": 12,
   "id": "12a2f037",
   "metadata": {
    "ExecuteTime": {
     "end_time": "2021-10-14T13:18:31.966676Z",
     "start_time": "2021-10-14T13:18:31.957520Z"
    }
   },
   "outputs": [],
   "source": [
    "indexNames = df[(df['riscofogo'] == -999)].index\n",
    "df.drop(indexNames, inplace=True)"
   ]
  },
  {
   "cell_type": "code",
   "execution_count": 13,
   "id": "8a2628d4",
   "metadata": {
    "ExecuteTime": {
     "end_time": "2021-10-14T13:18:31.975667Z",
     "start_time": "2021-10-14T13:18:31.968441Z"
    }
   },
   "outputs": [
    {
     "data": {
      "text/plain": [
       "0"
      ]
     },
     "execution_count": 13,
     "metadata": {},
     "output_type": "execute_result"
    }
   ],
   "source": [
    "# Verificando se ainda existe algum valor do \"riscofogo\" igual a -999\n",
    "df[df['riscofogo'] == -999]['riscofogo'].count()"
   ]
  },
  {
   "cell_type": "code",
   "execution_count": 14,
   "id": "efafc828",
   "metadata": {
    "ExecuteTime": {
     "end_time": "2021-10-14T13:18:31.983757Z",
     "start_time": "2021-10-14T13:18:31.978370Z"
    }
   },
   "outputs": [],
   "source": [
    "# Substituição dos valores inválidos (-999) por zero\n",
    "df['diasemchuva'] = df['diasemchuva'].replace(-999,0)"
   ]
  },
  {
   "cell_type": "code",
   "execution_count": 15,
   "id": "91bd7558",
   "metadata": {
    "ExecuteTime": {
     "end_time": "2021-10-14T13:18:31.998061Z",
     "start_time": "2021-10-14T13:18:31.985972Z"
    }
   },
   "outputs": [
    {
     "data": {
      "text/plain": [
       "0"
      ]
     },
     "execution_count": 15,
     "metadata": {},
     "output_type": "execute_result"
    }
   ],
   "source": [
    "# Verificação do resultado da operação anterior\n",
    "df[df['diasemchuva'] == -999]['diasemchuva'].count()"
   ]
  },
  {
   "cell_type": "code",
   "execution_count": 16,
   "id": "96201db2",
   "metadata": {
    "ExecuteTime": {
     "end_time": "2021-10-14T13:18:32.021435Z",
     "start_time": "2021-10-14T13:18:32.001288Z"
    }
   },
   "outputs": [
    {
     "data": {
      "text/html": [
       "<div>\n",
       "<style scoped>\n",
       "    .dataframe tbody tr th:only-of-type {\n",
       "        vertical-align: middle;\n",
       "    }\n",
       "\n",
       "    .dataframe tbody tr th {\n",
       "        vertical-align: top;\n",
       "    }\n",
       "\n",
       "    .dataframe thead th {\n",
       "        text-align: right;\n",
       "    }\n",
       "</style>\n",
       "<table border=\"1\" class=\"dataframe\">\n",
       "  <thead>\n",
       "    <tr style=\"text-align: right;\">\n",
       "      <th></th>\n",
       "      <th>datahora</th>\n",
       "      <th>municipio</th>\n",
       "      <th>diasemchuva</th>\n",
       "      <th>precipitacao</th>\n",
       "      <th>riscofogo</th>\n",
       "      <th>latitude</th>\n",
       "      <th>longitude</th>\n",
       "      <th>frp</th>\n",
       "    </tr>\n",
       "  </thead>\n",
       "  <tbody>\n",
       "    <tr>\n",
       "      <th>0</th>\n",
       "      <td>2021-01-04 17:35:00</td>\n",
       "      <td>ORIXIMINA</td>\n",
       "      <td>1.0</td>\n",
       "      <td>2.5</td>\n",
       "      <td>0.5</td>\n",
       "      <td>2.066</td>\n",
       "      <td>-55.929</td>\n",
       "      <td>12.6</td>\n",
       "    </tr>\n",
       "    <tr>\n",
       "      <th>1</th>\n",
       "      <td>2021-01-05 16:40:00</td>\n",
       "      <td>MOJU</td>\n",
       "      <td>0.0</td>\n",
       "      <td>15.6</td>\n",
       "      <td>0.0</td>\n",
       "      <td>-3.039</td>\n",
       "      <td>-49.437</td>\n",
       "      <td>13.9</td>\n",
       "    </tr>\n",
       "    <tr>\n",
       "      <th>2</th>\n",
       "      <td>2021-01-05 16:40:00</td>\n",
       "      <td>CAPITAO POCO</td>\n",
       "      <td>2.0</td>\n",
       "      <td>0.7</td>\n",
       "      <td>0.0</td>\n",
       "      <td>-1.931</td>\n",
       "      <td>-47.215</td>\n",
       "      <td>9.2</td>\n",
       "    </tr>\n",
       "    <tr>\n",
       "      <th>3</th>\n",
       "      <td>2021-01-05 16:40:00</td>\n",
       "      <td>BRAGANCA</td>\n",
       "      <td>7.0</td>\n",
       "      <td>0.0</td>\n",
       "      <td>0.7</td>\n",
       "      <td>-1.014</td>\n",
       "      <td>-46.658</td>\n",
       "      <td>18.9</td>\n",
       "    </tr>\n",
       "    <tr>\n",
       "      <th>4</th>\n",
       "      <td>2021-01-05 16:40:00</td>\n",
       "      <td>BRAGANCA</td>\n",
       "      <td>7.0</td>\n",
       "      <td>0.0</td>\n",
       "      <td>0.7</td>\n",
       "      <td>-1.015</td>\n",
       "      <td>-46.667</td>\n",
       "      <td>9.3</td>\n",
       "    </tr>\n",
       "  </tbody>\n",
       "</table>\n",
       "</div>"
      ],
      "text/plain": [
       "             datahora     municipio  diasemchuva  precipitacao  riscofogo  \\\n",
       "0 2021-01-04 17:35:00     ORIXIMINA          1.0           2.5        0.5   \n",
       "1 2021-01-05 16:40:00          MOJU          0.0          15.6        0.0   \n",
       "2 2021-01-05 16:40:00  CAPITAO POCO          2.0           0.7        0.0   \n",
       "3 2021-01-05 16:40:00      BRAGANCA          7.0           0.0        0.7   \n",
       "4 2021-01-05 16:40:00      BRAGANCA          7.0           0.0        0.7   \n",
       "\n",
       "   latitude  longitude   frp  \n",
       "0     2.066    -55.929  12.6  \n",
       "1    -3.039    -49.437  13.9  \n",
       "2    -1.931    -47.215   9.2  \n",
       "3    -1.014    -46.658  18.9  \n",
       "4    -1.015    -46.667   9.3  "
      ]
     },
     "execution_count": 16,
     "metadata": {},
     "output_type": "execute_result"
    }
   ],
   "source": [
    "df.head()"
   ]
  },
  {
   "cell_type": "markdown",
   "id": "0e04bf3f",
   "metadata": {},
   "source": [
    "### Normalização e Discretização"
   ]
  },
  {
   "cell_type": "markdown",
   "id": "980d7f63",
   "metadata": {},
   "source": [
    "#### Normalização"
   ]
  },
  {
   "cell_type": "code",
   "execution_count": 17,
   "id": "40aa8e07",
   "metadata": {
    "ExecuteTime": {
     "end_time": "2021-10-14T13:18:32.035210Z",
     "start_time": "2021-10-14T13:18:32.024072Z"
    }
   },
   "outputs": [
    {
     "data": {
      "text/plain": [
       "count    10134.000000\n",
       "mean        84.375064\n",
       "std        187.332087\n",
       "min          3.200000\n",
       "25%         16.400000\n",
       "50%         32.500000\n",
       "75%         75.800000\n",
       "max       3543.400000\n",
       "Name: frp, dtype: float64"
      ]
     },
     "execution_count": 17,
     "metadata": {},
     "output_type": "execute_result"
    }
   ],
   "source": [
    "# Principais estatísticas descritivas para a coluna 'frp'\n",
    "df['frp'].describe()"
   ]
  },
  {
   "cell_type": "code",
   "execution_count": 18,
   "id": "36a665a7",
   "metadata": {
    "ExecuteTime": {
     "end_time": "2021-10-14T13:18:32.272237Z",
     "start_time": "2021-10-14T13:18:32.037163Z"
    }
   },
   "outputs": [
    {
     "data": {
      "text/plain": [
       "<AxesSubplot:>"
      ]
     },
     "execution_count": 18,
     "metadata": {},
     "output_type": "execute_result"
    },
    {
     "data": {
      "image/png": "[encoded data removed]",
      "text/plain": [
       "<Figure size 432x288 with 1 Axes>"
      ]
     },
     "metadata": {
      "needs_background": "light"
     },
     "output_type": "display_data"
    }
   ],
   "source": [
    "# Histograma da columa 'frp'\n",
    "df['frp'].hist()"
   ]
  },
  {
   "cell_type": "code",
   "execution_count": 19,
   "id": "cfb1a517",
   "metadata": {
    "ExecuteTime": {
     "end_time": "2021-10-14T13:18:32.286193Z",
     "start_time": "2021-10-14T13:18:32.273706Z"
    }
   },
   "outputs": [
    {
     "data": {
      "text/plain": [
       "count    10134.000000\n",
       "mean         0.022930\n",
       "std          0.052916\n",
       "min          0.000000\n",
       "25%          0.003729\n",
       "50%          0.008276\n",
       "75%          0.020507\n",
       "max          1.000000\n",
       "Name: frp_norm, dtype: float64"
      ]
     },
     "execution_count": 19,
     "metadata": {},
     "output_type": "execute_result"
    }
   ],
   "source": [
    "# Normalização da coluna 'frp' no intervalo [0,1]\n",
    "escala_min_max = pp.MinMaxScaler()\n",
    "df['frp_norm'] = escala_min_max.fit_transform(df[['frp']])\n",
    "\n",
    "# Estatísticas descritivas da coluna 'frp' normalizada ('frp_norm')\n",
    "df['frp_norm'].describe()"
   ]
  },
  {
   "cell_type": "code",
   "execution_count": 20,
   "id": "982b80b0",
   "metadata": {
    "ExecuteTime": {
     "end_time": "2021-10-14T13:18:32.433759Z",
     "start_time": "2021-10-14T13:18:32.288315Z"
    }
   },
   "outputs": [
    {
     "data": {
      "text/plain": [
       "<AxesSubplot:>"
      ]
     },
     "execution_count": 20,
     "metadata": {},
     "output_type": "execute_result"
    },
    {
     "data": {
      "image/png": "[encoded data removed]",
      "text/plain": [
       "<Figure size 432x288 with 1 Axes>"
      ]
     },
     "metadata": {
      "needs_background": "light"
     },
     "output_type": "display_data"
    }
   ],
   "source": [
    "# Exibição do histograma da coluna \"frp_norm\"\n",
    "df['frp_norm'].hist()"
   ]
  },
  {
   "cell_type": "markdown",
   "id": "4ef987b6",
   "metadata": {
    "heading_collapsed": true
   },
   "source": [
    "#### Discretização"
   ]
  },
  {
   "cell_type": "markdown",
   "id": "b1d0033a",
   "metadata": {
    "hidden": true
   },
   "source": [
    "**Critério usado para a escolha dos intervalos de discretização:** Baseado na classificação do risco de fogo determinada pelo Programa Queimadas do INPE."
   ]
  },
  {
   "cell_type": "code",
   "execution_count": 21,
   "id": "b4cb0fdf",
   "metadata": {
    "ExecuteTime": {
     "end_time": "2021-10-14T13:18:32.442804Z",
     "start_time": "2021-10-14T13:18:32.435366Z"
    },
    "hidden": true
   },
   "outputs": [],
   "source": [
    "# Definição dos intervalos para discretização da coluna 'riscofogo'\n",
    "nomes_intervalo = ['RF Mínimo','RF Baixo','RF Médio','RF Alto','RF Crítico']\n",
    "intervalos = [-0.10, 0.14, 0.40, 0.70, 0.95, 1.00]\n",
    "\n",
    "df['categorias_riscofogo'] = pd.cut(df['riscofogo'], intervalos, labels=nomes_intervalo)"
   ]
  },
  {
   "cell_type": "code",
   "execution_count": 22,
   "id": "60b353da",
   "metadata": {
    "ExecuteTime": {
     "end_time": "2021-10-14T13:18:32.465403Z",
     "start_time": "2021-10-14T13:18:32.444585Z"
    },
    "hidden": true
   },
   "outputs": [
    {
     "data": {
      "text/html": [
       "<div>\n",
       "<style scoped>\n",
       "    .dataframe tbody tr th:only-of-type {\n",
       "        vertical-align: middle;\n",
       "    }\n",
       "\n",
       "    .dataframe tbody tr th {\n",
       "        vertical-align: top;\n",
       "    }\n",
       "\n",
       "    .dataframe thead th {\n",
       "        text-align: right;\n",
       "    }\n",
       "</style>\n",
       "<table border=\"1\" class=\"dataframe\">\n",
       "  <thead>\n",
       "    <tr style=\"text-align: right;\">\n",
       "      <th></th>\n",
       "      <th>datahora</th>\n",
       "      <th>municipio</th>\n",
       "      <th>diasemchuva</th>\n",
       "      <th>precipitacao</th>\n",
       "      <th>riscofogo</th>\n",
       "      <th>latitude</th>\n",
       "      <th>longitude</th>\n",
       "      <th>frp</th>\n",
       "      <th>frp_norm</th>\n",
       "      <th>categorias_riscofogo</th>\n",
       "    </tr>\n",
       "  </thead>\n",
       "  <tbody>\n",
       "    <tr>\n",
       "      <th>0</th>\n",
       "      <td>2021-01-04 17:35:00</td>\n",
       "      <td>ORIXIMINA</td>\n",
       "      <td>1.0</td>\n",
       "      <td>2.5</td>\n",
       "      <td>0.5</td>\n",
       "      <td>2.066</td>\n",
       "      <td>-55.929</td>\n",
       "      <td>12.6</td>\n",
       "      <td>0.002655</td>\n",
       "      <td>RF Médio</td>\n",
       "    </tr>\n",
       "    <tr>\n",
       "      <th>1</th>\n",
       "      <td>2021-01-05 16:40:00</td>\n",
       "      <td>MOJU</td>\n",
       "      <td>0.0</td>\n",
       "      <td>15.6</td>\n",
       "      <td>0.0</td>\n",
       "      <td>-3.039</td>\n",
       "      <td>-49.437</td>\n",
       "      <td>13.9</td>\n",
       "      <td>0.003022</td>\n",
       "      <td>RF Mínimo</td>\n",
       "    </tr>\n",
       "    <tr>\n",
       "      <th>2</th>\n",
       "      <td>2021-01-05 16:40:00</td>\n",
       "      <td>CAPITAO POCO</td>\n",
       "      <td>2.0</td>\n",
       "      <td>0.7</td>\n",
       "      <td>0.0</td>\n",
       "      <td>-1.931</td>\n",
       "      <td>-47.215</td>\n",
       "      <td>9.2</td>\n",
       "      <td>0.001695</td>\n",
       "      <td>RF Mínimo</td>\n",
       "    </tr>\n",
       "    <tr>\n",
       "      <th>3</th>\n",
       "      <td>2021-01-05 16:40:00</td>\n",
       "      <td>BRAGANCA</td>\n",
       "      <td>7.0</td>\n",
       "      <td>0.0</td>\n",
       "      <td>0.7</td>\n",
       "      <td>-1.014</td>\n",
       "      <td>-46.658</td>\n",
       "      <td>18.9</td>\n",
       "      <td>0.004435</td>\n",
       "      <td>RF Médio</td>\n",
       "    </tr>\n",
       "    <tr>\n",
       "      <th>4</th>\n",
       "      <td>2021-01-05 16:40:00</td>\n",
       "      <td>BRAGANCA</td>\n",
       "      <td>7.0</td>\n",
       "      <td>0.0</td>\n",
       "      <td>0.7</td>\n",
       "      <td>-1.015</td>\n",
       "      <td>-46.667</td>\n",
       "      <td>9.3</td>\n",
       "      <td>0.001723</td>\n",
       "      <td>RF Médio</td>\n",
       "    </tr>\n",
       "  </tbody>\n",
       "</table>\n",
       "</div>"
      ],
      "text/plain": [
       "             datahora     municipio  diasemchuva  precipitacao  riscofogo  \\\n",
       "0 2021-01-04 17:35:00     ORIXIMINA          1.0           2.5        0.5   \n",
       "1 2021-01-05 16:40:00          MOJU          0.0          15.6        0.0   \n",
       "2 2021-01-05 16:40:00  CAPITAO POCO          2.0           0.7        0.0   \n",
       "3 2021-01-05 16:40:00      BRAGANCA          7.0           0.0        0.7   \n",
       "4 2021-01-05 16:40:00      BRAGANCA          7.0           0.0        0.7   \n",
       "\n",
       "   latitude  longitude   frp  frp_norm categorias_riscofogo  \n",
       "0     2.066    -55.929  12.6  0.002655             RF Médio  \n",
       "1    -3.039    -49.437  13.9  0.003022            RF Mínimo  \n",
       "2    -1.931    -47.215   9.2  0.001695            RF Mínimo  \n",
       "3    -1.014    -46.658  18.9  0.004435             RF Médio  \n",
       "4    -1.015    -46.667   9.3  0.001723             RF Médio  "
      ]
     },
     "execution_count": 22,
     "metadata": {},
     "output_type": "execute_result"
    }
   ],
   "source": [
    "# Visualização da coluna criada com a discretização\n",
    "df.head()"
   ]
  },
  {
   "cell_type": "code",
   "execution_count": 23,
   "id": "5594b69b",
   "metadata": {
    "ExecuteTime": {
     "end_time": "2021-10-14T13:18:32.475988Z",
     "start_time": "2021-10-14T13:18:32.468755Z"
    },
    "hidden": true
   },
   "outputs": [
    {
     "data": {
      "text/plain": [
       "RF Alto       3320\n",
       "RF Crítico    2582\n",
       "RF Médio      1693\n",
       "RF Mínimo     1593\n",
       "RF Baixo       946\n",
       "Name: categorias_riscofogo, dtype: int64"
      ]
     },
     "execution_count": 23,
     "metadata": {},
     "output_type": "execute_result"
    }
   ],
   "source": [
    "# Número de ocorrências por categoria em ordem decrescente\n",
    "df['categorias_riscofogo'].value_counts()"
   ]
  },
  {
   "cell_type": "code",
   "execution_count": 24,
   "id": "8891ee25",
   "metadata": {
    "ExecuteTime": {
     "end_time": "2021-10-14T13:18:32.619933Z",
     "start_time": "2021-10-14T13:18:32.477697Z"
    },
    "hidden": true
   },
   "outputs": [
    {
     "data": {
      "image/png": "[encoded data removed]",
      "text/plain": [
       "<Figure size 432x288 with 1 Axes>"
      ]
     },
     "metadata": {
      "needs_background": "light"
     },
     "output_type": "display_data"
    }
   ],
   "source": [
    "# Exibição das categorias em forma de gráfico\n",
    "contagens = df['categorias_riscofogo'].value_counts()\n",
    "\n",
    "cores = '#FF1616 #9F2D21 #FFD700 #277E57 #5EC700'\n",
    "contagens.plot.bar(rot=45, color=cores.split())\n",
    "plt.title('Categorias de Risco de Fogo (RF)')\n",
    "plt.xlabel('Risco de Fogo')\n",
    "plt.ylabel('N° de Ocorrências')\n",
    "plt.show()"
   ]
  },
  {
   "cell_type": "markdown",
   "id": "20acfd80",
   "metadata": {
    "hidden": true
   },
   "source": [
    "**Conclusões obtidas com a discretização:** No intervalo de tempo analisado no dataset, verificou-se a maior incidência de ocorrências de risco de fogo alto e risco de fogo crítico. Deste fato pode-se concluir que a probabilidade de ocorrência de focos de incêndio para a região em questão foi muito elevada."
   ]
  },
  {
   "cell_type": "markdown",
   "id": "93a12ba1",
   "metadata": {},
   "source": [
    "#### Limpeza de dados"
   ]
  },
  {
   "cell_type": "code",
   "execution_count": 25,
   "id": "7be4eecd",
   "metadata": {
    "ExecuteTime": {
     "end_time": "2021-10-14T13:18:32.632772Z",
     "start_time": "2021-10-14T13:18:32.621514Z"
    }
   },
   "outputs": [
    {
     "data": {
      "text/plain": [
       "datahora                0\n",
       "municipio               0\n",
       "diasemchuva             0\n",
       "precipitacao            0\n",
       "riscofogo               0\n",
       "latitude                0\n",
       "longitude               0\n",
       "frp                     0\n",
       "frp_norm                0\n",
       "categorias_riscofogo    0\n",
       "dtype: int64"
      ]
     },
     "execution_count": 25,
     "metadata": {},
     "output_type": "execute_result"
    }
   ],
   "source": [
    "# Verificação de dados duplicados\n",
    "df[df.duplicated()].count()"
   ]
  },
  {
   "cell_type": "markdown",
   "id": "186fdc4c",
   "metadata": {},
   "source": [
    "Não há registros duplicados no DataSet"
   ]
  },
  {
   "cell_type": "code",
   "execution_count": 26,
   "id": "28ba4b5e",
   "metadata": {
    "ExecuteTime": {
     "end_time": "2021-10-14T13:18:32.641991Z",
     "start_time": "2021-10-14T13:18:32.634152Z"
    }
   },
   "outputs": [
    {
     "data": {
      "text/plain": [
       "count    10134.000000\n",
       "mean        84.375064\n",
       "std        187.332087\n",
       "min          3.200000\n",
       "25%         16.400000\n",
       "50%         32.500000\n",
       "75%         75.800000\n",
       "max       3543.400000\n",
       "Name: frp, dtype: float64"
      ]
     },
     "execution_count": 26,
     "metadata": {},
     "output_type": "execute_result"
    }
   ],
   "source": [
    "# Estatísticas descritivas da coluna \"frp\"\n",
    "df['frp'].describe()"
   ]
  },
  {
   "cell_type": "markdown",
   "id": "6499c802",
   "metadata": {},
   "source": [
    "Pelos resultados apresentados anteriormente verifica-se um valor máximo muito discrepante, o que sugere um tratamento de dados para remoção de Outliers. Será feito uma avaliação de qual o melhor método para a remoção dos Outliers."
   ]
  },
  {
   "cell_type": "code",
   "execution_count": 27,
   "id": "e0f1fa3d",
   "metadata": {
    "ExecuteTime": {
     "end_time": "2021-10-14T13:18:32.767414Z",
     "start_time": "2021-10-14T13:18:32.643147Z"
    }
   },
   "outputs": [
    {
     "data": {
      "text/plain": [
       "<AxesSubplot:>"
      ]
     },
     "execution_count": 27,
     "metadata": {},
     "output_type": "execute_result"
    },
    {
     "data": {
      "image/png": "[encoded data removed]",
      "text/plain": [
       "<Figure size 432x288 with 1 Axes>"
      ]
     },
     "metadata": {
      "needs_background": "light"
     },
     "output_type": "display_data"
    }
   ],
   "source": [
    "# Exibição do diagrama de caixa\n",
    "df['frp'].plot.box()"
   ]
  },
  {
   "cell_type": "code",
   "execution_count": 28,
   "id": "2b389935",
   "metadata": {
    "ExecuteTime": {
     "end_time": "2021-10-14T13:18:32.933883Z",
     "start_time": "2021-10-14T13:18:32.769623Z"
    }
   },
   "outputs": [
    {
     "data": {
      "text/plain": [
       "<AxesSubplot:>"
      ]
     },
     "execution_count": 28,
     "metadata": {},
     "output_type": "execute_result"
    },
    {
     "data": {
      "image/png": "[encoded data removed]",
      "text/plain": [
       "<Figure size 432x288 with 1 Axes>"
      ]
     },
     "metadata": {
      "needs_background": "light"
     },
     "output_type": "display_data"
    }
   ],
   "source": [
    "# Exibição do histograma da coluna \"frp\"\n",
    "df['frp'].hist()"
   ]
  },
  {
   "cell_type": "code",
   "execution_count": 29,
   "id": "65faa824",
   "metadata": {
    "ExecuteTime": {
     "end_time": "2021-10-14T13:18:32.939919Z",
     "start_time": "2021-10-14T13:18:32.935032Z"
    }
   },
   "outputs": [
    {
     "data": {
      "text/plain": [
       "0"
      ]
     },
     "execution_count": 29,
     "metadata": {},
     "output_type": "execute_result"
    }
   ],
   "source": [
    "# Verificação de valores nulos na coluna 'frp' antes de aplicar o logarítimo\n",
    "df[df['frp'] == 0]['frp'].count()"
   ]
  },
  {
   "cell_type": "code",
   "execution_count": 30,
   "id": "f90b3c8a",
   "metadata": {
    "ExecuteTime": {
     "end_time": "2021-10-14T13:18:33.083482Z",
     "start_time": "2021-10-14T13:18:32.941475Z"
    }
   },
   "outputs": [
    {
     "data": {
      "text/plain": [
       "<AxesSubplot:>"
      ]
     },
     "execution_count": 30,
     "metadata": {},
     "output_type": "execute_result"
    },
    {
     "data": {
      "image/png": "[encoded data removed]",
      "text/plain": [
       "<Figure size 432x288 with 1 Axes>"
      ]
     },
     "metadata": {
      "needs_background": "light"
     },
     "output_type": "display_data"
    }
   ],
   "source": [
    "# Conversão para ajustar o conjunto de dados para uma distribuição aproximadamente simétrica\n",
    "df['frp_log'] = np.log10(df['frp'])\n",
    "df['frp_log'].hist()"
   ]
  },
  {
   "cell_type": "markdown",
   "id": "43ad3bb5",
   "metadata": {},
   "source": [
    "#### Método de Tukey para avaliação dos Outliers"
   ]
  },
  {
   "cell_type": "code",
   "execution_count": 31,
   "id": "62393f10",
   "metadata": {
    "ExecuteTime": {
     "end_time": "2021-10-14T13:18:33.091645Z",
     "start_time": "2021-10-14T13:18:33.085175Z"
    }
   },
   "outputs": [
    {
     "name": "stdout",
     "output_type": "stream",
     "text": [
      "0.6648253575843557\n"
     ]
    }
   ],
   "source": [
    "# Cálculo dos quartis e do IQR para a utilização do método de Tukey\n",
    "q1 = df['frp_log'].quantile(q=0.25)\n",
    "q3 = df['frp_log'].quantile(q=0.75)\n",
    "iqr = q3 - q1\n",
    "print(iqr)"
   ]
  },
  {
   "cell_type": "code",
   "execution_count": 32,
   "id": "9b396ce5",
   "metadata": {
    "ExecuteTime": {
     "end_time": "2021-10-14T13:18:33.100187Z",
     "start_time": "2021-10-14T13:18:33.093327Z"
    }
   },
   "outputs": [
    {
     "data": {
      "text/plain": [
       "0"
      ]
     },
     "execution_count": 32,
     "metadata": {},
     "output_type": "execute_result"
    }
   ],
   "source": [
    "# Outliers inferiores ou mínimos\n",
    "df[df['frp_log'] < (q1-1.5*iqr)]['frp_log'].count()"
   ]
  },
  {
   "cell_type": "code",
   "execution_count": 33,
   "id": "e4c98424",
   "metadata": {
    "ExecuteTime": {
     "end_time": "2021-10-14T13:18:33.107392Z",
     "start_time": "2021-10-14T13:18:33.101830Z"
    }
   },
   "outputs": [
    {
     "data": {
      "text/plain": [
       "135"
      ]
     },
     "execution_count": 33,
     "metadata": {},
     "output_type": "execute_result"
    }
   ],
   "source": [
    "# Verificação da quantidade de outliers superiores de acordo com o método de Tukey\n",
    "df[df['frp_log'] > (q3+1.5*iqr)]['frp_log'].count()"
   ]
  },
  {
   "cell_type": "code",
   "execution_count": 34,
   "id": "4f2d33e2",
   "metadata": {
    "ExecuteTime": {
     "end_time": "2021-10-14T13:18:33.136100Z",
     "start_time": "2021-10-14T13:18:33.108703Z"
    }
   },
   "outputs": [
    {
     "data": {
      "text/html": [
       "<div>\n",
       "<style scoped>\n",
       "    .dataframe tbody tr th:only-of-type {\n",
       "        vertical-align: middle;\n",
       "    }\n",
       "\n",
       "    .dataframe tbody tr th {\n",
       "        vertical-align: top;\n",
       "    }\n",
       "\n",
       "    .dataframe thead th {\n",
       "        text-align: right;\n",
       "    }\n",
       "</style>\n",
       "<table border=\"1\" class=\"dataframe\">\n",
       "  <thead>\n",
       "    <tr style=\"text-align: right;\">\n",
       "      <th></th>\n",
       "      <th>datahora</th>\n",
       "      <th>municipio</th>\n",
       "      <th>diasemchuva</th>\n",
       "      <th>precipitacao</th>\n",
       "      <th>riscofogo</th>\n",
       "      <th>latitude</th>\n",
       "      <th>longitude</th>\n",
       "      <th>frp</th>\n",
       "      <th>frp_norm</th>\n",
       "      <th>categorias_riscofogo</th>\n",
       "      <th>frp_log</th>\n",
       "    </tr>\n",
       "  </thead>\n",
       "  <tbody>\n",
       "    <tr>\n",
       "      <th>1513</th>\n",
       "      <td>2021-07-21 16:55:00</td>\n",
       "      <td>NOVO PROGRESSO</td>\n",
       "      <td>11.0</td>\n",
       "      <td>0.0</td>\n",
       "      <td>0.8</td>\n",
       "      <td>-6.79200</td>\n",
       "      <td>-55.23500</td>\n",
       "      <td>816.6</td>\n",
       "      <td>0.229761</td>\n",
       "      <td>RF Alto</td>\n",
       "      <td>2.912009</td>\n",
       "    </tr>\n",
       "    <tr>\n",
       "      <th>2203</th>\n",
       "      <td>2021-07-29 17:49:00</td>\n",
       "      <td>ITAITUBA</td>\n",
       "      <td>12.0</td>\n",
       "      <td>0.0</td>\n",
       "      <td>0.8</td>\n",
       "      <td>-6.19287</td>\n",
       "      <td>-55.32591</td>\n",
       "      <td>1869.1</td>\n",
       "      <td>0.527061</td>\n",
       "      <td>RF Alto</td>\n",
       "      <td>3.271633</td>\n",
       "    </tr>\n",
       "    <tr>\n",
       "      <th>2235</th>\n",
       "      <td>2021-07-29 17:49:00</td>\n",
       "      <td>ITAITUBA</td>\n",
       "      <td>20.0</td>\n",
       "      <td>0.0</td>\n",
       "      <td>1.0</td>\n",
       "      <td>-6.51242</td>\n",
       "      <td>-55.29427</td>\n",
       "      <td>783.4</td>\n",
       "      <td>0.220383</td>\n",
       "      <td>RF Crítico</td>\n",
       "      <td>2.893984</td>\n",
       "    </tr>\n",
       "    <tr>\n",
       "      <th>2325</th>\n",
       "      <td>2021-07-30 16:54:00</td>\n",
       "      <td>NOVO PROGRESSO</td>\n",
       "      <td>22.0</td>\n",
       "      <td>0.0</td>\n",
       "      <td>0.9</td>\n",
       "      <td>-7.27305</td>\n",
       "      <td>-55.48598</td>\n",
       "      <td>940.9</td>\n",
       "      <td>0.264872</td>\n",
       "      <td>RF Alto</td>\n",
       "      <td>2.973543</td>\n",
       "    </tr>\n",
       "    <tr>\n",
       "      <th>2388</th>\n",
       "      <td>2021-07-31 17:37:00</td>\n",
       "      <td>ALTAMIRA</td>\n",
       "      <td>21.0</td>\n",
       "      <td>0.1</td>\n",
       "      <td>0.9</td>\n",
       "      <td>-6.36802</td>\n",
       "      <td>-55.22302</td>\n",
       "      <td>851.9</td>\n",
       "      <td>0.239732</td>\n",
       "      <td>RF Alto</td>\n",
       "      <td>2.930389</td>\n",
       "    </tr>\n",
       "    <tr>\n",
       "      <th>...</th>\n",
       "      <td>...</td>\n",
       "      <td>...</td>\n",
       "      <td>...</td>\n",
       "      <td>...</td>\n",
       "      <td>...</td>\n",
       "      <td>...</td>\n",
       "      <td>...</td>\n",
       "      <td>...</td>\n",
       "      <td>...</td>\n",
       "      <td>...</td>\n",
       "      <td>...</td>\n",
       "    </tr>\n",
       "    <tr>\n",
       "      <th>9282</th>\n",
       "      <td>2021-08-24 16:48:00</td>\n",
       "      <td>SAO FELIX DO XINGU</td>\n",
       "      <td>10.0</td>\n",
       "      <td>0.0</td>\n",
       "      <td>1.0</td>\n",
       "      <td>-5.35201</td>\n",
       "      <td>-51.21677</td>\n",
       "      <td>1229.4</td>\n",
       "      <td>0.346365</td>\n",
       "      <td>RF Crítico</td>\n",
       "      <td>3.089693</td>\n",
       "    </tr>\n",
       "    <tr>\n",
       "      <th>9308</th>\n",
       "      <td>2021-08-24 16:48:00</td>\n",
       "      <td>SAO FELIX DO XINGU</td>\n",
       "      <td>17.0</td>\n",
       "      <td>0.0</td>\n",
       "      <td>1.0</td>\n",
       "      <td>-5.58183</td>\n",
       "      <td>-51.64378</td>\n",
       "      <td>1199.6</td>\n",
       "      <td>0.337947</td>\n",
       "      <td>RF Crítico</td>\n",
       "      <td>3.079036</td>\n",
       "    </tr>\n",
       "    <tr>\n",
       "      <th>10050</th>\n",
       "      <td>2021-08-29 17:07:00</td>\n",
       "      <td>PACAJA</td>\n",
       "      <td>2.0</td>\n",
       "      <td>0.0</td>\n",
       "      <td>0.5</td>\n",
       "      <td>-4.06327</td>\n",
       "      <td>-50.88024</td>\n",
       "      <td>840.3</td>\n",
       "      <td>0.236456</td>\n",
       "      <td>RF Médio</td>\n",
       "      <td>2.924434</td>\n",
       "    </tr>\n",
       "    <tr>\n",
       "      <th>10051</th>\n",
       "      <td>2021-08-29 17:07:00</td>\n",
       "      <td>PACAJA</td>\n",
       "      <td>2.0</td>\n",
       "      <td>0.0</td>\n",
       "      <td>0.5</td>\n",
       "      <td>-4.06461</td>\n",
       "      <td>-50.88953</td>\n",
       "      <td>1363.1</td>\n",
       "      <td>0.384131</td>\n",
       "      <td>RF Médio</td>\n",
       "      <td>3.134528</td>\n",
       "    </tr>\n",
       "    <tr>\n",
       "      <th>10105</th>\n",
       "      <td>2021-08-31 16:52:00</td>\n",
       "      <td>ALTAMIRA</td>\n",
       "      <td>0.0</td>\n",
       "      <td>0.1</td>\n",
       "      <td>0.4</td>\n",
       "      <td>-8.00042</td>\n",
       "      <td>-55.00460</td>\n",
       "      <td>1152.0</td>\n",
       "      <td>0.324501</td>\n",
       "      <td>RF Baixo</td>\n",
       "      <td>3.061452</td>\n",
       "    </tr>\n",
       "  </tbody>\n",
       "</table>\n",
       "<p>135 rows × 11 columns</p>\n",
       "</div>"
      ],
      "text/plain": [
       "                 datahora           municipio  diasemchuva  precipitacao  \\\n",
       "1513  2021-07-21 16:55:00      NOVO PROGRESSO         11.0           0.0   \n",
       "2203  2021-07-29 17:49:00            ITAITUBA         12.0           0.0   \n",
       "2235  2021-07-29 17:49:00            ITAITUBA         20.0           0.0   \n",
       "2325  2021-07-30 16:54:00      NOVO PROGRESSO         22.0           0.0   \n",
       "2388  2021-07-31 17:37:00            ALTAMIRA         21.0           0.1   \n",
       "...                   ...                 ...          ...           ...   \n",
       "9282  2021-08-24 16:48:00  SAO FELIX DO XINGU         10.0           0.0   \n",
       "9308  2021-08-24 16:48:00  SAO FELIX DO XINGU         17.0           0.0   \n",
       "10050 2021-08-29 17:07:00              PACAJA          2.0           0.0   \n",
       "10051 2021-08-29 17:07:00              PACAJA          2.0           0.0   \n",
       "10105 2021-08-31 16:52:00            ALTAMIRA          0.0           0.1   \n",
       "\n",
       "       riscofogo  latitude  longitude     frp  frp_norm categorias_riscofogo  \\\n",
       "1513         0.8  -6.79200  -55.23500   816.6  0.229761              RF Alto   \n",
       "2203         0.8  -6.19287  -55.32591  1869.1  0.527061              RF Alto   \n",
       "2235         1.0  -6.51242  -55.29427   783.4  0.220383           RF Crítico   \n",
       "2325         0.9  -7.27305  -55.48598   940.9  0.264872              RF Alto   \n",
       "2388         0.9  -6.36802  -55.22302   851.9  0.239732              RF Alto   \n",
       "...          ...       ...        ...     ...       ...                  ...   \n",
       "9282         1.0  -5.35201  -51.21677  1229.4  0.346365           RF Crítico   \n",
       "9308         1.0  -5.58183  -51.64378  1199.6  0.337947           RF Crítico   \n",
       "10050        0.5  -4.06327  -50.88024   840.3  0.236456             RF Médio   \n",
       "10051        0.5  -4.06461  -50.88953  1363.1  0.384131             RF Médio   \n",
       "10105        0.4  -8.00042  -55.00460  1152.0  0.324501             RF Baixo   \n",
       "\n",
       "        frp_log  \n",
       "1513   2.912009  \n",
       "2203   3.271633  \n",
       "2235   2.893984  \n",
       "2325   2.973543  \n",
       "2388   2.930389  \n",
       "...         ...  \n",
       "9282   3.089693  \n",
       "9308   3.079036  \n",
       "10050  2.924434  \n",
       "10051  3.134528  \n",
       "10105  3.061452  \n",
       "\n",
       "[135 rows x 11 columns]"
      ]
     },
     "execution_count": 34,
     "metadata": {},
     "output_type": "execute_result"
    }
   ],
   "source": [
    "# Outliers superiores ou máximos\n",
    "df[df['frp_log'] > (q3+1.5*iqr)]"
   ]
  },
  {
   "cell_type": "markdown",
   "id": "393135c3",
   "metadata": {},
   "source": [
    "#### Método Z-Score Robusto para avaliação dos Outliers"
   ]
  },
  {
   "cell_type": "code",
   "execution_count": 35,
   "id": "bd199307",
   "metadata": {
    "ExecuteTime": {
     "end_time": "2021-10-14T13:18:33.142862Z",
     "start_time": "2021-10-14T13:18:33.137786Z"
    }
   },
   "outputs": [
    {
     "name": "stdout",
     "output_type": "stream",
     "text": [
      "0.39309217516256945\n"
     ]
    }
   ],
   "source": [
    "# Cálculo do MAD para a utilização do método Z-Score Robusto\n",
    "mad = df['frp_log'].mad()\n",
    "print(mad)"
   ]
  },
  {
   "cell_type": "code",
   "execution_count": 36,
   "id": "42f9ee6a",
   "metadata": {
    "ExecuteTime": {
     "end_time": "2021-10-14T13:18:33.299649Z",
     "start_time": "2021-10-14T13:18:33.144174Z"
    }
   },
   "outputs": [
    {
     "data": {
      "text/plain": [
       "<AxesSubplot:>"
      ]
     },
     "execution_count": 36,
     "metadata": {},
     "output_type": "execute_result"
    },
    {
     "data": {
      "image/png": "[encoded data removed]",
      "text/plain": [
       "<Figure size 432x288 with 1 Axes>"
      ]
     },
     "metadata": {
      "needs_background": "light"
     },
     "output_type": "display_data"
    }
   ],
   "source": [
    "# Valores de Mi\n",
    "(abs(df['frp_log']-df['frp_log'].median())/mad).hist()"
   ]
  },
  {
   "cell_type": "code",
   "execution_count": 99,
   "id": "5ff87343",
   "metadata": {
    "ExecuteTime": {
     "end_time": "2021-10-14T14:42:37.067118Z",
     "start_time": "2021-10-14T14:42:37.039871Z"
    }
   },
   "outputs": [
    {
     "data": {
      "text/html": [
       "<div>\n",
       "<style scoped>\n",
       "    .dataframe tbody tr th:only-of-type {\n",
       "        vertical-align: middle;\n",
       "    }\n",
       "\n",
       "    .dataframe tbody tr th {\n",
       "        vertical-align: top;\n",
       "    }\n",
       "\n",
       "    .dataframe thead th {\n",
       "        text-align: right;\n",
       "    }\n",
       "</style>\n",
       "<table border=\"1\" class=\"dataframe\">\n",
       "  <thead>\n",
       "    <tr style=\"text-align: right;\">\n",
       "      <th></th>\n",
       "      <th>datahora</th>\n",
       "      <th>municipio</th>\n",
       "      <th>diasemchuva</th>\n",
       "      <th>precipitacao</th>\n",
       "      <th>riscofogo</th>\n",
       "      <th>latitude</th>\n",
       "      <th>longitude</th>\n",
       "      <th>frp</th>\n",
       "      <th>frp_norm</th>\n",
       "      <th>categorias_riscofogo</th>\n",
       "      <th>frp_log</th>\n",
       "    </tr>\n",
       "  </thead>\n",
       "  <tbody>\n",
       "    <tr>\n",
       "      <th>1513</th>\n",
       "      <td>2021-07-21 16:55:00</td>\n",
       "      <td>NOVO PROGRESSO</td>\n",
       "      <td>11.0</td>\n",
       "      <td>0.0</td>\n",
       "      <td>0.8</td>\n",
       "      <td>-6.79200</td>\n",
       "      <td>-55.23500</td>\n",
       "      <td>816.6</td>\n",
       "      <td>0.229761</td>\n",
       "      <td>RF Alto</td>\n",
       "      <td>2.912009</td>\n",
       "    </tr>\n",
       "    <tr>\n",
       "      <th>2203</th>\n",
       "      <td>2021-07-29 17:49:00</td>\n",
       "      <td>ITAITUBA</td>\n",
       "      <td>12.0</td>\n",
       "      <td>0.0</td>\n",
       "      <td>0.8</td>\n",
       "      <td>-6.19287</td>\n",
       "      <td>-55.32591</td>\n",
       "      <td>1869.1</td>\n",
       "      <td>0.527061</td>\n",
       "      <td>RF Alto</td>\n",
       "      <td>3.271633</td>\n",
       "    </tr>\n",
       "    <tr>\n",
       "      <th>2235</th>\n",
       "      <td>2021-07-29 17:49:00</td>\n",
       "      <td>ITAITUBA</td>\n",
       "      <td>20.0</td>\n",
       "      <td>0.0</td>\n",
       "      <td>1.0</td>\n",
       "      <td>-6.51242</td>\n",
       "      <td>-55.29427</td>\n",
       "      <td>783.4</td>\n",
       "      <td>0.220383</td>\n",
       "      <td>RF Crítico</td>\n",
       "      <td>2.893984</td>\n",
       "    </tr>\n",
       "    <tr>\n",
       "      <th>2325</th>\n",
       "      <td>2021-07-30 16:54:00</td>\n",
       "      <td>NOVO PROGRESSO</td>\n",
       "      <td>22.0</td>\n",
       "      <td>0.0</td>\n",
       "      <td>0.9</td>\n",
       "      <td>-7.27305</td>\n",
       "      <td>-55.48598</td>\n",
       "      <td>940.9</td>\n",
       "      <td>0.264872</td>\n",
       "      <td>RF Alto</td>\n",
       "      <td>2.973543</td>\n",
       "    </tr>\n",
       "    <tr>\n",
       "      <th>2388</th>\n",
       "      <td>2021-07-31 17:37:00</td>\n",
       "      <td>ALTAMIRA</td>\n",
       "      <td>21.0</td>\n",
       "      <td>0.1</td>\n",
       "      <td>0.9</td>\n",
       "      <td>-6.36802</td>\n",
       "      <td>-55.22302</td>\n",
       "      <td>851.9</td>\n",
       "      <td>0.239732</td>\n",
       "      <td>RF Alto</td>\n",
       "      <td>2.930389</td>\n",
       "    </tr>\n",
       "    <tr>\n",
       "      <th>...</th>\n",
       "      <td>...</td>\n",
       "      <td>...</td>\n",
       "      <td>...</td>\n",
       "      <td>...</td>\n",
       "      <td>...</td>\n",
       "      <td>...</td>\n",
       "      <td>...</td>\n",
       "      <td>...</td>\n",
       "      <td>...</td>\n",
       "      <td>...</td>\n",
       "      <td>...</td>\n",
       "    </tr>\n",
       "    <tr>\n",
       "      <th>9282</th>\n",
       "      <td>2021-08-24 16:48:00</td>\n",
       "      <td>SAO FELIX DO XINGU</td>\n",
       "      <td>10.0</td>\n",
       "      <td>0.0</td>\n",
       "      <td>1.0</td>\n",
       "      <td>-5.35201</td>\n",
       "      <td>-51.21677</td>\n",
       "      <td>1229.4</td>\n",
       "      <td>0.346365</td>\n",
       "      <td>RF Crítico</td>\n",
       "      <td>3.089693</td>\n",
       "    </tr>\n",
       "    <tr>\n",
       "      <th>9308</th>\n",
       "      <td>2021-08-24 16:48:00</td>\n",
       "      <td>SAO FELIX DO XINGU</td>\n",
       "      <td>17.0</td>\n",
       "      <td>0.0</td>\n",
       "      <td>1.0</td>\n",
       "      <td>-5.58183</td>\n",
       "      <td>-51.64378</td>\n",
       "      <td>1199.6</td>\n",
       "      <td>0.337947</td>\n",
       "      <td>RF Crítico</td>\n",
       "      <td>3.079036</td>\n",
       "    </tr>\n",
       "    <tr>\n",
       "      <th>10050</th>\n",
       "      <td>2021-08-29 17:07:00</td>\n",
       "      <td>PACAJA</td>\n",
       "      <td>2.0</td>\n",
       "      <td>0.0</td>\n",
       "      <td>0.5</td>\n",
       "      <td>-4.06327</td>\n",
       "      <td>-50.88024</td>\n",
       "      <td>840.3</td>\n",
       "      <td>0.236456</td>\n",
       "      <td>RF Médio</td>\n",
       "      <td>2.924434</td>\n",
       "    </tr>\n",
       "    <tr>\n",
       "      <th>10051</th>\n",
       "      <td>2021-08-29 17:07:00</td>\n",
       "      <td>PACAJA</td>\n",
       "      <td>2.0</td>\n",
       "      <td>0.0</td>\n",
       "      <td>0.5</td>\n",
       "      <td>-4.06461</td>\n",
       "      <td>-50.88953</td>\n",
       "      <td>1363.1</td>\n",
       "      <td>0.384131</td>\n",
       "      <td>RF Médio</td>\n",
       "      <td>3.134528</td>\n",
       "    </tr>\n",
       "    <tr>\n",
       "      <th>10105</th>\n",
       "      <td>2021-08-31 16:52:00</td>\n",
       "      <td>ALTAMIRA</td>\n",
       "      <td>0.0</td>\n",
       "      <td>0.1</td>\n",
       "      <td>0.4</td>\n",
       "      <td>-8.00042</td>\n",
       "      <td>-55.00460</td>\n",
       "      <td>1152.0</td>\n",
       "      <td>0.324501</td>\n",
       "      <td>RF Baixo</td>\n",
       "      <td>3.061452</td>\n",
       "    </tr>\n",
       "  </tbody>\n",
       "</table>\n",
       "<p>129 rows × 11 columns</p>\n",
       "</div>"
      ],
      "text/plain": [
       "                 datahora           municipio  diasemchuva  precipitacao  \\\n",
       "1513  2021-07-21 16:55:00      NOVO PROGRESSO         11.0           0.0   \n",
       "2203  2021-07-29 17:49:00            ITAITUBA         12.0           0.0   \n",
       "2235  2021-07-29 17:49:00            ITAITUBA         20.0           0.0   \n",
       "2325  2021-07-30 16:54:00      NOVO PROGRESSO         22.0           0.0   \n",
       "2388  2021-07-31 17:37:00            ALTAMIRA         21.0           0.1   \n",
       "...                   ...                 ...          ...           ...   \n",
       "9282  2021-08-24 16:48:00  SAO FELIX DO XINGU         10.0           0.0   \n",
       "9308  2021-08-24 16:48:00  SAO FELIX DO XINGU         17.0           0.0   \n",
       "10050 2021-08-29 17:07:00              PACAJA          2.0           0.0   \n",
       "10051 2021-08-29 17:07:00              PACAJA          2.0           0.0   \n",
       "10105 2021-08-31 16:52:00            ALTAMIRA          0.0           0.1   \n",
       "\n",
       "       riscofogo  latitude  longitude     frp  frp_norm categorias_riscofogo  \\\n",
       "1513         0.8  -6.79200  -55.23500   816.6  0.229761              RF Alto   \n",
       "2203         0.8  -6.19287  -55.32591  1869.1  0.527061              RF Alto   \n",
       "2235         1.0  -6.51242  -55.29427   783.4  0.220383           RF Crítico   \n",
       "2325         0.9  -7.27305  -55.48598   940.9  0.264872              RF Alto   \n",
       "2388         0.9  -6.36802  -55.22302   851.9  0.239732              RF Alto   \n",
       "...          ...       ...        ...     ...       ...                  ...   \n",
       "9282         1.0  -5.35201  -51.21677  1229.4  0.346365           RF Crítico   \n",
       "9308         1.0  -5.58183  -51.64378  1199.6  0.337947           RF Crítico   \n",
       "10050        0.5  -4.06327  -50.88024   840.3  0.236456             RF Médio   \n",
       "10051        0.5  -4.06461  -50.88953  1363.1  0.384131             RF Médio   \n",
       "10105        0.4  -8.00042  -55.00460  1152.0  0.324501             RF Baixo   \n",
       "\n",
       "        frp_log  \n",
       "1513   2.912009  \n",
       "2203   3.271633  \n",
       "2235   2.893984  \n",
       "2325   2.973543  \n",
       "2388   2.930389  \n",
       "...         ...  \n",
       "9282   3.089693  \n",
       "9308   3.079036  \n",
       "10050  2.924434  \n",
       "10051  3.134528  \n",
       "10105  3.061452  \n",
       "\n",
       "[129 rows x 11 columns]"
      ]
     },
     "execution_count": 99,
     "metadata": {},
     "output_type": "execute_result"
    }
   ],
   "source": [
    "# Verificação dos outliers pelo método Z-Score Robusto\n",
    "limiar = 3.5\n",
    "df[abs(df['frp_log']-df['frp_log'].median())/mad > limiar]"
   ]
  },
  {
   "cell_type": "markdown",
   "id": "b803bcdd",
   "metadata": {},
   "source": [
    "**Conclusões a cerca dos métodos para detecção dos Outliers**\n",
    "\n",
    "Analisando-se os resultados dos métodos acima para a avaliação dos Outliers, concluiu-se que a aplicação do método de Tukey ao Dataset, excluiria muitos pontos de fundamental importância para as conclusões finais a cerca do Dataset.\n",
    "\n",
    "Os resultados obtidos a partir do Z-Score Robusto também levou a mesma conclusão obtida com o método de Tukey e, por isso, optou-se pela não exclusão dos Outliers."
   ]
  },
  {
   "cell_type": "markdown",
   "id": "3c06a1af",
   "metadata": {},
   "source": [
    "### Estatísticas Descritivas"
   ]
  },
  {
   "cell_type": "markdown",
   "id": "952207a1",
   "metadata": {},
   "source": [
    "#### Correlação"
   ]
  },
  {
   "cell_type": "code",
   "execution_count": 106,
   "id": "f5abf9de",
   "metadata": {
    "ExecuteTime": {
     "end_time": "2021-10-14T14:51:22.231327Z",
     "start_time": "2021-10-14T14:51:22.226593Z"
    }
   },
   "outputs": [],
   "source": [
    "# Análise da Correlação entre as colunas 'riscofogo', 'precipitacao', 'latitude' e 'longitude'\n",
    "df_corr_test = pd.DataFrame(df, columns=['riscofogo', 'precipitacao','latitude','longitude','frp']) \n",
    "df_corr = df_corr_test.corr() # calcula a correlação"
   ]
  },
  {
   "cell_type": "code",
   "execution_count": 109,
   "id": "60ff3755",
   "metadata": {
    "ExecuteTime": {
     "end_time": "2021-10-14T14:52:34.096272Z",
     "start_time": "2021-10-14T14:52:33.902057Z"
    }
   },
   "outputs": [
    {
     "data": {
      "image/png": "[encoded data removed]",
      "text/plain": [
       "<Figure size 576x576 with 2 Axes>"
      ]
     },
     "metadata": {
      "needs_background": "light"
     },
     "output_type": "display_data"
    }
   ],
   "source": [
    "# Gerando o gráfico da correlação\n",
    "plt.figure(figsize=(8,8))\n",
    "\n",
    "mascara = np.zeros_like(df_corr)\n",
    "mascara[np.triu_indices_from(mascara)] = True\n",
    "\n",
    "sns.heatmap(df_corr,annot=True, linewidths=2, mask=mascara, fmt='.2f', cbar_kws={\"orientation\": \"horizontal\"}, cmap='inferno') #cmap='inferno', vmin=-1, vmax=1\n",
    "\n",
    "plt.show()"
   ]
  },
  {
   "cell_type": "markdown",
   "id": "37fc7544",
   "metadata": {},
   "source": [
    "**A partir das informações da tabela de correlação conclui-se:**\n",
    "* Há uma forte correlação entre o risco de fogo e a latitude;\n",
    "* Quanto menor o valor da latitude maior o risco de fogo, ou seja, quanto mais afastado da linha do Equador em direção ao sul do Brasil, maior o risco de fogo no estado do Pará;\n",
    "* Também verifica-se uma boa correlação entre o risco de fogo e a precipitação de chuva acumulada para o dia avaliado. Quanto menor for o volume de chuva maior será o risco de fogo;\n",
    "* Não foi verificada correlação expressiva entre a potência radiativa de queima e o risco de fogo."
   ]
  },
  {
   "cell_type": "code",
   "execution_count": 39,
   "id": "96025c10",
   "metadata": {
    "ExecuteTime": {
     "end_time": "2021-10-14T13:18:33.352151Z",
     "start_time": "2021-10-14T13:18:33.344652Z"
    }
   },
   "outputs": [
    {
     "data": {
      "text/plain": [
       "1.0    2489\n",
       "0.9    1961\n",
       "0.8    1230\n",
       "0.7     693\n",
       "0.6     377\n",
       "0.5     252\n",
       "0.0     179\n",
       "0.4     159\n",
       "0.3     104\n",
       "0.1      89\n",
       "0.2      81\n",
       "Name: riscofogo, dtype: int64"
      ]
     },
     "execution_count": 39,
     "metadata": {},
     "output_type": "execute_result"
    }
   ],
   "source": [
    "# Cálculo das frequências do risco de fogo para latitudes menores que -5°\n",
    "df[df['latitude'] < -5.0]['riscofogo'].value_counts()"
   ]
  },
  {
   "cell_type": "code",
   "execution_count": 40,
   "id": "825d60ef",
   "metadata": {
    "ExecuteTime": {
     "end_time": "2021-10-14T13:18:33.359528Z",
     "start_time": "2021-10-14T13:18:33.353430Z"
    }
   },
   "outputs": [
    {
     "data": {
      "text/plain": [
       "0.0    877\n",
       "0.1    448\n",
       "0.2    253\n",
       "0.5    211\n",
       "0.3    176\n",
       "0.4    172\n",
       "0.6     99\n",
       "1.0     93\n",
       "0.9     69\n",
       "0.7     61\n",
       "0.8     60\n",
       "Name: riscofogo, dtype: int64"
      ]
     },
     "execution_count": 40,
     "metadata": {},
     "output_type": "execute_result"
    }
   ],
   "source": [
    "# Cálculo das frequências do risco de fogo para latitudes maiores que -5°\n",
    "df[df['latitude'] > -5.0]['riscofogo'].value_counts()"
   ]
  },
  {
   "cell_type": "markdown",
   "id": "d797acd7",
   "metadata": {},
   "source": [
    "**Verificação da informação obtida através da tabela de correlação:**\n",
    "A maior parte do estado do Pará está localizado, aproximadamente, entre as latitudes 2° e -10°, por isso foi realizada a verificação das frequências de valores para risco de fogo para valores da latitude menores e maiores que -5°. Dos resultados obtidos, observou-se que as maiores frequências para risco de fogo, maior ou igual a 0.9, ocorrem para latitudes menores que -5°. Isso ratifica a conclusão encontrada anteriormente por meio da tabela de correlação: quanto menor a latitude maior o risco de fogo. "
   ]
  },
  {
   "cell_type": "markdown",
   "id": "5e38d73d",
   "metadata": {},
   "source": [
    "#### Cálculo das Médias"
   ]
  },
  {
   "cell_type": "code",
   "execution_count": 42,
   "id": "023ef57a",
   "metadata": {
    "ExecuteTime": {
     "end_time": "2021-10-14T13:20:55.331436Z",
     "start_time": "2021-10-14T13:20:55.327408Z"
    }
   },
   "outputs": [
    {
     "data": {
      "text/plain": [
       "13.18"
      ]
     },
     "execution_count": 42,
     "metadata": {},
     "output_type": "execute_result"
    }
   ],
   "source": [
    "# Média dos dias sem chuva\n",
    "round(df['diasemchuva'].mean(), 2)"
   ]
  },
  {
   "cell_type": "code",
   "execution_count": 43,
   "id": "796f4993",
   "metadata": {
    "ExecuteTime": {
     "end_time": "2021-10-14T13:22:46.133063Z",
     "start_time": "2021-10-14T13:22:46.129573Z"
    }
   },
   "outputs": [
    {
     "data": {
      "text/plain": [
       "0.65"
      ]
     },
     "execution_count": 43,
     "metadata": {},
     "output_type": "execute_result"
    }
   ],
   "source": [
    "# Média do volume de precipitação acumulada por dia\n",
    "round(df['precipitacao'].mean(), 2)"
   ]
  },
  {
   "cell_type": "code",
   "execution_count": 44,
   "id": "2a27da9f",
   "metadata": {
    "ExecuteTime": {
     "end_time": "2021-10-14T13:23:53.870286Z",
     "start_time": "2021-10-14T13:23:53.867005Z"
    }
   },
   "outputs": [
    {
     "data": {
      "text/plain": [
       "0.67"
      ]
     },
     "execution_count": 44,
     "metadata": {},
     "output_type": "execute_result"
    }
   ],
   "source": [
    "# Média do risco de fogo\n",
    "round(df['riscofogo'].mean(), 2)"
   ]
  },
  {
   "cell_type": "code",
   "execution_count": 45,
   "id": "6897e7f7",
   "metadata": {
    "ExecuteTime": {
     "end_time": "2021-10-14T13:24:49.372190Z",
     "start_time": "2021-10-14T13:24:49.368432Z"
    }
   },
   "outputs": [
    {
     "data": {
      "text/plain": [
       "84.38"
      ]
     },
     "execution_count": 45,
     "metadata": {},
     "output_type": "execute_result"
    }
   ],
   "source": [
    "# Média da potência radiativa de queima (frp)\n",
    "round(df['frp'].mean(), 2)"
   ]
  },
  {
   "cell_type": "markdown",
   "id": "864c1f44",
   "metadata": {},
   "source": [
    "#### Cálculo dos desvios padrão"
   ]
  },
  {
   "cell_type": "code",
   "execution_count": 47,
   "id": "c3e69b8e",
   "metadata": {
    "ExecuteTime": {
     "end_time": "2021-10-14T13:28:40.683191Z",
     "start_time": "2021-10-14T13:28:40.679346Z"
    }
   },
   "outputs": [
    {
     "data": {
      "text/plain": [
       "15.7"
      ]
     },
     "execution_count": 47,
     "metadata": {},
     "output_type": "execute_result"
    }
   ],
   "source": [
    "# Desvio padrão dos dias sem chuva\n",
    "round(df['diasemchuva'].std(), 2)"
   ]
  },
  {
   "cell_type": "code",
   "execution_count": 49,
   "id": "6012f670",
   "metadata": {
    "ExecuteTime": {
     "end_time": "2021-10-14T13:28:56.922205Z",
     "start_time": "2021-10-14T13:28:56.918677Z"
    }
   },
   "outputs": [
    {
     "data": {
      "text/plain": [
       "2.91"
      ]
     },
     "execution_count": 49,
     "metadata": {},
     "output_type": "execute_result"
    }
   ],
   "source": [
    "# Desvio padrão do volume de precipitação acumulada por dia\n",
    "round(df['precipitacao'].std(), 2)"
   ]
  },
  {
   "cell_type": "code",
   "execution_count": 50,
   "id": "15b42073",
   "metadata": {
    "ExecuteTime": {
     "end_time": "2021-10-14T13:29:04.698227Z",
     "start_time": "2021-10-14T13:29:04.694546Z"
    }
   },
   "outputs": [
    {
     "data": {
      "text/plain": [
       "0.35"
      ]
     },
     "execution_count": 50,
     "metadata": {},
     "output_type": "execute_result"
    }
   ],
   "source": [
    "# Desvio padrão do risco de fogo\n",
    "round(df['riscofogo'].std(), 2)"
   ]
  },
  {
   "cell_type": "code",
   "execution_count": 53,
   "id": "7d4d4113",
   "metadata": {
    "ExecuteTime": {
     "end_time": "2021-10-14T13:36:10.281743Z",
     "start_time": "2021-10-14T13:36:10.277363Z"
    }
   },
   "outputs": [
    {
     "data": {
      "text/plain": [
       "187.33"
      ]
     },
     "execution_count": 53,
     "metadata": {},
     "output_type": "execute_result"
    }
   ],
   "source": [
    "# Desvio padrão da potência radiativa de queima (frp)\n",
    "round(df['frp'].std(), 2)"
   ]
  },
  {
   "cell_type": "markdown",
   "id": "b3ee0163",
   "metadata": {
    "ExecuteTime": {
     "end_time": "2021-10-14T13:33:26.066032Z",
     "start_time": "2021-10-14T13:33:26.059666Z"
    }
   },
   "source": [
    "#### Cálculo das Medianas"
   ]
  },
  {
   "cell_type": "code",
   "execution_count": 54,
   "id": "a1866ffe",
   "metadata": {
    "ExecuteTime": {
     "end_time": "2021-10-14T13:37:56.649972Z",
     "start_time": "2021-10-14T13:37:56.646641Z"
    }
   },
   "outputs": [
    {
     "data": {
      "text/plain": [
       "7.0"
      ]
     },
     "execution_count": 54,
     "metadata": {},
     "output_type": "execute_result"
    }
   ],
   "source": [
    "# Médiana dos dias sem chuva\n",
    "round(df['diasemchuva'].median(), 2)"
   ]
  },
  {
   "cell_type": "code",
   "execution_count": 58,
   "id": "a68d89da",
   "metadata": {
    "ExecuteTime": {
     "end_time": "2021-10-14T13:40:07.847469Z",
     "start_time": "2021-10-14T13:40:07.843964Z"
    }
   },
   "outputs": [
    {
     "data": {
      "text/plain": [
       "0.0"
      ]
     },
     "execution_count": 58,
     "metadata": {},
     "output_type": "execute_result"
    }
   ],
   "source": [
    "# Médiana do volume de precipitação acumulada por dia\n",
    "round(df['precipitacao'].median(), 2)"
   ]
  },
  {
   "cell_type": "code",
   "execution_count": 56,
   "id": "4925aa77",
   "metadata": {
    "ExecuteTime": {
     "end_time": "2021-10-14T13:39:44.190087Z",
     "start_time": "2021-10-14T13:39:44.186339Z"
    }
   },
   "outputs": [
    {
     "data": {
      "text/plain": [
       "0.8"
      ]
     },
     "execution_count": 56,
     "metadata": {},
     "output_type": "execute_result"
    }
   ],
   "source": [
    "# Médiana do risco de fogo\n",
    "round(df['riscofogo'].median(), 2)"
   ]
  },
  {
   "cell_type": "code",
   "execution_count": 57,
   "id": "b26952ce",
   "metadata": {
    "ExecuteTime": {
     "end_time": "2021-10-14T13:39:46.734824Z",
     "start_time": "2021-10-14T13:39:46.730398Z"
    }
   },
   "outputs": [
    {
     "data": {
      "text/plain": [
       "32.5"
      ]
     },
     "execution_count": 57,
     "metadata": {},
     "output_type": "execute_result"
    }
   ],
   "source": [
    "# Médiana da potência radiativa de queima (frp)\n",
    "round(df['frp'].median(), 2)"
   ]
  },
  {
   "cell_type": "markdown",
   "id": "6c733101",
   "metadata": {},
   "source": [
    "#### Cálculo da Moda"
   ]
  },
  {
   "cell_type": "code",
   "execution_count": 59,
   "id": "5cc5ec81",
   "metadata": {
    "ExecuteTime": {
     "end_time": "2021-10-14T13:42:36.837716Z",
     "start_time": "2021-10-14T13:42:36.832707Z"
    }
   },
   "outputs": [
    {
     "data": {
      "text/plain": [
       "0    6.0\n",
       "dtype: float64"
      ]
     },
     "execution_count": 59,
     "metadata": {},
     "output_type": "execute_result"
    }
   ],
   "source": [
    "# Moda dos dias sem chuva\n",
    "df['diasemchuva'].mode()"
   ]
  },
  {
   "cell_type": "code",
   "execution_count": 60,
   "id": "3b11a153",
   "metadata": {
    "ExecuteTime": {
     "end_time": "2021-10-14T13:43:56.800592Z",
     "start_time": "2021-10-14T13:43:56.796453Z"
    }
   },
   "outputs": [
    {
     "data": {
      "text/plain": [
       "0    0.0\n",
       "dtype: float64"
      ]
     },
     "execution_count": 60,
     "metadata": {},
     "output_type": "execute_result"
    }
   ],
   "source": [
    "# Moda do volume de precipitação acumulada por dia\n",
    "df['precipitacao'].mode()"
   ]
  },
  {
   "cell_type": "code",
   "execution_count": 61,
   "id": "692e1351",
   "metadata": {
    "ExecuteTime": {
     "end_time": "2021-10-14T13:43:59.059652Z",
     "start_time": "2021-10-14T13:43:59.053504Z"
    }
   },
   "outputs": [
    {
     "data": {
      "text/plain": [
       "0    1.0\n",
       "dtype: float64"
      ]
     },
     "execution_count": 61,
     "metadata": {},
     "output_type": "execute_result"
    }
   ],
   "source": [
    "# Moda do risco de fogo\n",
    "df['riscofogo'].mode()"
   ]
  },
  {
   "cell_type": "code",
   "execution_count": 62,
   "id": "8aeb4de9",
   "metadata": {
    "ExecuteTime": {
     "end_time": "2021-10-14T13:44:01.458017Z",
     "start_time": "2021-10-14T13:44:01.452169Z"
    }
   },
   "outputs": [
    {
     "data": {
      "text/plain": [
       "0    11.8\n",
       "dtype: float64"
      ]
     },
     "execution_count": 62,
     "metadata": {},
     "output_type": "execute_result"
    }
   ],
   "source": [
    "# Moda da potência radiativa de queima (frp)\n",
    "df['frp'].mode()"
   ]
  },
  {
   "cell_type": "markdown",
   "id": "78ab6559",
   "metadata": {},
   "source": [
    "### Conclusões adicionais sobre o DataSet"
   ]
  },
  {
   "cell_type": "markdown",
   "id": "16671002",
   "metadata": {},
   "source": [
    "#### Relação dos 5 municípios com maior concentração de focos de incêndio (risco de fogo > 0.95)"
   ]
  },
  {
   "cell_type": "code",
   "execution_count": 72,
   "id": "a8337c90",
   "metadata": {
    "ExecuteTime": {
     "end_time": "2021-10-14T13:53:48.841728Z",
     "start_time": "2021-10-14T13:53:48.835097Z"
    }
   },
   "outputs": [
    {
     "data": {
      "text/plain": [
       "ALTAMIRA                     670\n",
       "NOVO PROGRESSO               583\n",
       "SAO FELIX DO XINGU           484\n",
       "SANTANA DO ARAGUAIA          131\n",
       "SANTA MARIA DAS BARREIRAS    116\n",
       "Name: municipio, dtype: int64"
      ]
     },
     "execution_count": 72,
     "metadata": {},
     "output_type": "execute_result"
    }
   ],
   "source": [
    "df['municipio'][df['riscofogo'] > 0.95].value_counts()[:5]"
   ]
  },
  {
   "cell_type": "markdown",
   "id": "ecb68ac4",
   "metadata": {},
   "source": [
    "#### Relação dos municípios com maior área degradada pelas queimadas"
   ]
  },
  {
   "cell_type": "code",
   "execution_count": 77,
   "id": "83eb81bd",
   "metadata": {
    "ExecuteTime": {
     "end_time": "2021-10-14T14:00:32.836323Z",
     "start_time": "2021-10-14T14:00:32.828720Z"
    }
   },
   "outputs": [
    {
     "data": {
      "text/plain": [
       "NOVO PROGRESSO        28\n",
       "ALTAMIRA              28\n",
       "SAO FELIX DO XINGU    22\n",
       "AVEIRO                 2\n",
       "ITAITUBA               1\n",
       "PACAJA                 1\n",
       "TRAIRAO                1\n",
       "Name: municipio, dtype: int64"
      ]
     },
     "execution_count": 77,
     "metadata": {},
     "output_type": "execute_result"
    }
   ],
   "source": [
    "df['municipio'][df['frp'] > 1000].value_counts()[:7]"
   ]
  },
  {
   "cell_type": "code",
   "execution_count": 98,
   "id": "255e28b1",
   "metadata": {
    "ExecuteTime": {
     "end_time": "2021-10-14T14:26:33.039416Z",
     "start_time": "2021-10-14T14:26:32.324565Z"
    }
   },
   "outputs": [
    {
     "data": {
      "text/plain": [
       "<AxesSubplot:ylabel='municipio'>"
      ]
     },
     "execution_count": 98,
     "metadata": {},
     "output_type": "execute_result"
    },
    {
     "data": {
      "image/png": "[encoded data removed]",
      "text/plain": [
       "<Figure size 360x720 with 1 Axes>"
      ]
     },
     "metadata": {},
     "output_type": "display_data"
    }
   ],
   "source": [
    "df['municipio'][df['frp'] > 1000].value_counts().plot.pie(shadow=True, figsize=(5,10), center=(5,0))"
   ]
  },
  {
   "cell_type": "markdown",
   "id": "4e4cabd0",
   "metadata": {},
   "source": [
    "A **potência radiativa de queima (do inglês Fire Radiative Power, FRP)**, é uma taxa de energia,\n",
    "que na forma de radiação eletromagnética emitida pelo fogo, ou liberada no processo de\n",
    "combustão, constitui-se como um indicador da quantidade de biomassa queimada.\n",
    "Com o filtro aplicado acima para FRP maior que 1000, verificou-se que os municípios que apresentaram maior área degradada pelas queimadas são: Novo Progresso, Altamira e São Felix do Xingu."
   ]
  }
 ],
 "metadata": {
  "kernelspec": {
   "display_name": "Python 3",
   "language": "python",
   "name": "python3"
  },
  "language_info": {
   "codemirror_mode": {
    "name": "ipython",
    "version": 3
   },
   "file_extension": ".py",
   "mimetype": "text/x-python",
   "name": "python",
   "nbconvert_exporter": "python",
   "pygments_lexer": "ipython3",
   "version": "3.8.8"
  },
  "varInspector": {
   "cols": {
    "lenName": 16,
    "lenType": 16,
    "lenVar": 40
   },
   "kernels_config": {
    "python": {
     "delete_cmd_postfix": "",
     "delete_cmd_prefix": "del ",
     "library": "var_list.py",
     "varRefreshCmd": "print(var_dic_list())"
    },
    "r": {
     "delete_cmd_postfix": ") ",
     "delete_cmd_prefix": "rm(",
     "library": "var_list.r",
     "varRefreshCmd": "cat(var_dic_list()) "
    }
   },
   "types_to_exclude": [
    "module",
    "function",
    "builtin_function_or_method",
    "instance",
    "_Feature"
   ],
   "window_display": false
  }
 },
 "nbformat": 4,
 "nbformat_minor": 5
}
